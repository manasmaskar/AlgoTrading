{
 "cells": [
  {
   "cell_type": "code",
   "execution_count": 1,
   "metadata": {},
   "outputs": [],
   "source": [
    "import pandas as pd\n",
    "import numpy as np\n",
    "import matplotlib.pyplot as plt\n",
    "import statsmodels.api as sm\n",
    "\n",
    "from scipy.optimize import brute\n",
    "from decimal import Decimal, getcontext\n",
    "from statsmodels.tsa.stattools import coint\n",
    "import os"
   ]
  },
  {
   "cell_type": "code",
   "execution_count": 2,
   "metadata": {},
   "outputs": [
    {
     "name": "stdout",
     "output_type": "stream",
     "text": [
      "Loaded 29 files.\n",
      "                         Local time     Open     High      Low    Close  \\\n",
      "0  01.01.2020 00:00:00.000 GMT-0500  1.29853  1.29853  1.29853  1.29853   \n",
      "1  01.01.2020 01:00:00.000 GMT-0500  1.29853  1.29853  1.29853  1.29853   \n",
      "2  01.01.2020 02:00:00.000 GMT-0500  1.29853  1.29853  1.29853  1.29853   \n",
      "3  01.01.2020 03:00:00.000 GMT-0500  1.29853  1.29853  1.29853  1.29853   \n",
      "4  01.01.2020 04:00:00.000 GMT-0500  1.29853  1.29853  1.29853  1.29853   \n",
      "\n",
      "   Volume  \n",
      "0     0.0  \n",
      "1     0.0  \n",
      "2     0.0  \n",
      "3     0.0  \n",
      "4     0.0  \n"
     ]
    }
   ],
   "source": [
    "\n",
    "directory_path = '/Users/manasmaskar/Rutgers/Fall24/Algo Trading/HomeWork/HW1/DataFiles'\n",
    "\n",
    "# List all files in the directory (assuming they are CSV files)\n",
    "files = [f for f in os.listdir(directory_path) if f.endswith('.csv')]\n",
    "\n",
    "# Initialize a dictionary to store each DataFrame, with filenames as keys\n",
    "data_dict = {}\n",
    "\n",
    "# Loop over each file and read it into a DataFrame\n",
    "for file in files:\n",
    "    file_path = os.path.join(directory_path, file)\n",
    "    # Read the CSV file into a DataFrame\n",
    "    df = pd.read_csv(file_path)\n",
    "    \n",
    "    # Use the filename (without extension) as the key in the dictionary\n",
    "    data_dict[file] = df\n",
    "\n",
    "# Check if all files have been loaded successfully\n",
    "print(f\"Loaded {len(data_dict)} files.\")\n",
    "\n",
    "# Example: Access one of the DataFrames (e.g., for the first file)\n",
    "print(data_dict[files[0]].head())  # Display the first few rows of the first DataFrame\n"
   ]
  },
  {
   "cell_type": "code",
   "execution_count": 3,
   "metadata": {},
   "outputs": [
    {
     "name": "stdout",
     "output_type": "stream",
     "text": [
      "      Open     High      Low    Close  Volume                Time\n",
      "0  1.29853  1.29853  1.29853  1.29853     0.0 2020-01-01 00:00:00\n",
      "1  1.29853  1.29853  1.29853  1.29853     0.0 2020-01-01 01:00:00\n",
      "2  1.29853  1.29853  1.29853  1.29853     0.0 2020-01-01 02:00:00\n",
      "3  1.29853  1.29853  1.29853  1.29853     0.0 2020-01-01 03:00:00\n",
      "4  1.29853  1.29853  1.29853  1.29853     0.0 2020-01-01 04:00:00\n"
     ]
    }
   ],
   "source": [
    "#Clean the Local time by removing the GMT - 5:00\n",
    "import re\n",
    "\n",
    "# Loop through all dataframes in the dictionary and clean the 'Local time' column\n",
    "for file, df in data_dict.items():\n",
    "    # Use regex to remove any GMT offset (e.g., GMT-0500, GMT-0400, etc.)\n",
    "    df['Time'] = df['Local time'].str.replace(r' GMT[+-]\\d{4}', '', regex=True)\n",
    "    \n",
    "    # Convert the cleaned datetime string to a proper pandas datetime object\n",
    "    df['Time'] = pd.to_datetime(df['Time'], format='%d.%m.%Y %H:%M:%S.%f')\n",
    "    \n",
    "    # Drop the old 'Local time' column if you no longer need it\n",
    "    df.drop(columns=['Local time'], inplace=True)\n",
    "\n",
    "# Check the cleaned data\n",
    "print(data_dict[files[0]].head())  # Display the first few rows of the first DataFrame after cleaning\n",
    "\n"
   ]
  },
  {
   "cell_type": "code",
   "execution_count": 4,
   "metadata": {},
   "outputs": [
    {
     "name": "stdout",
     "output_type": "stream",
     "text": [
      "USDCAD_Candlestick_1_Hour_BID_01_df:\n",
      "                 Time    Close\n",
      "0 2020-01-01 00:00:00  1.29853\n",
      "1 2020-01-01 01:00:00  1.29853\n",
      "2 2020-01-01 02:00:00  1.29853\n",
      "3 2020-01-01 03:00:00  1.29853\n",
      "4 2020-01-01 04:00:00  1.29853 \n",
      "\n",
      "UKGILT_df:\n",
      "                 Time    Close\n",
      "0 2020-01-01 00:00:00  131.274\n",
      "1 2020-01-01 01:00:00  131.274\n",
      "2 2020-01-01 02:00:00  131.274\n",
      "3 2020-01-01 03:00:00  131.274\n",
      "4 2020-01-01 04:00:00  131.274 \n",
      "\n",
      "AUDUSD_Candlestick_1_Hour_BID_01_df:\n",
      "                 Time    Close\n",
      "0 2020-01-01 00:00:00  0.70115\n",
      "1 2020-01-01 01:00:00  0.70115\n",
      "2 2020-01-01 02:00:00  0.70115\n",
      "3 2020-01-01 03:00:00  0.70115\n",
      "4 2020-01-01 04:00:00  0.70115 \n",
      "\n",
      "BRENT_df:\n",
      "                 Time   Close\n",
      "0 2020-01-01 00:00:00  65.995\n",
      "1 2020-01-01 01:00:00  65.995\n",
      "2 2020-01-01 02:00:00  65.995\n",
      "3 2020-01-01 03:00:00  65.995\n",
      "4 2020-01-01 04:00:00  65.995 \n",
      "\n",
      "DOLLAR_df:\n",
      "                 Time   Close\n",
      "0 2020-01-01 00:00:00  96.134\n",
      "1 2020-01-01 01:00:00  96.134\n",
      "2 2020-01-01 02:00:00  96.134\n",
      "3 2020-01-01 03:00:00  96.134\n",
      "4 2020-01-01 04:00:00  96.134 \n",
      "\n",
      "XAUUSD_Candlestick_1_Hour_BID_01_df:\n",
      "                 Time     Close\n",
      "0 2020-01-01 00:00:00  1516.915\n",
      "1 2020-01-01 01:00:00  1516.915\n",
      "2 2020-01-01 02:00:00  1516.915\n",
      "3 2020-01-01 03:00:00  1516.915\n",
      "4 2020-01-01 04:00:00  1516.915 \n",
      "\n",
      "DIESEL_df:\n",
      "                 Time    Close\n",
      "0 2020-01-01 00:00:00  614.788\n",
      "1 2020-01-01 01:00:00  614.788\n",
      "2 2020-01-01 02:00:00  614.788\n",
      "3 2020-01-01 03:00:00  614.788\n",
      "4 2020-01-01 04:00:00  614.788 \n",
      "\n",
      "COCOA_df:\n",
      "                 Time    Close\n",
      "0 2020-01-01 00:00:00  2536.72\n",
      "1 2020-01-01 01:00:00  2536.72\n",
      "2 2020-01-01 02:00:00  2536.72\n",
      "3 2020-01-01 03:00:00  2536.72\n",
      "4 2020-01-01 04:00:00  2536.72 \n",
      "\n",
      "BTCUSD_Candlestick_1_Hour_BID_01_df:\n",
      "                 Time  Close\n",
      "0 2020-01-01 00:00:00   7101\n",
      "1 2020-01-01 01:00:00   7101\n",
      "2 2020-01-01 02:00:00   7101\n",
      "3 2020-01-01 03:00:00   7101\n",
      "4 2020-01-01 04:00:00   7101 \n",
      "\n",
      "NZDUSD_Candlestick_1_Hour_BID_01_df:\n",
      "                 Time    Close\n",
      "0 2020-01-01 00:00:00  0.67304\n",
      "1 2020-01-01 01:00:00  0.67304\n",
      "2 2020-01-01 02:00:00  0.67304\n",
      "3 2020-01-01 03:00:00  0.67304\n",
      "4 2020-01-01 04:00:00  0.67304 \n",
      "\n",
      "SUGAR_df:\n",
      "                 Time    Close\n",
      "0 2020-01-01 00:00:00  359.178\n",
      "1 2020-01-01 01:00:00  359.178\n",
      "2 2020-01-01 02:00:00  359.178\n",
      "3 2020-01-01 03:00:00  359.178\n",
      "4 2020-01-01 04:00:00  359.178 \n",
      "\n",
      "USA500_df:\n",
      "                 Time     Close\n",
      "0 2020-01-01 00:00:00  3233.034\n",
      "1 2020-01-01 01:00:00  3233.034\n",
      "2 2020-01-01 02:00:00  3233.034\n",
      "3 2020-01-01 03:00:00  3233.034\n",
      "4 2020-01-01 04:00:00  3233.034 \n",
      "\n",
      "USSC2000_df:\n",
      "                 Time     Close\n",
      "0 2020-01-01 00:00:00  1670.168\n",
      "1 2020-01-01 01:00:00  1670.168\n",
      "2 2020-01-01 02:00:00  1670.168\n",
      "3 2020-01-01 03:00:00  1670.168\n",
      "4 2020-01-01 04:00:00  1670.168 \n",
      "\n",
      "SOYBEAN_df:\n",
      "                 Time   Close\n",
      "0 2020-01-01 00:00:00  954.65\n",
      "1 2020-01-01 01:00:00  954.65\n",
      "2 2020-01-01 02:00:00  954.65\n",
      "3 2020-01-01 03:00:00  954.65\n",
      "4 2020-01-01 04:00:00  954.65 \n",
      "\n",
      "USDJPY_Candlestick_1_Hour_BID_01_df:\n",
      "                 Time    Close\n",
      "0 2020-01-01 00:00:00  108.631\n",
      "1 2020-01-01 01:00:00  108.631\n",
      "2 2020-01-01 02:00:00  108.631\n",
      "3 2020-01-01 03:00:00  108.631\n",
      "4 2020-01-01 04:00:00  108.631 \n",
      "\n",
      "EURUSD_Candlestick_1_Hour_BID_01_df:\n",
      "                 Time    Close\n",
      "0 2020-01-01 00:00:00  1.12076\n",
      "1 2020-01-01 01:00:00  1.12076\n",
      "2 2020-01-01 02:00:00  1.12076\n",
      "3 2020-01-01 03:00:00  1.12076\n",
      "4 2020-01-01 04:00:00  1.12076 \n",
      "\n",
      "ETHUSD_Candlestick_1_Hour_BID_01_df:\n",
      "                 Time  Close\n",
      "0 2020-01-01 00:00:00    127\n",
      "1 2020-01-01 01:00:00    127\n",
      "2 2020-01-01 02:00:00    127\n",
      "3 2020-01-01 03:00:00    127\n",
      "4 2020-01-01 04:00:00    127 \n",
      "\n",
      "GBPUSD_Candlestick_1_Hour_BID_01_df:\n",
      "                 Time    Close\n",
      "0 2020-01-01 00:00:00  1.32559\n",
      "1 2020-01-01 01:00:00  1.32559\n",
      "2 2020-01-01 02:00:00  1.32559\n",
      "3 2020-01-01 03:00:00  1.32559\n",
      "4 2020-01-01 04:00:00  1.32559 \n",
      "\n",
      "XAGUSD_Candlestick_1_Hour_BID_01_df:\n",
      "                 Time   Close\n",
      "0 2020-01-01 00:00:00  17.812\n",
      "1 2020-01-01 01:00:00  17.812\n",
      "2 2020-01-01 02:00:00  17.812\n",
      "3 2020-01-01 03:00:00  17.812\n",
      "4 2020-01-01 04:00:00  17.812 \n",
      "\n",
      "COPPER_df:\n",
      "                 Time   Close\n",
      "0 2020-01-01 00:00:00  2.7962\n",
      "1 2020-01-01 01:00:00  2.7962\n",
      "2 2020-01-01 02:00:00  2.7962\n",
      "3 2020-01-01 03:00:00  2.7962\n",
      "4 2020-01-01 04:00:00  2.7962 \n",
      "\n",
      "USA30_df:\n",
      "                 Time    Close\n",
      "0 2020-01-01 00:00:00  28567.7\n",
      "1 2020-01-01 01:00:00  28567.7\n",
      "2 2020-01-01 02:00:00  28567.7\n",
      "3 2020-01-01 03:00:00  28567.7\n",
      "4 2020-01-01 04:00:00  28567.7 \n",
      "\n",
      "USDCHF_Candlestick_1_Hour_BID_01_df:\n",
      "                 Time    Close\n",
      "0 2020-01-01 00:00:00  0.96695\n",
      "1 2020-01-01 01:00:00  0.96695\n",
      "2 2020-01-01 02:00:00  0.96695\n",
      "3 2020-01-01 03:00:00  0.96695\n",
      "4 2020-01-01 04:00:00  0.96695 \n",
      "\n",
      "LIGHT_df:\n",
      "                 Time   Close\n",
      "0 2020-01-01 00:00:00  61.175\n",
      "1 2020-01-01 01:00:00  61.175\n",
      "2 2020-01-01 02:00:00  61.175\n",
      "3 2020-01-01 03:00:00  61.175\n",
      "4 2020-01-01 04:00:00  61.175 \n",
      "\n",
      "COTTON_df:\n",
      "                 Time   Close\n",
      "0 2020-01-01 00:00:00  68.871\n",
      "1 2020-01-01 01:00:00  68.871\n",
      "2 2020-01-01 02:00:00  68.871\n",
      "3 2020-01-01 03:00:00  68.871\n",
      "4 2020-01-01 04:00:00  68.871 \n",
      "\n",
      "OJUICE_df:\n",
      "                 Time   Close\n",
      "0 2020-01-01 00:00:00  99.124\n",
      "1 2020-01-01 01:00:00  99.124\n",
      "2 2020-01-01 02:00:00  99.124\n",
      "3 2020-01-01 03:00:00  99.124\n",
      "4 2020-01-01 04:00:00  99.124 \n",
      "\n",
      "USTBOND_df:\n",
      "                 Time  Close\n",
      "0 2020-01-01 00:00:00  155.5\n",
      "1 2020-01-01 01:00:00  155.5\n",
      "2 2020-01-01 02:00:00  155.5\n",
      "3 2020-01-01 03:00:00  155.5\n",
      "4 2020-01-01 04:00:00  155.5 \n",
      "\n",
      "USATECH_df:\n",
      "                 Time    Close\n",
      "0 2020-01-01 00:00:00  8744.58\n",
      "1 2020-01-01 01:00:00  8744.58\n",
      "2 2020-01-01 02:00:00  8744.58\n",
      "3 2020-01-01 03:00:00  8744.58\n",
      "4 2020-01-01 04:00:00  8744.58 \n",
      "\n",
      "COFFEE_df:\n",
      "                 Time    Close\n",
      "0 2020-01-01 00:00:00  129.014\n",
      "1 2020-01-01 01:00:00  129.014\n",
      "2 2020-01-01 02:00:00  129.014\n",
      "3 2020-01-01 03:00:00  129.014\n",
      "4 2020-01-01 04:00:00  129.014 \n",
      "\n",
      "GAS_df:\n",
      "                 Time  Close\n",
      "0 2020-01-01 00:00:00  2.179\n",
      "1 2020-01-01 01:00:00  2.179\n",
      "2 2020-01-01 02:00:00  2.179\n",
      "3 2020-01-01 03:00:00  2.179\n",
      "4 2020-01-01 04:00:00  2.179 \n",
      "\n"
     ]
    }
   ],
   "source": [
    "# Extracting the close prices in each df\n",
    "\n",
    "for file, df in data_dict.items():\n",
    "    # Extract the file name without the extension to use as the new DataFrame name\n",
    "    df_name = file.split('.')[0] + '_df'\n",
    "    \n",
    "    # Select only the 'Cleaned Local Time' and 'Close' columns\n",
    "    filtered_df = df[['Time', 'Close']].copy()\n",
    "    \n",
    "    # Store the filtered DataFrame in a variable with the dynamic name\n",
    "    globals()[df_name] = filtered_df\n",
    "    \n",
    "    # Optionally, print the first few rows to confirm\n",
    "    print(f\"{df_name}:\")\n",
    "    print(globals()[df_name].head(), \"\\n\")\n"
   ]
  },
  {
   "cell_type": "code",
   "execution_count": 5,
   "metadata": {},
   "outputs": [
    {
     "name": "stdout",
     "output_type": "stream",
     "text": [
      "Pairwise Correlation Matrix:\n",
      "                                     USDCAD_Candlestick_1_Hour_BID_01_df  \\\n",
      "USDCAD_Candlestick_1_Hour_BID_01_df                             1.000000   \n",
      "UKGILT_df                                                      -0.449022   \n",
      "AUDUSD_Candlestick_1_Hour_BID_01_df                            -0.891733   \n",
      "BRENT_df                                                       -0.200071   \n",
      "DOLLAR_df                                                       0.645871   \n",
      "XAUUSD_Candlestick_1_Hour_BID_01_df                             0.280521   \n",
      "DIESEL_df                                                      -0.032825   \n",
      "COCOA_df                                                        0.403156   \n",
      "BTCUSD_Candlestick_1_Hour_BID_01_df                            -0.265420   \n",
      "NZDUSD_Candlestick_1_Hour_BID_01_df                            -0.860515   \n",
      "SUGAR_df                                                        0.221588   \n",
      "USA500_df                                                      -0.095711   \n",
      "USSC2000_df                                                    -0.651416   \n",
      "SOYBEAN_df                                                     -0.470500   \n",
      "USDJPY_Candlestick_1_Hour_BID_01_df                             0.514568   \n",
      "EURUSD_Candlestick_1_Hour_BID_01_df                            -0.580289   \n",
      "ETHUSD_Candlestick_1_Hour_BID_01_df                            -0.344863   \n",
      "GBPUSD_Candlestick_1_Hour_BID_01_df                            -0.732367   \n",
      "XAGUSD_Candlestick_1_Hour_BID_01_df                            -0.296310   \n",
      "COPPER_df                                                      -0.483206   \n",
      "USA30_df                                                       -0.156436   \n",
      "USDCHF_Candlestick_1_Hour_BID_01_df                             0.018313   \n",
      "LIGHT_df                                                       -0.234048   \n",
      "COTTON_df                                                      -0.560708   \n",
      "OJUICE_df                                                       0.542800   \n",
      "USTBOND_df                                                     -0.376882   \n",
      "USATECH_df                                                     -0.074063   \n",
      "COFFEE_df                                                      -0.136617   \n",
      "GAS_df                                                         -0.370628   \n",
      "\n",
      "                                     UKGILT_df  \\\n",
      "USDCAD_Candlestick_1_Hour_BID_01_df  -0.449022   \n",
      "UKGILT_df                             1.000000   \n",
      "AUDUSD_Candlestick_1_Hour_BID_01_df   0.591882   \n",
      "BRENT_df                             -0.625708   \n",
      "DOLLAR_df                            -0.787252   \n",
      "XAUUSD_Candlestick_1_Hour_BID_01_df  -0.542691   \n",
      "DIESEL_df                            -0.672016   \n",
      "COCOA_df                             -0.536837   \n",
      "BTCUSD_Candlestick_1_Hour_BID_01_df  -0.328669   \n",
      "NZDUSD_Candlestick_1_Hour_BID_01_df   0.686471   \n",
      "SUGAR_df                             -0.892888   \n",
      "USA500_df                            -0.634206   \n",
      "USSC2000_df                          -0.161102   \n",
      "SOYBEAN_df                           -0.358280   \n",
      "USDJPY_Candlestick_1_Hour_BID_01_df  -0.954990   \n",
      "EURUSD_Candlestick_1_Hour_BID_01_df   0.658558   \n",
      "ETHUSD_Candlestick_1_Hour_BID_01_df  -0.357421   \n",
      "GBPUSD_Candlestick_1_Hour_BID_01_df   0.527990   \n",
      "XAGUSD_Candlestick_1_Hour_BID_01_df  -0.233827   \n",
      "COPPER_df                            -0.383245   \n",
      "USA30_df                             -0.645452   \n",
      "USDCHF_Candlestick_1_Hour_BID_01_df   0.337730   \n",
      "LIGHT_df                             -0.601235   \n",
      "COTTON_df                            -0.125353   \n",
      "OJUICE_df                            -0.863766   \n",
      "USTBOND_df                            0.978768   \n",
      "USATECH_df                           -0.557013   \n",
      "COFFEE_df                            -0.519875   \n",
      "GAS_df                               -0.063791   \n",
      "\n",
      "                                     AUDUSD_Candlestick_1_Hour_BID_01_df  \\\n",
      "USDCAD_Candlestick_1_Hour_BID_01_df                            -0.891733   \n",
      "UKGILT_df                                                       0.591882   \n",
      "AUDUSD_Candlestick_1_Hour_BID_01_df                             1.000000   \n",
      "BRENT_df                                                       -0.072481   \n",
      "DOLLAR_df                                                      -0.803896   \n",
      "XAUUSD_Candlestick_1_Hour_BID_01_df                            -0.193054   \n",
      "DIESEL_df                                                      -0.233102   \n",
      "COCOA_df                                                       -0.379124   \n",
      "BTCUSD_Candlestick_1_Hour_BID_01_df                             0.210329   \n",
      "NZDUSD_Candlestick_1_Hour_BID_01_df                             0.957483   \n",
      "SUGAR_df                                                       -0.417653   \n",
      "USA500_df                                                      -0.030650   \n",
      "USSC2000_df                                                     0.556116   \n",
      "SOYBEAN_df                                                      0.306204   \n",
      "USDJPY_Candlestick_1_Hour_BID_01_df                            -0.655725   \n",
      "EURUSD_Candlestick_1_Hour_BID_01_df                             0.767048   \n",
      "ETHUSD_Candlestick_1_Hour_BID_01_df                             0.178555   \n",
      "GBPUSD_Candlestick_1_Hour_BID_01_df                             0.785485   \n",
      "XAGUSD_Candlestick_1_Hour_BID_01_df                             0.410463   \n",
      "COPPER_df                                                       0.365298   \n",
      "USA30_df                                                        0.016549   \n",
      "USDCHF_Candlestick_1_Hour_BID_01_df                            -0.098179   \n",
      "LIGHT_df                                                       -0.038301   \n",
      "COTTON_df                                                       0.318765   \n",
      "OJUICE_df                                                      -0.585572   \n",
      "USTBOND_df                                                      0.536459   \n",
      "USATECH_df                                                     -0.007473   \n",
      "COFFEE_df                                                      -0.089938   \n",
      "GAS_df                                                          0.160264   \n",
      "\n",
      "                                     BRENT_df  DOLLAR_df  \\\n",
      "USDCAD_Candlestick_1_Hour_BID_01_df -0.200071   0.645871   \n",
      "UKGILT_df                           -0.625708  -0.787252   \n",
      "AUDUSD_Candlestick_1_Hour_BID_01_df -0.072481  -0.803896   \n",
      "BRENT_df                             1.000000   0.536321   \n",
      "DOLLAR_df                            0.536321   1.000000   \n",
      "XAUUSD_Candlestick_1_Hour_BID_01_df  0.245229   0.232528   \n",
      "DIESEL_df                            0.959523   0.683979   \n",
      "COCOA_df                             0.196486   0.356499   \n",
      "BTCUSD_Candlestick_1_Hour_BID_01_df  0.400411  -0.045467   \n",
      "NZDUSD_Candlestick_1_Hour_BID_01_df -0.205625  -0.895614   \n",
      "SUGAR_df                             0.671890   0.607378   \n",
      "USA500_df                            0.598103   0.244137   \n",
      "USSC2000_df                          0.454655  -0.265649   \n",
      "SOYBEAN_df                           0.759938   0.161560   \n",
      "USDJPY_Candlestick_1_Hour_BID_01_df  0.614052   0.854805   \n",
      "EURUSD_Candlestick_1_Hour_BID_01_df -0.533192  -0.972924   \n",
      "ETHUSD_Candlestick_1_Hour_BID_01_df  0.554687   0.036814   \n",
      "GBPUSD_Candlestick_1_Hour_BID_01_df -0.239925  -0.890131   \n",
      "XAGUSD_Candlestick_1_Hour_BID_01_df  0.218716  -0.252716   \n",
      "COPPER_df                            0.686152  -0.013454   \n",
      "USA30_df                             0.635637   0.231376   \n",
      "USDCHF_Candlestick_1_Hour_BID_01_df  0.025438   0.211910   \n",
      "LIGHT_df                             0.996962   0.496669   \n",
      "COTTON_df                            0.755342   0.074026   \n",
      "OJUICE_df                            0.396604   0.624043   \n",
      "USTBOND_df                          -0.696296  -0.782900   \n",
      "USATECH_df                           0.449148   0.140086   \n",
      "COFFEE_df                            0.798083   0.440085   \n",
      "GAS_df                               0.626545   0.291909   \n",
      "\n",
      "                                     XAUUSD_Candlestick_1_Hour_BID_01_df  \\\n",
      "USDCAD_Candlestick_1_Hour_BID_01_df                             0.280521   \n",
      "UKGILT_df                                                      -0.542691   \n",
      "AUDUSD_Candlestick_1_Hour_BID_01_df                            -0.193054   \n",
      "BRENT_df                                                        0.245229   \n",
      "DOLLAR_df                                                       0.232528   \n",
      "XAUUSD_Candlestick_1_Hour_BID_01_df                             1.000000   \n",
      "DIESEL_df                                                       0.168314   \n",
      "COCOA_df                                                        0.845329   \n",
      "BTCUSD_Candlestick_1_Hour_BID_01_df                             0.603042   \n",
      "NZDUSD_Candlestick_1_Hour_BID_01_df                            -0.275616   \n",
      "SUGAR_df                                                        0.420414   \n",
      "USA500_df                                                       0.747910   \n",
      "USSC2000_df                                                     0.286573   \n",
      "SOYBEAN_df                                                     -0.020529   \n",
      "USDJPY_Candlestick_1_Hour_BID_01_df                             0.600632   \n",
      "EURUSD_Candlestick_1_Hour_BID_01_df                            -0.067869   \n",
      "ETHUSD_Candlestick_1_Hour_BID_01_df                             0.462361   \n",
      "GBPUSD_Candlestick_1_Hour_BID_01_df                             0.004209   \n",
      "XAGUSD_Candlestick_1_Hour_BID_01_df                             0.727748   \n",
      "COPPER_df                                                       0.460457   \n",
      "USA30_df                                                        0.679145   \n",
      "USDCHF_Candlestick_1_Hour_BID_01_df                            -0.655665   \n",
      "LIGHT_df                                                        0.251880   \n",
      "COTTON_df                                                      -0.045562   \n",
      "OJUICE_df                                                       0.800228   \n",
      "USTBOND_df                                                     -0.535733   \n",
      "USATECH_df                                                      0.777249   \n",
      "COFFEE_df                                                       0.427737   \n",
      "GAS_df                                                         -0.287529   \n",
      "\n",
      "                                     DIESEL_df  COCOA_df  \\\n",
      "USDCAD_Candlestick_1_Hour_BID_01_df  -0.032825  0.403156   \n",
      "UKGILT_df                            -0.672016 -0.536837   \n",
      "AUDUSD_Candlestick_1_Hour_BID_01_df  -0.233102 -0.379124   \n",
      "BRENT_df                              0.959523  0.196486   \n",
      "DOLLAR_df                             0.683979  0.356499   \n",
      "XAUUSD_Candlestick_1_Hour_BID_01_df   0.168314  0.845329   \n",
      "DIESEL_df                             1.000000  0.145201   \n",
      "COCOA_df                              0.145201  1.000000   \n",
      "BTCUSD_Candlestick_1_Hour_BID_01_df   0.225316  0.627330   \n",
      "NZDUSD_Candlestick_1_Hour_BID_01_df  -0.370758 -0.411747   \n",
      "SUGAR_df                              0.676048  0.340907   \n",
      "USA500_df                             0.466928  0.697726   \n",
      "USSC2000_df                           0.260846  0.224645   \n",
      "SOYBEAN_df                            0.703198 -0.201261   \n",
      "USDJPY_Candlestick_1_Hour_BID_01_df   0.672884  0.653015   \n",
      "EURUSD_Candlestick_1_Hour_BID_01_df  -0.688234 -0.211217   \n",
      "ETHUSD_Candlestick_1_Hour_BID_01_df   0.389680  0.439902   \n",
      "GBPUSD_Candlestick_1_Hour_BID_01_df  -0.447478 -0.093975   \n",
      "XAGUSD_Candlestick_1_Hour_BID_01_df   0.050384  0.491373   \n",
      "COPPER_df                             0.511768  0.312483   \n",
      "USA30_df                              0.504805  0.626159   \n",
      "USDCHF_Candlestick_1_Hour_BID_01_df   0.123811 -0.434341   \n",
      "LIGHT_df                              0.945735  0.191251   \n",
      "COTTON_df                             0.668677 -0.138858   \n",
      "OJUICE_df                             0.406038  0.793321   \n",
      "USTBOND_df                           -0.729958 -0.559236   \n",
      "USATECH_df                            0.312485  0.714416   \n",
      "COFFEE_df                             0.720817  0.373473   \n",
      "GAS_df                                0.658375 -0.318875   \n",
      "\n",
      "                                     BTCUSD_Candlestick_1_Hour_BID_01_df  \\\n",
      "USDCAD_Candlestick_1_Hour_BID_01_df                            -0.265420   \n",
      "UKGILT_df                                                      -0.328669   \n",
      "AUDUSD_Candlestick_1_Hour_BID_01_df                             0.210329   \n",
      "BRENT_df                                                        0.400411   \n",
      "DOLLAR_df                                                      -0.045467   \n",
      "XAUUSD_Candlestick_1_Hour_BID_01_df                             0.603042   \n",
      "DIESEL_df                                                       0.225316   \n",
      "COCOA_df                                                        0.627330   \n",
      "BTCUSD_Candlestick_1_Hour_BID_01_df                             1.000000   \n",
      "NZDUSD_Candlestick_1_Hour_BID_01_df                             0.177803   \n",
      "SUGAR_df                                                        0.336328   \n",
      "USA500_df                                                       0.854808   \n",
      "USSC2000_df                                                     0.800211   \n",
      "SOYBEAN_df                                                      0.248048   \n",
      "USDJPY_Candlestick_1_Hour_BID_01_df                             0.346425   \n",
      "EURUSD_Candlestick_1_Hour_BID_01_df                             0.148566   \n",
      "ETHUSD_Candlestick_1_Hour_BID_01_df                             0.895882   \n",
      "GBPUSD_Candlestick_1_Hour_BID_01_df                             0.407969   \n",
      "XAGUSD_Candlestick_1_Hour_BID_01_df                             0.664494   \n",
      "COPPER_df                                                       0.776495   \n",
      "USA30_df                                                        0.825387   \n",
      "USDCHF_Candlestick_1_Hour_BID_01_df                            -0.483715   \n",
      "LIGHT_df                                                        0.417279   \n",
      "COTTON_df                                                       0.365991   \n",
      "OJUICE_df                                                       0.467208   \n",
      "USTBOND_df                                                     -0.377562   \n",
      "USATECH_df                                                      0.864229   \n",
      "COFFEE_df                                                       0.577850   \n",
      "GAS_df                                                         -0.032541   \n",
      "\n",
      "                                     NZDUSD_Candlestick_1_Hour_BID_01_df  ...  \\\n",
      "USDCAD_Candlestick_1_Hour_BID_01_df                            -0.860515  ...   \n",
      "UKGILT_df                                                       0.686471  ...   \n",
      "AUDUSD_Candlestick_1_Hour_BID_01_df                             0.957483  ...   \n",
      "BRENT_df                                                       -0.205625  ...   \n",
      "DOLLAR_df                                                      -0.895614  ...   \n",
      "XAUUSD_Candlestick_1_Hour_BID_01_df                            -0.275616  ...   \n",
      "DIESEL_df                                                      -0.370758  ...   \n",
      "COCOA_df                                                       -0.411747  ...   \n",
      "BTCUSD_Candlestick_1_Hour_BID_01_df                             0.177803  ...   \n",
      "NZDUSD_Candlestick_1_Hour_BID_01_df                             1.000000  ...   \n",
      "SUGAR_df                                                       -0.484866  ...   \n",
      "USA500_df                                                      -0.096985  ...   \n",
      "USSC2000_df                                                     0.505260  ...   \n",
      "SOYBEAN_df                                                      0.169943  ...   \n",
      "USDJPY_Candlestick_1_Hour_BID_01_df                            -0.759635  ...   \n",
      "EURUSD_Candlestick_1_Hour_BID_01_df                             0.844546  ...   \n",
      "ETHUSD_Candlestick_1_Hour_BID_01_df                             0.162184  ...   \n",
      "GBPUSD_Candlestick_1_Hour_BID_01_df                             0.859889  ...   \n",
      "XAGUSD_Candlestick_1_Hour_BID_01_df                             0.316217  ...   \n",
      "COPPER_df                                                       0.279577  ...   \n",
      "USA30_df                                                       -0.050971  ...   \n",
      "USDCHF_Candlestick_1_Hour_BID_01_df                            -0.105783  ...   \n",
      "LIGHT_df                                                       -0.170073  ...   \n",
      "COTTON_df                                                       0.242797  ...   \n",
      "OJUICE_df                                                      -0.643799  ...   \n",
      "USTBOND_df                                                      0.641001  ...   \n",
      "USATECH_df                                                     -0.056732  ...   \n",
      "COFFEE_df                                                      -0.187021  ...   \n",
      "GAS_df                                                          0.046714  ...   \n",
      "\n",
      "                                     COPPER_df  USA30_df  \\\n",
      "USDCAD_Candlestick_1_Hour_BID_01_df  -0.483206 -0.156436   \n",
      "UKGILT_df                            -0.383245 -0.645452   \n",
      "AUDUSD_Candlestick_1_Hour_BID_01_df   0.365298  0.016549   \n",
      "BRENT_df                              0.686152  0.635637   \n",
      "DOLLAR_df                            -0.013454  0.231376   \n",
      "XAUUSD_Candlestick_1_Hour_BID_01_df   0.460457  0.679145   \n",
      "DIESEL_df                             0.511768  0.504805   \n",
      "COCOA_df                              0.312483  0.626159   \n",
      "BTCUSD_Candlestick_1_Hour_BID_01_df   0.776495  0.825387   \n",
      "NZDUSD_Candlestick_1_Hour_BID_01_df   0.279577 -0.050971   \n",
      "SUGAR_df                              0.444829  0.634328   \n",
      "USA500_df                             0.792599  0.978889   \n",
      "USSC2000_df                           0.838526  0.775241   \n",
      "SOYBEAN_df                            0.696933  0.409997   \n",
      "USDJPY_Candlestick_1_Hour_BID_01_df   0.316465  0.626181   \n",
      "EURUSD_Candlestick_1_Hour_BID_01_df   0.080411 -0.112816   \n",
      "ETHUSD_Candlestick_1_Hour_BID_01_df   0.850560  0.828192   \n",
      "GBPUSD_Candlestick_1_Hour_BID_01_df   0.350746  0.169994   \n",
      "XAGUSD_Candlestick_1_Hour_BID_01_df   0.689683  0.661073   \n",
      "COPPER_df                             1.000000  0.819847   \n",
      "USA30_df                              0.819847  1.000000   \n",
      "USDCHF_Candlestick_1_Hour_BID_01_df  -0.367454 -0.576321   \n",
      "LIGHT_df                              0.705699  0.640666   \n",
      "COTTON_df                             0.652494  0.399139   \n",
      "OJUICE_df                             0.323498  0.678968   \n",
      "USTBOND_df                           -0.434328 -0.689344   \n",
      "USATECH_df                            0.719712  0.923233   \n",
      "COFFEE_df                             0.713602  0.694720   \n",
      "GAS_df                                0.282838  0.073583   \n",
      "\n",
      "                                     USDCHF_Candlestick_1_Hour_BID_01_df  \\\n",
      "USDCAD_Candlestick_1_Hour_BID_01_df                             0.018313   \n",
      "UKGILT_df                                                       0.337730   \n",
      "AUDUSD_Candlestick_1_Hour_BID_01_df                            -0.098179   \n",
      "BRENT_df                                                        0.025438   \n",
      "DOLLAR_df                                                       0.211910   \n",
      "XAUUSD_Candlestick_1_Hour_BID_01_df                            -0.655665   \n",
      "DIESEL_df                                                       0.123811   \n",
      "COCOA_df                                                       -0.434341   \n",
      "BTCUSD_Candlestick_1_Hour_BID_01_df                            -0.483715   \n",
      "NZDUSD_Candlestick_1_Hour_BID_01_df                            -0.105783   \n",
      "SUGAR_df                                                       -0.411633   \n",
      "USA500_df                                                      -0.590289   \n",
      "USSC2000_df                                                    -0.423666   \n",
      "SOYBEAN_df                                                     -0.009663   \n",
      "USDJPY_Candlestick_1_Hour_BID_01_df                            -0.247902   \n",
      "EURUSD_Candlestick_1_Hour_BID_01_df                            -0.382783   \n",
      "ETHUSD_Candlestick_1_Hour_BID_01_df                            -0.363689   \n",
      "GBPUSD_Candlestick_1_Hour_BID_01_df                            -0.386186   \n",
      "XAGUSD_Candlestick_1_Hour_BID_01_df                            -0.672700   \n",
      "COPPER_df                                                      -0.367454   \n",
      "USA30_df                                                       -0.576321   \n",
      "USDCHF_Candlestick_1_Hour_BID_01_df                             1.000000   \n",
      "LIGHT_df                                                        0.009792   \n",
      "COTTON_df                                                       0.129741   \n",
      "OJUICE_df                                                      -0.529449   \n",
      "USTBOND_df                                                      0.290089   \n",
      "USATECH_df                                                     -0.683483   \n",
      "COFFEE_df                                                      -0.075914   \n",
      "GAS_df                                                          0.483287   \n",
      "\n",
      "                                     LIGHT_df  COTTON_df  OJUICE_df  \\\n",
      "USDCAD_Candlestick_1_Hour_BID_01_df -0.234048  -0.560708   0.542800   \n",
      "UKGILT_df                           -0.601235  -0.125353  -0.863766   \n",
      "AUDUSD_Candlestick_1_Hour_BID_01_df -0.038301   0.318765  -0.585572   \n",
      "BRENT_df                             0.996962   0.755342   0.396604   \n",
      "DOLLAR_df                            0.496669   0.074026   0.624043   \n",
      "XAUUSD_Candlestick_1_Hour_BID_01_df  0.251880  -0.045562   0.800228   \n",
      "DIESEL_df                            0.945735   0.668677   0.406038   \n",
      "COCOA_df                             0.191251  -0.138858   0.793321   \n",
      "BTCUSD_Candlestick_1_Hour_BID_01_df  0.417279   0.365991   0.467208   \n",
      "NZDUSD_Candlestick_1_Hour_BID_01_df -0.170073   0.242797  -0.643799   \n",
      "SUGAR_df                             0.660938   0.312756   0.735244   \n",
      "USA500_df                            0.606516   0.375615   0.721105   \n",
      "USSC2000_df                          0.475451   0.498489   0.141205   \n",
      "SOYBEAN_df                           0.763096   0.731927   0.036473   \n",
      "USDJPY_Candlestick_1_Hour_BID_01_df  0.588300   0.093391   0.900304   \n",
      "EURUSD_Candlestick_1_Hour_BID_01_df -0.492452  -0.146664  -0.459129   \n",
      "ETHUSD_Candlestick_1_Hour_BID_01_df  0.570769   0.577716   0.377332   \n",
      "GBPUSD_Candlestick_1_Hour_BID_01_df -0.198500   0.125009  -0.354516   \n",
      "XAGUSD_Candlestick_1_Hour_BID_01_df  0.245840   0.124840   0.394039   \n",
      "COPPER_df                            0.705699   0.652494   0.323498   \n",
      "USA30_df                             0.640666   0.399139   0.678968   \n",
      "USDCHF_Candlestick_1_Hour_BID_01_df  0.009792   0.129741  -0.529449   \n",
      "LIGHT_df                             1.000000   0.774850   0.383203   \n",
      "COTTON_df                            0.774850   1.000000  -0.075326   \n",
      "OJUICE_df                            0.383203  -0.075326   1.000000   \n",
      "USTBOND_df                          -0.671827  -0.192648  -0.856080   \n",
      "USATECH_df                           0.463596   0.273704   0.714376   \n",
      "COFFEE_df                            0.798920   0.673106   0.427726   \n",
      "GAS_df                               0.625000   0.699333  -0.211571   \n",
      "\n",
      "                                     USTBOND_df  USATECH_df  COFFEE_df  \\\n",
      "USDCAD_Candlestick_1_Hour_BID_01_df   -0.376882   -0.074063  -0.136617   \n",
      "UKGILT_df                              0.978768   -0.557013  -0.519875   \n",
      "AUDUSD_Candlestick_1_Hour_BID_01_df    0.536459   -0.007473  -0.089938   \n",
      "BRENT_df                              -0.696296    0.449148   0.798083   \n",
      "DOLLAR_df                             -0.782900    0.140086   0.440085   \n",
      "XAUUSD_Candlestick_1_Hour_BID_01_df   -0.535733    0.777249   0.427737   \n",
      "DIESEL_df                             -0.729958    0.312485   0.720817   \n",
      "COCOA_df                              -0.559236    0.714416   0.373473   \n",
      "BTCUSD_Candlestick_1_Hour_BID_01_df   -0.377562    0.864229   0.577850   \n",
      "NZDUSD_Candlestick_1_Hour_BID_01_df    0.641001   -0.056732  -0.187021   \n",
      "SUGAR_df                              -0.877922    0.555942   0.492372   \n",
      "USA500_df                             -0.663880    0.972545   0.724743   \n",
      "USSC2000_df                           -0.221330    0.699571   0.497776   \n",
      "SOYBEAN_df                            -0.406473    0.200020   0.518303   \n",
      "USDJPY_Candlestick_1_Hour_BID_01_df   -0.958397    0.576658   0.547941   \n",
      "EURUSD_Candlestick_1_Hour_BID_01_df    0.662309    0.003305  -0.432327   \n",
      "ETHUSD_Candlestick_1_Hour_BID_01_df   -0.388664    0.814857   0.742609   \n",
      "GBPUSD_Candlestick_1_Hour_BID_01_df    0.497510    0.236843  -0.130979   \n",
      "XAGUSD_Candlestick_1_Hour_BID_01_df   -0.254290    0.699798   0.296428   \n",
      "COPPER_df                             -0.434328    0.719712   0.713602   \n",
      "USA30_df                              -0.689344    0.923233   0.694720   \n",
      "USDCHF_Candlestick_1_Hour_BID_01_df    0.290089   -0.683483  -0.075914   \n",
      "LIGHT_df                              -0.671827    0.463596   0.798920   \n",
      "COTTON_df                             -0.192648    0.273704   0.673106   \n",
      "OJUICE_df                             -0.856080    0.714376   0.427726   \n",
      "USTBOND_df                             1.000000   -0.569134  -0.545298   \n",
      "USATECH_df                            -0.569134    1.000000   0.623484   \n",
      "COFFEE_df                             -0.545298    0.623484   1.000000   \n",
      "GAS_df                                -0.120823   -0.076228   0.517487   \n",
      "\n",
      "                                       GAS_df  \n",
      "USDCAD_Candlestick_1_Hour_BID_01_df -0.370628  \n",
      "UKGILT_df                           -0.063791  \n",
      "AUDUSD_Candlestick_1_Hour_BID_01_df  0.160264  \n",
      "BRENT_df                             0.626545  \n",
      "DOLLAR_df                            0.291909  \n",
      "XAUUSD_Candlestick_1_Hour_BID_01_df -0.287529  \n",
      "DIESEL_df                            0.658375  \n",
      "COCOA_df                            -0.318875  \n",
      "BTCUSD_Candlestick_1_Hour_BID_01_df -0.032541  \n",
      "NZDUSD_Candlestick_1_Hour_BID_01_df  0.046714  \n",
      "SUGAR_df                             0.112969  \n",
      "USA500_df                            0.044273  \n",
      "USSC2000_df                          0.179967  \n",
      "SOYBEAN_df                           0.584146  \n",
      "USDJPY_Candlestick_1_Hour_BID_01_df  0.101040  \n",
      "EURUSD_Candlestick_1_Hour_BID_01_df -0.393677  \n",
      "ETHUSD_Candlestick_1_Hour_BID_01_df  0.189453  \n",
      "GBPUSD_Candlestick_1_Hour_BID_01_df -0.240275  \n",
      "XAGUSD_Candlestick_1_Hour_BID_01_df -0.162310  \n",
      "COPPER_df                            0.282838  \n",
      "USA30_df                             0.073583  \n",
      "USDCHF_Candlestick_1_Hour_BID_01_df  0.483287  \n",
      "LIGHT_df                             0.625000  \n",
      "COTTON_df                            0.699333  \n",
      "OJUICE_df                           -0.211571  \n",
      "USTBOND_df                          -0.120823  \n",
      "USATECH_df                          -0.076228  \n",
      "COFFEE_df                            0.517487  \n",
      "GAS_df                               1.000000  \n",
      "\n",
      "[29 rows x 29 columns]\n"
     ]
    }
   ],
   "source": [
    "close_prices_df = pd.DataFrame()\n",
    "\n",
    "# Loop through each filtered DataFrame in globals() (which contains all individual DataFrames)\n",
    "for file, df in data_dict.items():\n",
    "    # Extract the file name without extension to use as the column label\n",
    "    df_name = file.split('.')[0] + '_df'\n",
    "    \n",
    "    # Set the 'Time' column as the index and add the 'Close' column to the close_prices_df\n",
    "    filtered_df = globals()[df_name]\n",
    "    filtered_df.set_index('Time', inplace=True)\n",
    "    \n",
    "    # Add the 'Close' column with the file name as the column label\n",
    "    close_prices_df[df_name] = filtered_df['Close']\n",
    "\n",
    "# Calculate the pairwise correlation matrix for the close prices\n",
    "correlation_matrix = close_prices_df.corr()\n",
    "\n",
    "# Display the correlation matrix\n",
    "print(\"Pairwise Correlation Matrix:\")\n",
    "print(correlation_matrix)"
   ]
  },
  {
   "cell_type": "code",
   "execution_count": 6,
   "metadata": {},
   "outputs": [
    {
     "data": {
      "application/vnd.plotly.v1+json": {
       "config": {
        "plotlyServerURL": "https://plot.ly"
       },
       "data": [
        {
         "coloraxis": "coloraxis",
         "hovertemplate": "x: %{x}<br>y: %{y}<br>Correlation: %{z}<extra></extra>",
         "name": "0",
         "type": "heatmap",
         "x": [
          "USDCAD_Candlestick_1_Hour_BID_01_df",
          "UKGILT_df",
          "AUDUSD_Candlestick_1_Hour_BID_01_df",
          "BRENT_df",
          "DOLLAR_df",
          "XAUUSD_Candlestick_1_Hour_BID_01_df",
          "DIESEL_df",
          "COCOA_df",
          "BTCUSD_Candlestick_1_Hour_BID_01_df",
          "NZDUSD_Candlestick_1_Hour_BID_01_df",
          "SUGAR_df",
          "USA500_df",
          "USSC2000_df",
          "SOYBEAN_df",
          "USDJPY_Candlestick_1_Hour_BID_01_df",
          "EURUSD_Candlestick_1_Hour_BID_01_df",
          "ETHUSD_Candlestick_1_Hour_BID_01_df",
          "GBPUSD_Candlestick_1_Hour_BID_01_df",
          "XAGUSD_Candlestick_1_Hour_BID_01_df",
          "COPPER_df",
          "USA30_df",
          "USDCHF_Candlestick_1_Hour_BID_01_df",
          "LIGHT_df",
          "COTTON_df",
          "OJUICE_df",
          "USTBOND_df",
          "USATECH_df",
          "COFFEE_df",
          "GAS_df"
         ],
         "xaxis": "x",
         "y": [
          "USDCAD_Candlestick_1_Hour_BID_01_df",
          "UKGILT_df",
          "AUDUSD_Candlestick_1_Hour_BID_01_df",
          "BRENT_df",
          "DOLLAR_df",
          "XAUUSD_Candlestick_1_Hour_BID_01_df",
          "DIESEL_df",
          "COCOA_df",
          "BTCUSD_Candlestick_1_Hour_BID_01_df",
          "NZDUSD_Candlestick_1_Hour_BID_01_df",
          "SUGAR_df",
          "USA500_df",
          "USSC2000_df",
          "SOYBEAN_df",
          "USDJPY_Candlestick_1_Hour_BID_01_df",
          "EURUSD_Candlestick_1_Hour_BID_01_df",
          "ETHUSD_Candlestick_1_Hour_BID_01_df",
          "GBPUSD_Candlestick_1_Hour_BID_01_df",
          "XAGUSD_Candlestick_1_Hour_BID_01_df",
          "COPPER_df",
          "USA30_df",
          "USDCHF_Candlestick_1_Hour_BID_01_df",
          "LIGHT_df",
          "COTTON_df",
          "OJUICE_df",
          "USTBOND_df",
          "USATECH_df",
          "COFFEE_df",
          "GAS_df"
         ],
         "yaxis": "y",
         "z": [
          [
           1,
           -0.4490217152441108,
           -0.8917332839238576,
           -0.20007092063983928,
           0.6458712287066672,
           0.2805206221584666,
           -0.032824933921536854,
           0.40315577436377487,
           -0.2654195759034834,
           -0.8605151075164938,
           0.2215880885725302,
           -0.09571126064496072,
           -0.6514163810536218,
           -0.47049988556145017,
           0.5145684886557635,
           -0.5802886036501995,
           -0.34486293825554915,
           -0.7323665194926693,
           -0.2963100290938747,
           -0.48320615504189035,
           -0.15643577439362966,
           0.018313202816187764,
           -0.2340484363818931,
           -0.5607082028156882,
           0.5427997700722047,
           -0.37688179059232246,
           -0.07406346554745348,
           -0.13661700299556806,
           -0.37062796988035296
          ],
          [
           -0.4490217152441108,
           1,
           0.5918819854786779,
           -0.6257080153604987,
           -0.7872524036547633,
           -0.5426911343465975,
           -0.6720155950899342,
           -0.5368369567058092,
           -0.3286690781541674,
           0.6864708275217022,
           -0.8928883908546962,
           -0.6342062906537846,
           -0.1611021464899542,
           -0.35827970388843927,
           -0.9549903171852612,
           0.6585583531497674,
           -0.3574207046539878,
           0.527990356442128,
           -0.23382730370840135,
           -0.3832454890255851,
           -0.6454515568645186,
           0.3377299350839668,
           -0.6012347929204273,
           -0.12535260940730245,
           -0.8637663844265303,
           0.9787680511055442,
           -0.55701348080464,
           -0.5198748224479559,
           -0.06379126247576149
          ],
          [
           -0.8917332839238576,
           0.5918819854786779,
           1,
           -0.07248090056787648,
           -0.8038960390375922,
           -0.1930541912301721,
           -0.23310210620956537,
           -0.37912391060534284,
           0.2103286309156477,
           0.9574829455477495,
           -0.41765270932267295,
           -0.03065019718157809,
           0.556115764466557,
           0.3062038710927183,
           -0.6557252236430118,
           0.7670482623624078,
           0.1785546904970818,
           0.7854854214965284,
           0.4104625327648179,
           0.3652982090086052,
           0.01654904060055529,
           -0.09817938020320448,
           -0.03830142337886561,
           0.31876475845712,
           -0.585571838565906,
           0.5364592140503041,
           -0.007472754851725024,
           -0.08993784806437687,
           0.16026393720821472
          ],
          [
           -0.20007092063983928,
           -0.6257080153604987,
           -0.07248090056787648,
           1,
           0.5363207931656305,
           0.24522867233442455,
           0.9595227828712106,
           0.19648589500568397,
           0.4004105033152467,
           -0.20562503721169914,
           0.6718895332242553,
           0.5981030281203317,
           0.45465466713770486,
           0.7599378709080058,
           0.6140522334647647,
           -0.5331918854064023,
           0.5546872943570678,
           -0.23992544591561213,
           0.2187159048303994,
           0.6861524749006503,
           0.6356371517428223,
           0.025437773727649764,
           0.9969616082097544,
           0.7553421832126831,
           0.396604181669598,
           -0.6962955035918674,
           0.4491483709879634,
           0.7980834811690598,
           0.6265448755968548
          ],
          [
           0.6458712287066672,
           -0.7872524036547633,
           -0.8038960390375922,
           0.5363207931656305,
           1,
           0.2325284076880414,
           0.683978889234012,
           0.3564994651341677,
           -0.0454673083512346,
           -0.8956140767973798,
           0.607377898125804,
           0.24413679160709387,
           -0.2656488479667946,
           0.1615598435227313,
           0.8548047207699805,
           -0.9729241891057204,
           0.03681408184868827,
           -0.8901313674596966,
           -0.25271590630282886,
           -0.013453871907822375,
           0.2313763311967892,
           0.21191043743779162,
           0.49666873602332284,
           0.0740261929260041,
           0.6240426120586057,
           -0.7828996827010603,
           0.14008582125353897,
           0.4400853598318747,
           0.29190906339656153
          ],
          [
           0.2805206221584666,
           -0.5426911343465975,
           -0.1930541912301721,
           0.24522867233442455,
           0.2325284076880414,
           1,
           0.1683136450762759,
           0.8453290830963675,
           0.6030424394461049,
           -0.27561567972042794,
           0.42041437060539705,
           0.7479102313329494,
           0.2865729274844624,
           -0.02052946680678273,
           0.6006317381260666,
           -0.0678688677957708,
           0.4623612729307462,
           0.004208704942558017,
           0.7277476084739379,
           0.46045729500992294,
           0.6791451967142625,
           -0.6556654028910238,
           0.25187973999034047,
           -0.04556219651769026,
           0.800228233661821,
           -0.5357333631213587,
           0.7772486709759213,
           0.4277372210598428,
           -0.2875289129449841
          ],
          [
           -0.032824933921536854,
           -0.6720155950899342,
           -0.23310210620956537,
           0.9595227828712106,
           0.683978889234012,
           0.1683136450762759,
           1,
           0.14520055241027183,
           0.22531566180935841,
           -0.37075811496785127,
           0.676047537064155,
           0.4669280484472452,
           0.26084614662101274,
           0.7031979786202366,
           0.6728838102370669,
           -0.6882340335856102,
           0.38967960523785505,
           -0.4474783834705347,
           0.05038391784705125,
           0.5117677875066228,
           0.5048053550375905,
           0.12381057659055285,
           0.9457349666085193,
           0.6686770402733528,
           0.40603819221266224,
           -0.7299581068208518,
           0.31248518410858184,
           0.7208170499844,
           0.6583751622233933
          ],
          [
           0.40315577436377487,
           -0.5368369567058092,
           -0.37912391060534284,
           0.19648589500568397,
           0.3564994651341677,
           0.8453290830963675,
           0.14520055241027183,
           1,
           0.6273295384076593,
           -0.4117470720020565,
           0.34090734791795624,
           0.6977259840528466,
           0.22464485198605944,
           -0.20126103450325936,
           0.6530146215461436,
           -0.2112171202110175,
           0.43990227852334146,
           -0.09397473568615626,
           0.491372877044,
           0.31248303255777893,
           0.6261586851642212,
           -0.43434141686914063,
           0.19125115178415453,
           -0.13885764427760416,
           0.7933210017759446,
           -0.5592359566698792,
           0.7144162770970782,
           0.37347310161711383,
           -0.3188754110880532
          ],
          [
           -0.2654195759034834,
           -0.3286690781541674,
           0.2103286309156477,
           0.4004105033152467,
           -0.0454673083512346,
           0.6030424394461049,
           0.22531566180935841,
           0.6273295384076593,
           1,
           0.17780270564969802,
           0.33632843511879174,
           0.8548082858016083,
           0.8002112424317847,
           0.2480475513940201,
           0.3464253369744975,
           0.14856588448305674,
           0.8958815447454912,
           0.4079687331952831,
           0.6644936324513255,
           0.7764949352581754,
           0.825386935042352,
           -0.4837149586837709,
           0.41727910902789095,
           0.36599148431286616,
           0.46720765452958146,
           -0.37756187297599,
           0.8642293204341724,
           0.577850488559873,
           -0.032541342738683754
          ],
          [
           -0.8605151075164938,
           0.6864708275217022,
           0.9574829455477495,
           -0.20562503721169914,
           -0.8956140767973798,
           -0.27561567972042794,
           -0.37075811496785127,
           -0.4117470720020565,
           0.17780270564969802,
           1,
           -0.4848662633620419,
           -0.09698465333015677,
           0.505259597856529,
           0.16994290599770956,
           -0.7596353924925487,
           0.8445461459639207,
           0.16218438173807212,
           0.8598894563901882,
           0.3162174196878065,
           0.279576993331375,
           -0.05097062610763155,
           -0.10578313862639348,
           -0.17007281136510238,
           0.24279662380587136,
           -0.6437991299755116,
           0.6410007203388811,
           -0.05673162714284706,
           -0.1870206346280872,
           0.046714139989791126
          ],
          [
           0.2215880885725302,
           -0.8928883908546962,
           -0.41765270932267295,
           0.6718895332242553,
           0.607377898125804,
           0.42041437060539705,
           0.676047537064155,
           0.34090734791795624,
           0.33632843511879174,
           -0.4848662633620419,
           1,
           0.6130294586068217,
           0.25298814037084355,
           0.4963382801200679,
           0.8071124547126377,
           -0.5009418424088214,
           0.4182486766820842,
           -0.34111851072436183,
           0.23242034541726903,
           0.44482916154895935,
           0.634327661965991,
           -0.4116329773421824,
           0.6609379018600142,
           0.31275562825910935,
           0.7352440294738617,
           -0.8779222052647372,
           0.5559415651411714,
           0.49237234577469635,
           0.1129686445095235
          ],
          [
           -0.09571126064496072,
           -0.6342062906537846,
           -0.03065019718157809,
           0.5981030281203317,
           0.24413679160709387,
           0.7479102313329494,
           0.4669280484472452,
           0.6977259840528466,
           0.8548082858016083,
           -0.09698465333015677,
           0.6130294586068217,
           1,
           0.7314948975465834,
           0.3272331633957123,
           0.643787701721962,
           -0.11951998179892205,
           0.8464366256278589,
           0.15932058591581355,
           0.6694687547290742,
           0.7925992381786321,
           0.9788887184787435,
           -0.5902889349216367,
           0.6065160072072777,
           0.375614631888058,
           0.721104734986165,
           -0.6638804290480259,
           0.9725449354443839,
           0.7247431302678422,
           0.04427278183416612
          ],
          [
           -0.6514163810536218,
           -0.1611021464899542,
           0.556115764466557,
           0.45465466713770486,
           -0.2656488479667946,
           0.2865729274844624,
           0.26084614662101274,
           0.22464485198605944,
           0.8002112424317847,
           0.505259597856529,
           0.25298814037084355,
           0.7314948975465834,
           1,
           0.4973109202681311,
           0.09455846626846498,
           0.3260392487662869,
           0.7944070890928854,
           0.5869480515966876,
           0.6528395056737762,
           0.8385256951364047,
           0.7752413659864078,
           -0.42366581103083223,
           0.47545125072655053,
           0.49848932879150315,
           0.1412047245675965,
           -0.22133028710694938,
           0.6995707685042317,
           0.4977755499184294,
           0.17996684473497762
          ],
          [
           -0.47049988556145017,
           -0.35827970388843927,
           0.3062038710927183,
           0.7599378709080058,
           0.1615598435227313,
           -0.02052946680678273,
           0.7031979786202366,
           -0.20126103450325936,
           0.2480475513940201,
           0.16994290599770956,
           0.4963382801200679,
           0.3272331633957123,
           0.4973109202681311,
           1,
           0.23523010442640432,
           -0.1651778399144501,
           0.40754193292505486,
           0.010368626619452283,
           0.25959190091604606,
           0.6969332809959836,
           0.40999729056150885,
           -0.009662698249407567,
           0.7630957617115143,
           0.7319268600032728,
           0.036472980827744195,
           -0.4064731839574472,
           0.2000204023855361,
           0.5183034742270309,
           0.5841460989802414
          ],
          [
           0.5145684886557635,
           -0.9549903171852612,
           -0.6557252236430118,
           0.6140522334647647,
           0.8548047207699805,
           0.6006317381260666,
           0.6728838102370669,
           0.6530146215461436,
           0.3464253369744975,
           -0.7596353924925487,
           0.8071124547126377,
           0.643787701721962,
           0.09455846626846498,
           0.23523010442640432,
           1,
           -0.7325103359572415,
           0.3460454340330705,
           -0.5905269944297135,
           0.2002297491511751,
           0.3164647397152999,
           0.6261811813695959,
           -0.247901735719425,
           0.5882998465140239,
           0.09339057128039668,
           0.9003043424800089,
           -0.9583974646212828,
           0.576657923834148,
           0.5479414640591168,
           0.1010395781582367
          ],
          [
           -0.5802886036501995,
           0.6585583531497674,
           0.7670482623624078,
           -0.5331918854064023,
           -0.9729241891057204,
           -0.0678688677957708,
           -0.6882340335856102,
           -0.2112171202110175,
           0.14856588448305674,
           0.8445461459639207,
           -0.5009418424088214,
           -0.11951998179892205,
           0.3260392487662869,
           -0.1651778399144501,
           -0.7325103359572415,
           1,
           0.019499127629324018,
           0.8968892294002685,
           0.40392563673669757,
           0.08041064178567585,
           -0.1128161440591679,
           -0.3827829854883146,
           -0.49245168600683137,
           -0.14666426810752384,
           -0.4591293823023192,
           0.6623093038378488,
           0.0033052176211566093,
           -0.43232668915365186,
           -0.39367720982788657
          ],
          [
           -0.34486293825554915,
           -0.3574207046539878,
           0.1785546904970818,
           0.5546872943570678,
           0.03681408184868827,
           0.4623612729307462,
           0.38967960523785505,
           0.43990227852334146,
           0.8958815447454912,
           0.16218438173807212,
           0.4182486766820842,
           0.8464366256278589,
           0.7944070890928854,
           0.40754193292505486,
           0.3460454340330705,
           0.019499127629324018,
           1,
           0.32431243966284773,
           0.5336408521019808,
           0.8505603812175895,
           0.8281915752109807,
           -0.36368918641749703,
           0.5707694373832813,
           0.5777161949908333,
           0.3773322888327131,
           -0.3886636642353273,
           0.8148568399174403,
           0.7426089007637934,
           0.18945273445517555
          ],
          [
           -0.7323665194926693,
           0.527990356442128,
           0.7854854214965284,
           -0.23992544591561213,
           -0.8901313674596966,
           0.004208704942558017,
           -0.4474783834705347,
           -0.09397473568615626,
           0.4079687331952831,
           0.8598894563901882,
           -0.34111851072436183,
           0.15932058591581355,
           0.5869480515966876,
           0.010368626619452283,
           -0.5905269944297135,
           0.8968892294002685,
           0.32431243966284773,
           1,
           0.48348301988407727,
           0.35074638280094017,
           0.16999421389505262,
           -0.3861855327702153,
           -0.19850032775168638,
           0.12500854400799627,
           -0.3545157584886579,
           0.4975099073148858,
           0.23684331795808808,
           -0.13097887985967524,
           -0.24027471749056215
          ],
          [
           -0.2963100290938747,
           -0.23382730370840135,
           0.4104625327648179,
           0.2187159048303994,
           -0.25271590630282886,
           0.7277476084739379,
           0.05038391784705125,
           0.491372877044,
           0.6644936324513255,
           0.3162174196878065,
           0.23242034541726903,
           0.6694687547290742,
           0.6528395056737762,
           0.25959190091604606,
           0.2002297491511751,
           0.40392563673669757,
           0.5336408521019808,
           0.48348301988407727,
           1,
           0.6896831357665599,
           0.6610728741034042,
           -0.6727002922161174,
           0.24584039392142065,
           0.12483950644322722,
           0.39403863353706187,
           -0.254289992077328,
           0.6997975981902222,
           0.296428427804458,
           -0.1623101658364323
          ],
          [
           -0.48320615504189035,
           -0.3832454890255851,
           0.3652982090086052,
           0.6861524749006503,
           -0.013453871907822375,
           0.46045729500992294,
           0.5117677875066228,
           0.31248303255777893,
           0.7764949352581754,
           0.279576993331375,
           0.44482916154895935,
           0.7925992381786321,
           0.8385256951364047,
           0.6969332809959836,
           0.3164647397152999,
           0.08041064178567585,
           0.8505603812175895,
           0.35074638280094017,
           0.6896831357665599,
           1,
           0.8198467904977871,
           -0.3674538374659178,
           0.7056993332935301,
           0.6524935126254944,
           0.3234983562910577,
           -0.4343275662265498,
           0.7197120762280442,
           0.7136021188008099,
           0.2828380356394206
          ],
          [
           -0.15643577439362966,
           -0.6454515568645186,
           0.01654904060055529,
           0.6356371517428223,
           0.2313763311967892,
           0.6791451967142625,
           0.5048053550375905,
           0.6261586851642212,
           0.825386935042352,
           -0.05097062610763155,
           0.634327661965991,
           0.9788887184787435,
           0.7752413659864078,
           0.40999729056150885,
           0.6261811813695959,
           -0.1128161440591679,
           0.8281915752109807,
           0.16999421389505262,
           0.6610728741034042,
           0.8198467904977871,
           1,
           -0.5763207059262652,
           0.6406659827929793,
           0.39913916333240607,
           0.678967695148228,
           -0.6893439594565846,
           0.9232326201671481,
           0.6947199574906814,
           0.0735830888651906
          ],
          [
           0.018313202816187764,
           0.3377299350839668,
           -0.09817938020320448,
           0.025437773727649764,
           0.21191043743779162,
           -0.6556654028910238,
           0.12381057659055285,
           -0.43434141686914063,
           -0.4837149586837709,
           -0.10578313862639348,
           -0.4116329773421824,
           -0.5902889349216367,
           -0.42366581103083223,
           -0.009662698249407567,
           -0.247901735719425,
           -0.3827829854883146,
           -0.36368918641749703,
           -0.3861855327702153,
           -0.6727002922161174,
           -0.3674538374659178,
           -0.5763207059262652,
           1,
           0.009791675118756593,
           0.12974072704337633,
           -0.5294485716475521,
           0.29008932208474414,
           -0.6834830617036866,
           -0.07591449033229893,
           0.4832870004128046
          ],
          [
           -0.2340484363818931,
           -0.6012347929204273,
           -0.03830142337886561,
           0.9969616082097544,
           0.49666873602332284,
           0.25187973999034047,
           0.9457349666085193,
           0.19125115178415453,
           0.41727910902789095,
           -0.17007281136510238,
           0.6609379018600142,
           0.6065160072072777,
           0.47545125072655053,
           0.7630957617115143,
           0.5882998465140239,
           -0.49245168600683137,
           0.5707694373832813,
           -0.19850032775168638,
           0.24584039392142065,
           0.7056993332935301,
           0.6406659827929793,
           0.009791675118756593,
           1,
           0.7748502880312134,
           0.3832025176620363,
           -0.6718272360081864,
           0.4635963243424618,
           0.7989197354650581,
           0.6249996765749448
          ],
          [
           -0.5607082028156882,
           -0.12535260940730245,
           0.31876475845712,
           0.7553421832126831,
           0.0740261929260041,
           -0.04556219651769026,
           0.6686770402733528,
           -0.13885764427760416,
           0.36599148431286616,
           0.24279662380587136,
           0.31275562825910935,
           0.375614631888058,
           0.49848932879150315,
           0.7319268600032728,
           0.09339057128039668,
           -0.14666426810752384,
           0.5777161949908333,
           0.12500854400799627,
           0.12483950644322722,
           0.6524935126254944,
           0.39913916333240607,
           0.12974072704337633,
           0.7748502880312134,
           1,
           -0.07532587622860813,
           -0.19264754888459937,
           0.2737037940527443,
           0.6731060256358615,
           0.699332500764418
          ],
          [
           0.5427997700722047,
           -0.8637663844265303,
           -0.585571838565906,
           0.396604181669598,
           0.6240426120586057,
           0.800228233661821,
           0.40603819221266224,
           0.7933210017759446,
           0.46720765452958146,
           -0.6437991299755116,
           0.7352440294738617,
           0.721104734986165,
           0.1412047245675965,
           0.036472980827744195,
           0.9003043424800089,
           -0.4591293823023192,
           0.3773322888327131,
           -0.3545157584886579,
           0.39403863353706187,
           0.3234983562910577,
           0.678967695148228,
           -0.5294485716475521,
           0.3832025176620363,
           -0.07532587622860813,
           1,
           -0.8560796473378339,
           0.7143764238677237,
           0.4277256613331283,
           -0.21157069446782503
          ],
          [
           -0.37688179059232246,
           0.9787680511055442,
           0.5364592140503041,
           -0.6962955035918674,
           -0.7828996827010603,
           -0.5357333631213587,
           -0.7299581068208518,
           -0.5592359566698792,
           -0.37756187297599,
           0.6410007203388811,
           -0.8779222052647372,
           -0.6638804290480259,
           -0.22133028710694938,
           -0.4064731839574472,
           -0.9583974646212828,
           0.6623093038378488,
           -0.3886636642353273,
           0.4975099073148858,
           -0.254289992077328,
           -0.4343275662265498,
           -0.6893439594565846,
           0.29008932208474414,
           -0.6718272360081864,
           -0.19264754888459937,
           -0.8560796473378339,
           1,
           -0.5691337711735306,
           -0.5452981319597117,
           -0.12082340425132539
          ],
          [
           -0.07406346554745348,
           -0.55701348080464,
           -0.007472754851725024,
           0.4491483709879634,
           0.14008582125353897,
           0.7772486709759213,
           0.31248518410858184,
           0.7144162770970782,
           0.8642293204341724,
           -0.05673162714284706,
           0.5559415651411714,
           0.9725449354443839,
           0.6995707685042317,
           0.2000204023855361,
           0.576657923834148,
           0.0033052176211566093,
           0.8148568399174403,
           0.23684331795808808,
           0.6997975981902222,
           0.7197120762280442,
           0.9232326201671481,
           -0.6834830617036866,
           0.4635963243424618,
           0.2737037940527443,
           0.7143764238677237,
           -0.5691337711735306,
           1,
           0.6234844839830438,
           -0.07622848117723431
          ],
          [
           -0.13661700299556806,
           -0.5198748224479559,
           -0.08993784806437687,
           0.7980834811690598,
           0.4400853598318747,
           0.4277372210598428,
           0.7208170499844,
           0.37347310161711383,
           0.577850488559873,
           -0.1870206346280872,
           0.49237234577469635,
           0.7247431302678422,
           0.4977755499184294,
           0.5183034742270309,
           0.5479414640591168,
           -0.43232668915365186,
           0.7426089007637934,
           -0.13097887985967524,
           0.296428427804458,
           0.7136021188008099,
           0.6947199574906814,
           -0.07591449033229893,
           0.7989197354650581,
           0.6731060256358615,
           0.4277256613331283,
           -0.5452981319597117,
           0.6234844839830438,
           1,
           0.5174870700804627
          ],
          [
           -0.37062796988035296,
           -0.06379126247576149,
           0.16026393720821472,
           0.6265448755968548,
           0.29190906339656153,
           -0.2875289129449841,
           0.6583751622233933,
           -0.3188754110880532,
           -0.032541342738683754,
           0.046714139989791126,
           0.1129686445095235,
           0.04427278183416612,
           0.17996684473497762,
           0.5841460989802414,
           0.1010395781582367,
           -0.39367720982788657,
           0.18945273445517555,
           -0.24027471749056215,
           -0.1623101658364323,
           0.2828380356394206,
           0.0735830888651906,
           0.4832870004128046,
           0.6249996765749448,
           0.699332500764418,
           -0.21157069446782503,
           -0.12082340425132539,
           -0.07622848117723431,
           0.5174870700804627,
           1
          ]
         ]
        }
       ],
       "layout": {
        "coloraxis": {
         "colorbar": {
          "title": {
           "text": "Correlation"
          }
         },
         "colorscale": [
          [
           0,
           "#440154"
          ],
          [
           0.1111111111111111,
           "#482878"
          ],
          [
           0.2222222222222222,
           "#3e4989"
          ],
          [
           0.3333333333333333,
           "#31688e"
          ],
          [
           0.4444444444444444,
           "#26828e"
          ],
          [
           0.5555555555555556,
           "#1f9e89"
          ],
          [
           0.6666666666666666,
           "#35b779"
          ],
          [
           0.7777777777777778,
           "#6ece58"
          ],
          [
           0.8888888888888888,
           "#b5de2b"
          ],
          [
           1,
           "#fde725"
          ]
         ]
        },
        "height": 800,
        "margin": {
         "t": 60
        },
        "template": {
         "data": {
          "bar": [
           {
            "error_x": {
             "color": "#2a3f5f"
            },
            "error_y": {
             "color": "#2a3f5f"
            },
            "marker": {
             "line": {
              "color": "#E5ECF6",
              "width": 0.5
             },
             "pattern": {
              "fillmode": "overlay",
              "size": 10,
              "solidity": 0.2
             }
            },
            "type": "bar"
           }
          ],
          "barpolar": [
           {
            "marker": {
             "line": {
              "color": "#E5ECF6",
              "width": 0.5
             },
             "pattern": {
              "fillmode": "overlay",
              "size": 10,
              "solidity": 0.2
             }
            },
            "type": "barpolar"
           }
          ],
          "carpet": [
           {
            "aaxis": {
             "endlinecolor": "#2a3f5f",
             "gridcolor": "white",
             "linecolor": "white",
             "minorgridcolor": "white",
             "startlinecolor": "#2a3f5f"
            },
            "baxis": {
             "endlinecolor": "#2a3f5f",
             "gridcolor": "white",
             "linecolor": "white",
             "minorgridcolor": "white",
             "startlinecolor": "#2a3f5f"
            },
            "type": "carpet"
           }
          ],
          "choropleth": [
           {
            "colorbar": {
             "outlinewidth": 0,
             "ticks": ""
            },
            "type": "choropleth"
           }
          ],
          "contour": [
           {
            "colorbar": {
             "outlinewidth": 0,
             "ticks": ""
            },
            "colorscale": [
             [
              0,
              "#0d0887"
             ],
             [
              0.1111111111111111,
              "#46039f"
             ],
             [
              0.2222222222222222,
              "#7201a8"
             ],
             [
              0.3333333333333333,
              "#9c179e"
             ],
             [
              0.4444444444444444,
              "#bd3786"
             ],
             [
              0.5555555555555556,
              "#d8576b"
             ],
             [
              0.6666666666666666,
              "#ed7953"
             ],
             [
              0.7777777777777778,
              "#fb9f3a"
             ],
             [
              0.8888888888888888,
              "#fdca26"
             ],
             [
              1,
              "#f0f921"
             ]
            ],
            "type": "contour"
           }
          ],
          "contourcarpet": [
           {
            "colorbar": {
             "outlinewidth": 0,
             "ticks": ""
            },
            "type": "contourcarpet"
           }
          ],
          "heatmap": [
           {
            "colorbar": {
             "outlinewidth": 0,
             "ticks": ""
            },
            "colorscale": [
             [
              0,
              "#0d0887"
             ],
             [
              0.1111111111111111,
              "#46039f"
             ],
             [
              0.2222222222222222,
              "#7201a8"
             ],
             [
              0.3333333333333333,
              "#9c179e"
             ],
             [
              0.4444444444444444,
              "#bd3786"
             ],
             [
              0.5555555555555556,
              "#d8576b"
             ],
             [
              0.6666666666666666,
              "#ed7953"
             ],
             [
              0.7777777777777778,
              "#fb9f3a"
             ],
             [
              0.8888888888888888,
              "#fdca26"
             ],
             [
              1,
              "#f0f921"
             ]
            ],
            "type": "heatmap"
           }
          ],
          "heatmapgl": [
           {
            "colorbar": {
             "outlinewidth": 0,
             "ticks": ""
            },
            "colorscale": [
             [
              0,
              "#0d0887"
             ],
             [
              0.1111111111111111,
              "#46039f"
             ],
             [
              0.2222222222222222,
              "#7201a8"
             ],
             [
              0.3333333333333333,
              "#9c179e"
             ],
             [
              0.4444444444444444,
              "#bd3786"
             ],
             [
              0.5555555555555556,
              "#d8576b"
             ],
             [
              0.6666666666666666,
              "#ed7953"
             ],
             [
              0.7777777777777778,
              "#fb9f3a"
             ],
             [
              0.8888888888888888,
              "#fdca26"
             ],
             [
              1,
              "#f0f921"
             ]
            ],
            "type": "heatmapgl"
           }
          ],
          "histogram": [
           {
            "marker": {
             "pattern": {
              "fillmode": "overlay",
              "size": 10,
              "solidity": 0.2
             }
            },
            "type": "histogram"
           }
          ],
          "histogram2d": [
           {
            "colorbar": {
             "outlinewidth": 0,
             "ticks": ""
            },
            "colorscale": [
             [
              0,
              "#0d0887"
             ],
             [
              0.1111111111111111,
              "#46039f"
             ],
             [
              0.2222222222222222,
              "#7201a8"
             ],
             [
              0.3333333333333333,
              "#9c179e"
             ],
             [
              0.4444444444444444,
              "#bd3786"
             ],
             [
              0.5555555555555556,
              "#d8576b"
             ],
             [
              0.6666666666666666,
              "#ed7953"
             ],
             [
              0.7777777777777778,
              "#fb9f3a"
             ],
             [
              0.8888888888888888,
              "#fdca26"
             ],
             [
              1,
              "#f0f921"
             ]
            ],
            "type": "histogram2d"
           }
          ],
          "histogram2dcontour": [
           {
            "colorbar": {
             "outlinewidth": 0,
             "ticks": ""
            },
            "colorscale": [
             [
              0,
              "#0d0887"
             ],
             [
              0.1111111111111111,
              "#46039f"
             ],
             [
              0.2222222222222222,
              "#7201a8"
             ],
             [
              0.3333333333333333,
              "#9c179e"
             ],
             [
              0.4444444444444444,
              "#bd3786"
             ],
             [
              0.5555555555555556,
              "#d8576b"
             ],
             [
              0.6666666666666666,
              "#ed7953"
             ],
             [
              0.7777777777777778,
              "#fb9f3a"
             ],
             [
              0.8888888888888888,
              "#fdca26"
             ],
             [
              1,
              "#f0f921"
             ]
            ],
            "type": "histogram2dcontour"
           }
          ],
          "mesh3d": [
           {
            "colorbar": {
             "outlinewidth": 0,
             "ticks": ""
            },
            "type": "mesh3d"
           }
          ],
          "parcoords": [
           {
            "line": {
             "colorbar": {
              "outlinewidth": 0,
              "ticks": ""
             }
            },
            "type": "parcoords"
           }
          ],
          "pie": [
           {
            "automargin": true,
            "type": "pie"
           }
          ],
          "scatter": [
           {
            "fillpattern": {
             "fillmode": "overlay",
             "size": 10,
             "solidity": 0.2
            },
            "type": "scatter"
           }
          ],
          "scatter3d": [
           {
            "line": {
             "colorbar": {
              "outlinewidth": 0,
              "ticks": ""
             }
            },
            "marker": {
             "colorbar": {
              "outlinewidth": 0,
              "ticks": ""
             }
            },
            "type": "scatter3d"
           }
          ],
          "scattercarpet": [
           {
            "marker": {
             "colorbar": {
              "outlinewidth": 0,
              "ticks": ""
             }
            },
            "type": "scattercarpet"
           }
          ],
          "scattergeo": [
           {
            "marker": {
             "colorbar": {
              "outlinewidth": 0,
              "ticks": ""
             }
            },
            "type": "scattergeo"
           }
          ],
          "scattergl": [
           {
            "marker": {
             "colorbar": {
              "outlinewidth": 0,
              "ticks": ""
             }
            },
            "type": "scattergl"
           }
          ],
          "scattermapbox": [
           {
            "marker": {
             "colorbar": {
              "outlinewidth": 0,
              "ticks": ""
             }
            },
            "type": "scattermapbox"
           }
          ],
          "scatterpolar": [
           {
            "marker": {
             "colorbar": {
              "outlinewidth": 0,
              "ticks": ""
             }
            },
            "type": "scatterpolar"
           }
          ],
          "scatterpolargl": [
           {
            "marker": {
             "colorbar": {
              "outlinewidth": 0,
              "ticks": ""
             }
            },
            "type": "scatterpolargl"
           }
          ],
          "scatterternary": [
           {
            "marker": {
             "colorbar": {
              "outlinewidth": 0,
              "ticks": ""
             }
            },
            "type": "scatterternary"
           }
          ],
          "surface": [
           {
            "colorbar": {
             "outlinewidth": 0,
             "ticks": ""
            },
            "colorscale": [
             [
              0,
              "#0d0887"
             ],
             [
              0.1111111111111111,
              "#46039f"
             ],
             [
              0.2222222222222222,
              "#7201a8"
             ],
             [
              0.3333333333333333,
              "#9c179e"
             ],
             [
              0.4444444444444444,
              "#bd3786"
             ],
             [
              0.5555555555555556,
              "#d8576b"
             ],
             [
              0.6666666666666666,
              "#ed7953"
             ],
             [
              0.7777777777777778,
              "#fb9f3a"
             ],
             [
              0.8888888888888888,
              "#fdca26"
             ],
             [
              1,
              "#f0f921"
             ]
            ],
            "type": "surface"
           }
          ],
          "table": [
           {
            "cells": {
             "fill": {
              "color": "#EBF0F8"
             },
             "line": {
              "color": "white"
             }
            },
            "header": {
             "fill": {
              "color": "#C8D4E3"
             },
             "line": {
              "color": "white"
             }
            },
            "type": "table"
           }
          ]
         },
         "layout": {
          "annotationdefaults": {
           "arrowcolor": "#2a3f5f",
           "arrowhead": 0,
           "arrowwidth": 1
          },
          "autotypenumbers": "strict",
          "coloraxis": {
           "colorbar": {
            "outlinewidth": 0,
            "ticks": ""
           }
          },
          "colorscale": {
           "diverging": [
            [
             0,
             "#8e0152"
            ],
            [
             0.1,
             "#c51b7d"
            ],
            [
             0.2,
             "#de77ae"
            ],
            [
             0.3,
             "#f1b6da"
            ],
            [
             0.4,
             "#fde0ef"
            ],
            [
             0.5,
             "#f7f7f7"
            ],
            [
             0.6,
             "#e6f5d0"
            ],
            [
             0.7,
             "#b8e186"
            ],
            [
             0.8,
             "#7fbc41"
            ],
            [
             0.9,
             "#4d9221"
            ],
            [
             1,
             "#276419"
            ]
           ],
           "sequential": [
            [
             0,
             "#0d0887"
            ],
            [
             0.1111111111111111,
             "#46039f"
            ],
            [
             0.2222222222222222,
             "#7201a8"
            ],
            [
             0.3333333333333333,
             "#9c179e"
            ],
            [
             0.4444444444444444,
             "#bd3786"
            ],
            [
             0.5555555555555556,
             "#d8576b"
            ],
            [
             0.6666666666666666,
             "#ed7953"
            ],
            [
             0.7777777777777778,
             "#fb9f3a"
            ],
            [
             0.8888888888888888,
             "#fdca26"
            ],
            [
             1,
             "#f0f921"
            ]
           ],
           "sequentialminus": [
            [
             0,
             "#0d0887"
            ],
            [
             0.1111111111111111,
             "#46039f"
            ],
            [
             0.2222222222222222,
             "#7201a8"
            ],
            [
             0.3333333333333333,
             "#9c179e"
            ],
            [
             0.4444444444444444,
             "#bd3786"
            ],
            [
             0.5555555555555556,
             "#d8576b"
            ],
            [
             0.6666666666666666,
             "#ed7953"
            ],
            [
             0.7777777777777778,
             "#fb9f3a"
            ],
            [
             0.8888888888888888,
             "#fdca26"
            ],
            [
             1,
             "#f0f921"
            ]
           ]
          },
          "colorway": [
           "#636efa",
           "#EF553B",
           "#00cc96",
           "#ab63fa",
           "#FFA15A",
           "#19d3f3",
           "#FF6692",
           "#B6E880",
           "#FF97FF",
           "#FECB52"
          ],
          "font": {
           "color": "#2a3f5f"
          },
          "geo": {
           "bgcolor": "white",
           "lakecolor": "white",
           "landcolor": "#E5ECF6",
           "showlakes": true,
           "showland": true,
           "subunitcolor": "white"
          },
          "hoverlabel": {
           "align": "left"
          },
          "hovermode": "closest",
          "mapbox": {
           "style": "light"
          },
          "paper_bgcolor": "white",
          "plot_bgcolor": "#E5ECF6",
          "polar": {
           "angularaxis": {
            "gridcolor": "white",
            "linecolor": "white",
            "ticks": ""
           },
           "bgcolor": "#E5ECF6",
           "radialaxis": {
            "gridcolor": "white",
            "linecolor": "white",
            "ticks": ""
           }
          },
          "scene": {
           "xaxis": {
            "backgroundcolor": "#E5ECF6",
            "gridcolor": "white",
            "gridwidth": 2,
            "linecolor": "white",
            "showbackground": true,
            "ticks": "",
            "zerolinecolor": "white"
           },
           "yaxis": {
            "backgroundcolor": "#E5ECF6",
            "gridcolor": "white",
            "gridwidth": 2,
            "linecolor": "white",
            "showbackground": true,
            "ticks": "",
            "zerolinecolor": "white"
           },
           "zaxis": {
            "backgroundcolor": "#E5ECF6",
            "gridcolor": "white",
            "gridwidth": 2,
            "linecolor": "white",
            "showbackground": true,
            "ticks": "",
            "zerolinecolor": "white"
           }
          },
          "shapedefaults": {
           "line": {
            "color": "#2a3f5f"
           }
          },
          "ternary": {
           "aaxis": {
            "gridcolor": "white",
            "linecolor": "white",
            "ticks": ""
           },
           "baxis": {
            "gridcolor": "white",
            "linecolor": "white",
            "ticks": ""
           },
           "bgcolor": "#E5ECF6",
           "caxis": {
            "gridcolor": "white",
            "linecolor": "white",
            "ticks": ""
           }
          },
          "title": {
           "x": 0.05
          },
          "xaxis": {
           "automargin": true,
           "gridcolor": "white",
           "linecolor": "white",
           "ticks": "",
           "title": {
            "standoff": 15
           },
           "zerolinecolor": "white",
           "zerolinewidth": 2
          },
          "yaxis": {
           "automargin": true,
           "gridcolor": "white",
           "linecolor": "white",
           "ticks": "",
           "title": {
            "standoff": 15
           },
           "zerolinecolor": "white",
           "zerolinewidth": 2
          }
         }
        },
        "title": {
         "text": "Pairwise Correlation Matrix of Close Prices"
        },
        "width": 800,
        "xaxis": {
         "anchor": "y",
         "constrain": "domain",
         "domain": [
          0,
          1
         ],
         "scaleanchor": "y",
         "title": {
          "text": "Instruments"
         }
        },
        "yaxis": {
         "anchor": "x",
         "autorange": "reversed",
         "constrain": "domain",
         "domain": [
          0,
          1
         ],
         "title": {
          "text": "Instruments"
         }
        }
       }
      }
     },
     "metadata": {},
     "output_type": "display_data"
    }
   ],
   "source": [
    "import plotly.express as px\n",
    "\n",
    "# Calculate the pairwise correlation matrix for the close prices\n",
    "correlation_matrix = close_prices_df.corr()\n",
    "\n",
    "# Create a heatmap using Plotly\n",
    "fig = px.imshow(correlation_matrix,\n",
    "                labels=dict(color=\"Correlation\"),\n",
    "                x=correlation_matrix.columns,\n",
    "                y=correlation_matrix.columns,\n",
    "                color_continuous_scale=\"Viridis\")\n",
    "\n",
    "# Update layout for better readability\n",
    "fig.update_layout(title=\"Pairwise Correlation Matrix of Close Prices\",\n",
    "                  xaxis_title=\"Instruments\",\n",
    "                  yaxis_title=\"Instruments\",\n",
    "                  width=800, height=800)\n",
    "\n",
    "# Show the plot\n",
    "fig.show()\n"
   ]
  },
  {
   "cell_type": "code",
   "execution_count": 7,
   "metadata": {},
   "outputs": [
    {
     "data": {
      "application/vnd.plotly.v1+json": {
       "config": {
        "plotlyServerURL": "https://plot.ly"
       },
       "data": [
        {
         "hoverinfo": "text",
         "line": {
          "color": "gray",
          "width": 2
         },
         "mode": "lines",
         "text": [
          "USDCAD_Candlestick_1_Hour_BID_01_df vs AUDUSD_Candlestick_1_Hour_BID_01_df: -0.89",
          "USDCAD_Candlestick_1_Hour_BID_01_df vs DOLLAR_df: 0.65",
          "USDCAD_Candlestick_1_Hour_BID_01_df vs NZDUSD_Candlestick_1_Hour_BID_01_df: -0.86",
          "USDCAD_Candlestick_1_Hour_BID_01_df vs USSC2000_df: -0.65",
          "USDCAD_Candlestick_1_Hour_BID_01_df vs USDJPY_Candlestick_1_Hour_BID_01_df: 0.51",
          "USDCAD_Candlestick_1_Hour_BID_01_df vs EURUSD_Candlestick_1_Hour_BID_01_df: -0.58",
          "USDCAD_Candlestick_1_Hour_BID_01_df vs GBPUSD_Candlestick_1_Hour_BID_01_df: -0.73",
          "USDCAD_Candlestick_1_Hour_BID_01_df vs COTTON_df: -0.56",
          "USDCAD_Candlestick_1_Hour_BID_01_df vs OJUICE_df: 0.54",
          "UKGILT_df vs AUDUSD_Candlestick_1_Hour_BID_01_df: 0.59",
          "UKGILT_df vs BRENT_df: -0.63",
          "UKGILT_df vs DOLLAR_df: -0.79",
          "UKGILT_df vs XAUUSD_Candlestick_1_Hour_BID_01_df: -0.54",
          "UKGILT_df vs DIESEL_df: -0.67",
          "UKGILT_df vs COCOA_df: -0.54",
          "UKGILT_df vs NZDUSD_Candlestick_1_Hour_BID_01_df: 0.69",
          "UKGILT_df vs SUGAR_df: -0.89",
          "UKGILT_df vs USA500_df: -0.63",
          "UKGILT_df vs USDJPY_Candlestick_1_Hour_BID_01_df: -0.95",
          "UKGILT_df vs EURUSD_Candlestick_1_Hour_BID_01_df: 0.66",
          "UKGILT_df vs GBPUSD_Candlestick_1_Hour_BID_01_df: 0.53",
          "UKGILT_df vs USA30_df: -0.65",
          "UKGILT_df vs LIGHT_df: -0.60",
          "UKGILT_df vs OJUICE_df: -0.86",
          "UKGILT_df vs USTBOND_df: 0.98",
          "UKGILT_df vs USATECH_df: -0.56",
          "UKGILT_df vs COFFEE_df: -0.52",
          "AUDUSD_Candlestick_1_Hour_BID_01_df vs DOLLAR_df: -0.80",
          "AUDUSD_Candlestick_1_Hour_BID_01_df vs NZDUSD_Candlestick_1_Hour_BID_01_df: 0.96",
          "AUDUSD_Candlestick_1_Hour_BID_01_df vs USSC2000_df: 0.56",
          "AUDUSD_Candlestick_1_Hour_BID_01_df vs USDJPY_Candlestick_1_Hour_BID_01_df: -0.66",
          "AUDUSD_Candlestick_1_Hour_BID_01_df vs EURUSD_Candlestick_1_Hour_BID_01_df: 0.77",
          "AUDUSD_Candlestick_1_Hour_BID_01_df vs GBPUSD_Candlestick_1_Hour_BID_01_df: 0.79",
          "AUDUSD_Candlestick_1_Hour_BID_01_df vs OJUICE_df: -0.59",
          "AUDUSD_Candlestick_1_Hour_BID_01_df vs USTBOND_df: 0.54",
          "BRENT_df vs DOLLAR_df: 0.54",
          "BRENT_df vs DIESEL_df: 0.96",
          "BRENT_df vs SUGAR_df: 0.67",
          "BRENT_df vs USA500_df: 0.60",
          "BRENT_df vs SOYBEAN_df: 0.76",
          "BRENT_df vs USDJPY_Candlestick_1_Hour_BID_01_df: 0.61",
          "BRENT_df vs EURUSD_Candlestick_1_Hour_BID_01_df: -0.53",
          "BRENT_df vs ETHUSD_Candlestick_1_Hour_BID_01_df: 0.55",
          "BRENT_df vs COPPER_df: 0.69",
          "BRENT_df vs USA30_df: 0.64",
          "BRENT_df vs LIGHT_df: 1.00",
          "BRENT_df vs COTTON_df: 0.76",
          "BRENT_df vs USTBOND_df: -0.70",
          "BRENT_df vs COFFEE_df: 0.80",
          "BRENT_df vs GAS_df: 0.63",
          "DOLLAR_df vs DIESEL_df: 0.68",
          "DOLLAR_df vs NZDUSD_Candlestick_1_Hour_BID_01_df: -0.90",
          "DOLLAR_df vs SUGAR_df: 0.61",
          "DOLLAR_df vs USDJPY_Candlestick_1_Hour_BID_01_df: 0.85",
          "DOLLAR_df vs EURUSD_Candlestick_1_Hour_BID_01_df: -0.97",
          "DOLLAR_df vs GBPUSD_Candlestick_1_Hour_BID_01_df: -0.89",
          "DOLLAR_df vs OJUICE_df: 0.62",
          "DOLLAR_df vs USTBOND_df: -0.78",
          "XAUUSD_Candlestick_1_Hour_BID_01_df vs COCOA_df: 0.85",
          "XAUUSD_Candlestick_1_Hour_BID_01_df vs BTCUSD_Candlestick_1_Hour_BID_01_df: 0.60",
          "XAUUSD_Candlestick_1_Hour_BID_01_df vs USA500_df: 0.75",
          "XAUUSD_Candlestick_1_Hour_BID_01_df vs USDJPY_Candlestick_1_Hour_BID_01_df: 0.60",
          "XAUUSD_Candlestick_1_Hour_BID_01_df vs XAGUSD_Candlestick_1_Hour_BID_01_df: 0.73",
          "XAUUSD_Candlestick_1_Hour_BID_01_df vs USA30_df: 0.68",
          "XAUUSD_Candlestick_1_Hour_BID_01_df vs USDCHF_Candlestick_1_Hour_BID_01_df: -0.66",
          "XAUUSD_Candlestick_1_Hour_BID_01_df vs OJUICE_df: 0.80",
          "XAUUSD_Candlestick_1_Hour_BID_01_df vs USTBOND_df: -0.54",
          "XAUUSD_Candlestick_1_Hour_BID_01_df vs USATECH_df: 0.78",
          "DIESEL_df vs SUGAR_df: 0.68",
          "DIESEL_df vs SOYBEAN_df: 0.70",
          "DIESEL_df vs USDJPY_Candlestick_1_Hour_BID_01_df: 0.67",
          "DIESEL_df vs EURUSD_Candlestick_1_Hour_BID_01_df: -0.69",
          "DIESEL_df vs COPPER_df: 0.51",
          "DIESEL_df vs USA30_df: 0.50",
          "DIESEL_df vs LIGHT_df: 0.95",
          "DIESEL_df vs COTTON_df: 0.67",
          "DIESEL_df vs USTBOND_df: -0.73",
          "DIESEL_df vs COFFEE_df: 0.72",
          "DIESEL_df vs GAS_df: 0.66",
          "COCOA_df vs BTCUSD_Candlestick_1_Hour_BID_01_df: 0.63",
          "COCOA_df vs USA500_df: 0.70",
          "COCOA_df vs USDJPY_Candlestick_1_Hour_BID_01_df: 0.65",
          "COCOA_df vs USA30_df: 0.63",
          "COCOA_df vs OJUICE_df: 0.79",
          "COCOA_df vs USTBOND_df: -0.56",
          "COCOA_df vs USATECH_df: 0.71",
          "BTCUSD_Candlestick_1_Hour_BID_01_df vs USA500_df: 0.85",
          "BTCUSD_Candlestick_1_Hour_BID_01_df vs USSC2000_df: 0.80",
          "BTCUSD_Candlestick_1_Hour_BID_01_df vs ETHUSD_Candlestick_1_Hour_BID_01_df: 0.90",
          "BTCUSD_Candlestick_1_Hour_BID_01_df vs XAGUSD_Candlestick_1_Hour_BID_01_df: 0.66",
          "BTCUSD_Candlestick_1_Hour_BID_01_df vs COPPER_df: 0.78",
          "BTCUSD_Candlestick_1_Hour_BID_01_df vs USA30_df: 0.83",
          "BTCUSD_Candlestick_1_Hour_BID_01_df vs USATECH_df: 0.86",
          "BTCUSD_Candlestick_1_Hour_BID_01_df vs COFFEE_df: 0.58",
          "NZDUSD_Candlestick_1_Hour_BID_01_df vs USSC2000_df: 0.51",
          "NZDUSD_Candlestick_1_Hour_BID_01_df vs USDJPY_Candlestick_1_Hour_BID_01_df: -0.76",
          "NZDUSD_Candlestick_1_Hour_BID_01_df vs EURUSD_Candlestick_1_Hour_BID_01_df: 0.84",
          "NZDUSD_Candlestick_1_Hour_BID_01_df vs GBPUSD_Candlestick_1_Hour_BID_01_df: 0.86",
          "NZDUSD_Candlestick_1_Hour_BID_01_df vs OJUICE_df: -0.64",
          "NZDUSD_Candlestick_1_Hour_BID_01_df vs USTBOND_df: 0.64",
          "SUGAR_df vs USA500_df: 0.61",
          "SUGAR_df vs USDJPY_Candlestick_1_Hour_BID_01_df: 0.81",
          "SUGAR_df vs EURUSD_Candlestick_1_Hour_BID_01_df: -0.50",
          "SUGAR_df vs USA30_df: 0.63",
          "SUGAR_df vs LIGHT_df: 0.66",
          "SUGAR_df vs OJUICE_df: 0.74",
          "SUGAR_df vs USTBOND_df: -0.88",
          "SUGAR_df vs USATECH_df: 0.56",
          "USA500_df vs USSC2000_df: 0.73",
          "USA500_df vs USDJPY_Candlestick_1_Hour_BID_01_df: 0.64",
          "USA500_df vs ETHUSD_Candlestick_1_Hour_BID_01_df: 0.85",
          "USA500_df vs XAGUSD_Candlestick_1_Hour_BID_01_df: 0.67",
          "USA500_df vs COPPER_df: 0.79",
          "USA500_df vs USA30_df: 0.98",
          "USA500_df vs USDCHF_Candlestick_1_Hour_BID_01_df: -0.59",
          "USA500_df vs LIGHT_df: 0.61",
          "USA500_df vs OJUICE_df: 0.72",
          "USA500_df vs USTBOND_df: -0.66",
          "USA500_df vs USATECH_df: 0.97",
          "USA500_df vs COFFEE_df: 0.72",
          "USSC2000_df vs ETHUSD_Candlestick_1_Hour_BID_01_df: 0.79",
          "USSC2000_df vs GBPUSD_Candlestick_1_Hour_BID_01_df: 0.59",
          "USSC2000_df vs XAGUSD_Candlestick_1_Hour_BID_01_df: 0.65",
          "USSC2000_df vs COPPER_df: 0.84",
          "USSC2000_df vs USA30_df: 0.78",
          "USSC2000_df vs USATECH_df: 0.70",
          "SOYBEAN_df vs COPPER_df: 0.70",
          "SOYBEAN_df vs LIGHT_df: 0.76",
          "SOYBEAN_df vs COTTON_df: 0.73",
          "SOYBEAN_df vs COFFEE_df: 0.52",
          "SOYBEAN_df vs GAS_df: 0.58",
          "USDJPY_Candlestick_1_Hour_BID_01_df vs EURUSD_Candlestick_1_Hour_BID_01_df: -0.73",
          "USDJPY_Candlestick_1_Hour_BID_01_df vs GBPUSD_Candlestick_1_Hour_BID_01_df: -0.59",
          "USDJPY_Candlestick_1_Hour_BID_01_df vs USA30_df: 0.63",
          "USDJPY_Candlestick_1_Hour_BID_01_df vs LIGHT_df: 0.59",
          "USDJPY_Candlestick_1_Hour_BID_01_df vs OJUICE_df: 0.90",
          "USDJPY_Candlestick_1_Hour_BID_01_df vs USTBOND_df: -0.96",
          "USDJPY_Candlestick_1_Hour_BID_01_df vs USATECH_df: 0.58",
          "USDJPY_Candlestick_1_Hour_BID_01_df vs COFFEE_df: 0.55",
          "EURUSD_Candlestick_1_Hour_BID_01_df vs GBPUSD_Candlestick_1_Hour_BID_01_df: 0.90",
          "EURUSD_Candlestick_1_Hour_BID_01_df vs USTBOND_df: 0.66",
          "ETHUSD_Candlestick_1_Hour_BID_01_df vs XAGUSD_Candlestick_1_Hour_BID_01_df: 0.53",
          "ETHUSD_Candlestick_1_Hour_BID_01_df vs COPPER_df: 0.85",
          "ETHUSD_Candlestick_1_Hour_BID_01_df vs USA30_df: 0.83",
          "ETHUSD_Candlestick_1_Hour_BID_01_df vs LIGHT_df: 0.57",
          "ETHUSD_Candlestick_1_Hour_BID_01_df vs COTTON_df: 0.58",
          "ETHUSD_Candlestick_1_Hour_BID_01_df vs USATECH_df: 0.81",
          "ETHUSD_Candlestick_1_Hour_BID_01_df vs COFFEE_df: 0.74",
          "XAGUSD_Candlestick_1_Hour_BID_01_df vs COPPER_df: 0.69",
          "XAGUSD_Candlestick_1_Hour_BID_01_df vs USA30_df: 0.66",
          "XAGUSD_Candlestick_1_Hour_BID_01_df vs USDCHF_Candlestick_1_Hour_BID_01_df: -0.67",
          "XAGUSD_Candlestick_1_Hour_BID_01_df vs USATECH_df: 0.70",
          "COPPER_df vs USA30_df: 0.82",
          "COPPER_df vs LIGHT_df: 0.71",
          "COPPER_df vs COTTON_df: 0.65",
          "COPPER_df vs USATECH_df: 0.72",
          "COPPER_df vs COFFEE_df: 0.71",
          "USA30_df vs USDCHF_Candlestick_1_Hour_BID_01_df: -0.58",
          "USA30_df vs LIGHT_df: 0.64",
          "USA30_df vs OJUICE_df: 0.68",
          "USA30_df vs USTBOND_df: -0.69",
          "USA30_df vs USATECH_df: 0.92",
          "USA30_df vs COFFEE_df: 0.69",
          "USDCHF_Candlestick_1_Hour_BID_01_df vs OJUICE_df: -0.53",
          "USDCHF_Candlestick_1_Hour_BID_01_df vs USATECH_df: -0.68",
          "LIGHT_df vs COTTON_df: 0.77",
          "LIGHT_df vs USTBOND_df: -0.67",
          "LIGHT_df vs COFFEE_df: 0.80",
          "LIGHT_df vs GAS_df: 0.62",
          "COTTON_df vs COFFEE_df: 0.67",
          "COTTON_df vs GAS_df: 0.70",
          "OJUICE_df vs USTBOND_df: -0.86",
          "OJUICE_df vs USATECH_df: 0.71",
          "USTBOND_df vs USATECH_df: -0.57",
          "USTBOND_df vs COFFEE_df: -0.55",
          "USATECH_df vs COFFEE_df: 0.62",
          "COFFEE_df vs GAS_df: 0.52"
         ],
         "type": "scatter",
         "x": [
          -0.24809454021419713,
          0.7545099684279114,
          null,
          -0.24809454021419713,
          -0.6057187461760031,
          null,
          -0.24809454021419713,
          0.5290280129511762,
          null,
          -0.24809454021419713,
          0.25034009718499894,
          null,
          -0.24809454021419713,
          -0.5159379126848974,
          null,
          -0.24809454021419713,
          0.8805926678084675,
          null,
          -0.24809454021419713,
          0.4339635223917897,
          null,
          -0.24809454021419713,
          -0.12104445601612702,
          null,
          -0.24809454021419713,
          0.06384580480132014,
          null,
          -0.12473531251999749,
          0.7545099684279114,
          null,
          -0.12473531251999749,
          -0.353806564652213,
          null,
          -0.12473531251999749,
          -0.6057187461760031,
          null,
          -0.12473531251999749,
          -0.12615219160835667,
          null,
          -0.12473531251999749,
          -0.48999110722537526,
          null,
          -0.12473531251999749,
          0.15592351063850704,
          null,
          -0.12473531251999749,
          0.5290280129511762,
          null,
          -0.12473531251999749,
          -0.3057624161305305,
          null,
          -0.12473531251999749,
          -0.15326519815700704,
          null,
          -0.12473531251999749,
          -0.5159379126848974,
          null,
          -0.12473531251999749,
          0.8805926678084675,
          null,
          -0.12473531251999749,
          0.4339635223917897,
          null,
          -0.12473531251999749,
          -0.04346608130350209,
          null,
          -0.12473531251999749,
          -0.33551532273434276,
          null,
          -0.12473531251999749,
          0.06384580480132014,
          null,
          -0.12473531251999749,
          0.886481561646788,
          null,
          -0.12473531251999749,
          -0.04515678220228217,
          null,
          -0.12473531251999749,
          -0.35240563533351954,
          null,
          0.7545099684279114,
          -0.6057187461760031,
          null,
          0.7545099684279114,
          0.5290280129511762,
          null,
          0.7545099684279114,
          0.25034009718499894,
          null,
          0.7545099684279114,
          -0.5159379126848974,
          null,
          0.7545099684279114,
          0.8805926678084675,
          null,
          0.7545099684279114,
          0.4339635223917897,
          null,
          0.7545099684279114,
          0.06384580480132014,
          null,
          0.7545099684279114,
          0.886481561646788,
          null,
          -0.353806564652213,
          -0.6057187461760031,
          null,
          -0.353806564652213,
          -0.48999110722537526,
          null,
          -0.353806564652213,
          -0.3057624161305305,
          null,
          -0.353806564652213,
          -0.15326519815700704,
          null,
          -0.353806564652213,
          -0.3969773973704464,
          null,
          -0.353806564652213,
          -0.5159379126848974,
          null,
          -0.353806564652213,
          0.8805926678084675,
          null,
          -0.353806564652213,
          -0.06456711288020175,
          null,
          -0.353806564652213,
          -0.13825608652650798,
          null,
          -0.353806564652213,
          -0.04346608130350209,
          null,
          -0.353806564652213,
          -0.33551532273434276,
          null,
          -0.353806564652213,
          -0.12104445601612702,
          null,
          -0.353806564652213,
          0.886481561646788,
          null,
          -0.353806564652213,
          -0.35240563533351954,
          null,
          -0.353806564652213,
          -0.18580261431381503,
          null,
          -0.6057187461760031,
          -0.48999110722537526,
          null,
          -0.6057187461760031,
          0.5290280129511762,
          null,
          -0.6057187461760031,
          -0.3057624161305305,
          null,
          -0.6057187461760031,
          -0.5159379126848974,
          null,
          -0.6057187461760031,
          0.8805926678084675,
          null,
          -0.6057187461760031,
          0.4339635223917897,
          null,
          -0.6057187461760031,
          0.06384580480132014,
          null,
          -0.6057187461760031,
          0.886481561646788,
          null,
          -0.12615219160835667,
          0.15592351063850704,
          null,
          -0.12615219160835667,
          0.05915482724145439,
          null,
          -0.12615219160835667,
          -0.15326519815700704,
          null,
          -0.12615219160835667,
          -0.5159379126848974,
          null,
          -0.12615219160835667,
          0.07739618898043185,
          null,
          -0.12615219160835667,
          -0.04346608130350209,
          null,
          -0.12615219160835667,
          0.5154193159764774,
          null,
          -0.12615219160835667,
          0.06384580480132014,
          null,
          -0.12615219160835667,
          0.886481561646788,
          null,
          -0.12615219160835667,
          -0.04515678220228217,
          null,
          -0.48999110722537526,
          -0.3057624161305305,
          null,
          -0.48999110722537526,
          -0.3969773973704464,
          null,
          -0.48999110722537526,
          -0.5159379126848974,
          null,
          -0.48999110722537526,
          0.8805926678084675,
          null,
          -0.48999110722537526,
          -0.13825608652650798,
          null,
          -0.48999110722537526,
          -0.04346608130350209,
          null,
          -0.48999110722537526,
          -0.33551532273434276,
          null,
          -0.48999110722537526,
          -0.12104445601612702,
          null,
          -0.48999110722537526,
          0.886481561646788,
          null,
          -0.48999110722537526,
          -0.35240563533351954,
          null,
          -0.48999110722537526,
          -0.18580261431381503,
          null,
          0.15592351063850704,
          0.05915482724145439,
          null,
          0.15592351063850704,
          -0.15326519815700704,
          null,
          0.15592351063850704,
          -0.5159379126848974,
          null,
          0.15592351063850704,
          -0.04346608130350209,
          null,
          0.15592351063850704,
          0.06384580480132014,
          null,
          0.15592351063850704,
          0.886481561646788,
          null,
          0.15592351063850704,
          -0.04515678220228217,
          null,
          0.05915482724145439,
          -0.15326519815700704,
          null,
          0.05915482724145439,
          0.25034009718499894,
          null,
          0.05915482724145439,
          -0.06456711288020175,
          null,
          0.05915482724145439,
          0.07739618898043185,
          null,
          0.05915482724145439,
          -0.13825608652650798,
          null,
          0.05915482724145439,
          -0.04346608130350209,
          null,
          0.05915482724145439,
          -0.04515678220228217,
          null,
          0.05915482724145439,
          -0.35240563533351954,
          null,
          0.5290280129511762,
          0.25034009718499894,
          null,
          0.5290280129511762,
          -0.5159379126848974,
          null,
          0.5290280129511762,
          0.8805926678084675,
          null,
          0.5290280129511762,
          0.4339635223917897,
          null,
          0.5290280129511762,
          0.06384580480132014,
          null,
          0.5290280129511762,
          0.886481561646788,
          null,
          -0.3057624161305305,
          -0.15326519815700704,
          null,
          -0.3057624161305305,
          -0.5159379126848974,
          null,
          -0.3057624161305305,
          0.8805926678084675,
          null,
          -0.3057624161305305,
          -0.04346608130350209,
          null,
          -0.3057624161305305,
          -0.33551532273434276,
          null,
          -0.3057624161305305,
          0.06384580480132014,
          null,
          -0.3057624161305305,
          0.886481561646788,
          null,
          -0.3057624161305305,
          -0.04515678220228217,
          null,
          -0.15326519815700704,
          0.25034009718499894,
          null,
          -0.15326519815700704,
          -0.5159379126848974,
          null,
          -0.15326519815700704,
          -0.06456711288020175,
          null,
          -0.15326519815700704,
          0.07739618898043185,
          null,
          -0.15326519815700704,
          -0.13825608652650798,
          null,
          -0.15326519815700704,
          -0.04346608130350209,
          null,
          -0.15326519815700704,
          0.5154193159764774,
          null,
          -0.15326519815700704,
          -0.33551532273434276,
          null,
          -0.15326519815700704,
          0.06384580480132014,
          null,
          -0.15326519815700704,
          0.886481561646788,
          null,
          -0.15326519815700704,
          -0.04515678220228217,
          null,
          -0.15326519815700704,
          -0.35240563533351954,
          null,
          0.25034009718499894,
          -0.06456711288020175,
          null,
          0.25034009718499894,
          0.4339635223917897,
          null,
          0.25034009718499894,
          0.07739618898043185,
          null,
          0.25034009718499894,
          -0.13825608652650798,
          null,
          0.25034009718499894,
          -0.04346608130350209,
          null,
          0.25034009718499894,
          -0.04515678220228217,
          null,
          -0.3969773973704464,
          -0.13825608652650798,
          null,
          -0.3969773973704464,
          -0.33551532273434276,
          null,
          -0.3969773973704464,
          -0.12104445601612702,
          null,
          -0.3969773973704464,
          -0.35240563533351954,
          null,
          -0.3969773973704464,
          -0.18580261431381503,
          null,
          -0.5159379126848974,
          0.8805926678084675,
          null,
          -0.5159379126848974,
          0.4339635223917897,
          null,
          -0.5159379126848974,
          -0.04346608130350209,
          null,
          -0.5159379126848974,
          -0.33551532273434276,
          null,
          -0.5159379126848974,
          0.06384580480132014,
          null,
          -0.5159379126848974,
          0.886481561646788,
          null,
          -0.5159379126848974,
          -0.04515678220228217,
          null,
          -0.5159379126848974,
          -0.35240563533351954,
          null,
          0.8805926678084675,
          0.4339635223917897,
          null,
          0.8805926678084675,
          0.886481561646788,
          null,
          -0.06456711288020175,
          0.07739618898043185,
          null,
          -0.06456711288020175,
          -0.13825608652650798,
          null,
          -0.06456711288020175,
          -0.04346608130350209,
          null,
          -0.06456711288020175,
          -0.33551532273434276,
          null,
          -0.06456711288020175,
          -0.12104445601612702,
          null,
          -0.06456711288020175,
          -0.04515678220228217,
          null,
          -0.06456711288020175,
          -0.35240563533351954,
          null,
          0.07739618898043185,
          -0.13825608652650798,
          null,
          0.07739618898043185,
          -0.04346608130350209,
          null,
          0.07739618898043185,
          0.5154193159764774,
          null,
          0.07739618898043185,
          -0.04515678220228217,
          null,
          -0.13825608652650798,
          -0.04346608130350209,
          null,
          -0.13825608652650798,
          -0.33551532273434276,
          null,
          -0.13825608652650798,
          -0.12104445601612702,
          null,
          -0.13825608652650798,
          -0.04515678220228217,
          null,
          -0.13825608652650798,
          -0.35240563533351954,
          null,
          -0.04346608130350209,
          0.5154193159764774,
          null,
          -0.04346608130350209,
          -0.33551532273434276,
          null,
          -0.04346608130350209,
          0.06384580480132014,
          null,
          -0.04346608130350209,
          0.886481561646788,
          null,
          -0.04346608130350209,
          -0.04515678220228217,
          null,
          -0.04346608130350209,
          -0.35240563533351954,
          null,
          0.5154193159764774,
          0.06384580480132014,
          null,
          0.5154193159764774,
          -0.04515678220228217,
          null,
          -0.33551532273434276,
          -0.12104445601612702,
          null,
          -0.33551532273434276,
          0.886481561646788,
          null,
          -0.33551532273434276,
          -0.35240563533351954,
          null,
          -0.33551532273434276,
          -0.18580261431381503,
          null,
          -0.12104445601612702,
          -0.35240563533351954,
          null,
          -0.12104445601612702,
          -0.18580261431381503,
          null,
          0.06384580480132014,
          0.886481561646788,
          null,
          0.06384580480132014,
          -0.04515678220228217,
          null,
          0.886481561646788,
          -0.04515678220228217,
          null,
          0.886481561646788,
          -0.35240563533351954,
          null,
          -0.04515678220228217,
          -0.35240563533351954,
          null,
          -0.35240563533351954,
          -0.18580261431381503,
          null
         ],
         "y": [
          0.5153916131394565,
          1,
          null,
          0.5153916131394565,
          -0.2492389458765569,
          null,
          0.5153916131394565,
          0.9610658033391852,
          null,
          0.5153916131394565,
          0.060998543766915346,
          null,
          0.5153916131394565,
          -0.14305605927997714,
          null,
          0.5153916131394565,
          0.489043736531314,
          null,
          0.5153916131394565,
          0.7344646911611686,
          null,
          0.5153916131394565,
          -0.5250506570358263,
          null,
          0.5153916131394565,
          -0.24204089267346385,
          null,
          0.8797017317116391,
          1,
          null,
          0.8797017317116391,
          -0.12954709584102003,
          null,
          0.8797017317116391,
          -0.2492389458765569,
          null,
          0.8797017317116391,
          -0.5141791619671549,
          null,
          0.8797017317116391,
          -0.11323817077593994,
          null,
          0.8797017317116391,
          -0.49311534906685967,
          null,
          0.8797017317116391,
          0.9610658033391852,
          null,
          0.8797017317116391,
          -0.44834357061861807,
          null,
          0.8797017317116391,
          -0.4157671232345506,
          null,
          0.8797017317116391,
          -0.14305605927997714,
          null,
          0.8797017317116391,
          0.489043736531314,
          null,
          0.8797017317116391,
          0.7344646911611686,
          null,
          0.8797017317116391,
          -0.37712743169601753,
          null,
          0.8797017317116391,
          -0.27597060719165706,
          null,
          0.8797017317116391,
          -0.24204089267346385,
          null,
          0.8797017317116391,
          0.7449821140038843,
          null,
          0.8797017317116391,
          -0.27393179684085694,
          null,
          0.8797017317116391,
          -0.43608333771841334,
          null,
          1,
          -0.2492389458765569,
          null,
          1,
          0.9610658033391852,
          null,
          1,
          0.060998543766915346,
          null,
          1,
          -0.14305605927997714,
          null,
          1,
          0.489043736531314,
          null,
          1,
          0.7344646911611686,
          null,
          1,
          -0.24204089267346385,
          null,
          1,
          0.7449821140038843,
          null,
          -0.12954709584102003,
          -0.2492389458765569,
          null,
          -0.12954709584102003,
          -0.11323817077593994,
          null,
          -0.12954709584102003,
          -0.44834357061861807,
          null,
          -0.12954709584102003,
          -0.4157671232345506,
          null,
          -0.12954709584102003,
          -0.3002256162182701,
          null,
          -0.12954709584102003,
          -0.14305605927997714,
          null,
          -0.12954709584102003,
          0.489043736531314,
          null,
          -0.12954709584102003,
          -0.22403462578673544,
          null,
          -0.12954709584102003,
          -0.2401402723003616,
          null,
          -0.12954709584102003,
          -0.37712743169601753,
          null,
          -0.12954709584102003,
          -0.27597060719165706,
          null,
          -0.12954709584102003,
          -0.5250506570358263,
          null,
          -0.12954709584102003,
          0.7449821140038843,
          null,
          -0.12954709584102003,
          -0.43608333771841334,
          null,
          -0.12954709584102003,
          -0.06679607746827476,
          null,
          -0.2492389458765569,
          -0.11323817077593994,
          null,
          -0.2492389458765569,
          0.9610658033391852,
          null,
          -0.2492389458765569,
          -0.44834357061861807,
          null,
          -0.2492389458765569,
          -0.14305605927997714,
          null,
          -0.2492389458765569,
          0.489043736531314,
          null,
          -0.2492389458765569,
          0.7344646911611686,
          null,
          -0.2492389458765569,
          -0.24204089267346385,
          null,
          -0.2492389458765569,
          0.7449821140038843,
          null,
          -0.5141791619671549,
          -0.49311534906685967,
          null,
          -0.5141791619671549,
          -0.32854164928729696,
          null,
          -0.5141791619671549,
          -0.4157671232345506,
          null,
          -0.5141791619671549,
          -0.14305605927997714,
          null,
          -0.5141791619671549,
          -0.558201181600552,
          null,
          -0.5141791619671549,
          -0.37712743169601753,
          null,
          -0.5141791619671549,
          0.9689813888248391,
          null,
          -0.5141791619671549,
          -0.24204089267346385,
          null,
          -0.5141791619671549,
          0.7449821140038843,
          null,
          -0.5141791619671549,
          -0.27393179684085694,
          null,
          -0.11323817077593994,
          -0.44834357061861807,
          null,
          -0.11323817077593994,
          -0.3002256162182701,
          null,
          -0.11323817077593994,
          -0.14305605927997714,
          null,
          -0.11323817077593994,
          0.489043736531314,
          null,
          -0.11323817077593994,
          -0.2401402723003616,
          null,
          -0.11323817077593994,
          -0.37712743169601753,
          null,
          -0.11323817077593994,
          -0.27597060719165706,
          null,
          -0.11323817077593994,
          -0.5250506570358263,
          null,
          -0.11323817077593994,
          0.7449821140038843,
          null,
          -0.11323817077593994,
          -0.43608333771841334,
          null,
          -0.11323817077593994,
          -0.06679607746827476,
          null,
          -0.49311534906685967,
          -0.32854164928729696,
          null,
          -0.49311534906685967,
          -0.4157671232345506,
          null,
          -0.49311534906685967,
          -0.14305605927997714,
          null,
          -0.49311534906685967,
          -0.37712743169601753,
          null,
          -0.49311534906685967,
          -0.24204089267346385,
          null,
          -0.49311534906685967,
          0.7449821140038843,
          null,
          -0.49311534906685967,
          -0.27393179684085694,
          null,
          -0.32854164928729696,
          -0.4157671232345506,
          null,
          -0.32854164928729696,
          0.060998543766915346,
          null,
          -0.32854164928729696,
          -0.22403462578673544,
          null,
          -0.32854164928729696,
          -0.558201181600552,
          null,
          -0.32854164928729696,
          -0.2401402723003616,
          null,
          -0.32854164928729696,
          -0.37712743169601753,
          null,
          -0.32854164928729696,
          -0.27393179684085694,
          null,
          -0.32854164928729696,
          -0.43608333771841334,
          null,
          0.9610658033391852,
          0.060998543766915346,
          null,
          0.9610658033391852,
          -0.14305605927997714,
          null,
          0.9610658033391852,
          0.489043736531314,
          null,
          0.9610658033391852,
          0.7344646911611686,
          null,
          0.9610658033391852,
          -0.24204089267346385,
          null,
          0.9610658033391852,
          0.7449821140038843,
          null,
          -0.44834357061861807,
          -0.4157671232345506,
          null,
          -0.44834357061861807,
          -0.14305605927997714,
          null,
          -0.44834357061861807,
          0.489043736531314,
          null,
          -0.44834357061861807,
          -0.37712743169601753,
          null,
          -0.44834357061861807,
          -0.27597060719165706,
          null,
          -0.44834357061861807,
          -0.24204089267346385,
          null,
          -0.44834357061861807,
          0.7449821140038843,
          null,
          -0.44834357061861807,
          -0.27393179684085694,
          null,
          -0.4157671232345506,
          0.060998543766915346,
          null,
          -0.4157671232345506,
          -0.14305605927997714,
          null,
          -0.4157671232345506,
          -0.22403462578673544,
          null,
          -0.4157671232345506,
          -0.558201181600552,
          null,
          -0.4157671232345506,
          -0.2401402723003616,
          null,
          -0.4157671232345506,
          -0.37712743169601753,
          null,
          -0.4157671232345506,
          0.9689813888248391,
          null,
          -0.4157671232345506,
          -0.27597060719165706,
          null,
          -0.4157671232345506,
          -0.24204089267346385,
          null,
          -0.4157671232345506,
          0.7449821140038843,
          null,
          -0.4157671232345506,
          -0.27393179684085694,
          null,
          -0.4157671232345506,
          -0.43608333771841334,
          null,
          0.060998543766915346,
          -0.22403462578673544,
          null,
          0.060998543766915346,
          0.7344646911611686,
          null,
          0.060998543766915346,
          -0.558201181600552,
          null,
          0.060998543766915346,
          -0.2401402723003616,
          null,
          0.060998543766915346,
          -0.37712743169601753,
          null,
          0.060998543766915346,
          -0.27393179684085694,
          null,
          -0.3002256162182701,
          -0.2401402723003616,
          null,
          -0.3002256162182701,
          -0.27597060719165706,
          null,
          -0.3002256162182701,
          -0.5250506570358263,
          null,
          -0.3002256162182701,
          -0.43608333771841334,
          null,
          -0.3002256162182701,
          -0.06679607746827476,
          null,
          -0.14305605927997714,
          0.489043736531314,
          null,
          -0.14305605927997714,
          0.7344646911611686,
          null,
          -0.14305605927997714,
          -0.37712743169601753,
          null,
          -0.14305605927997714,
          -0.27597060719165706,
          null,
          -0.14305605927997714,
          -0.24204089267346385,
          null,
          -0.14305605927997714,
          0.7449821140038843,
          null,
          -0.14305605927997714,
          -0.27393179684085694,
          null,
          -0.14305605927997714,
          -0.43608333771841334,
          null,
          0.489043736531314,
          0.7344646911611686,
          null,
          0.489043736531314,
          0.7449821140038843,
          null,
          -0.22403462578673544,
          -0.558201181600552,
          null,
          -0.22403462578673544,
          -0.2401402723003616,
          null,
          -0.22403462578673544,
          -0.37712743169601753,
          null,
          -0.22403462578673544,
          -0.27597060719165706,
          null,
          -0.22403462578673544,
          -0.5250506570358263,
          null,
          -0.22403462578673544,
          -0.27393179684085694,
          null,
          -0.22403462578673544,
          -0.43608333771841334,
          null,
          -0.558201181600552,
          -0.2401402723003616,
          null,
          -0.558201181600552,
          -0.37712743169601753,
          null,
          -0.558201181600552,
          0.9689813888248391,
          null,
          -0.558201181600552,
          -0.27393179684085694,
          null,
          -0.2401402723003616,
          -0.37712743169601753,
          null,
          -0.2401402723003616,
          -0.27597060719165706,
          null,
          -0.2401402723003616,
          -0.5250506570358263,
          null,
          -0.2401402723003616,
          -0.27393179684085694,
          null,
          -0.2401402723003616,
          -0.43608333771841334,
          null,
          -0.37712743169601753,
          0.9689813888248391,
          null,
          -0.37712743169601753,
          -0.27597060719165706,
          null,
          -0.37712743169601753,
          -0.24204089267346385,
          null,
          -0.37712743169601753,
          0.7449821140038843,
          null,
          -0.37712743169601753,
          -0.27393179684085694,
          null,
          -0.37712743169601753,
          -0.43608333771841334,
          null,
          0.9689813888248391,
          -0.24204089267346385,
          null,
          0.9689813888248391,
          -0.27393179684085694,
          null,
          -0.27597060719165706,
          -0.5250506570358263,
          null,
          -0.27597060719165706,
          0.7449821140038843,
          null,
          -0.27597060719165706,
          -0.43608333771841334,
          null,
          -0.27597060719165706,
          -0.06679607746827476,
          null,
          -0.5250506570358263,
          -0.43608333771841334,
          null,
          -0.5250506570358263,
          -0.06679607746827476,
          null,
          -0.24204089267346385,
          0.7449821140038843,
          null,
          -0.24204089267346385,
          -0.27393179684085694,
          null,
          0.7449821140038843,
          -0.27393179684085694,
          null,
          0.7449821140038843,
          -0.43608333771841334,
          null,
          -0.27393179684085694,
          -0.43608333771841334,
          null,
          -0.43608333771841334,
          -0.06679607746827476,
          null
         ]
        },
        {
         "hoverinfo": "text",
         "marker": {
          "color": "lightblue",
          "line": {
           "width": 2
          },
          "size": 20
         },
         "mode": "markers+text",
         "text": [
          "USDCAD_Candlestick_1_Hour_BID_01_df",
          "UKGILT_df",
          "AUDUSD_Candlestick_1_Hour_BID_01_df",
          "BRENT_df",
          "DOLLAR_df",
          "XAUUSD_Candlestick_1_Hour_BID_01_df",
          "DIESEL_df",
          "COCOA_df",
          "BTCUSD_Candlestick_1_Hour_BID_01_df",
          "NZDUSD_Candlestick_1_Hour_BID_01_df",
          "SUGAR_df",
          "USA500_df",
          "USSC2000_df",
          "SOYBEAN_df",
          "USDJPY_Candlestick_1_Hour_BID_01_df",
          "EURUSD_Candlestick_1_Hour_BID_01_df",
          "ETHUSD_Candlestick_1_Hour_BID_01_df",
          "GBPUSD_Candlestick_1_Hour_BID_01_df",
          "XAGUSD_Candlestick_1_Hour_BID_01_df",
          "COPPER_df",
          "USA30_df",
          "USDCHF_Candlestick_1_Hour_BID_01_df",
          "LIGHT_df",
          "COTTON_df",
          "OJUICE_df",
          "USTBOND_df",
          "USATECH_df",
          "COFFEE_df",
          "GAS_df"
         ],
         "textposition": "bottom center",
         "type": "scatter",
         "x": [
          -0.24809454021419713,
          -0.12473531251999749,
          0.7545099684279114,
          -0.353806564652213,
          -0.6057187461760031,
          -0.12615219160835667,
          -0.48999110722537526,
          0.15592351063850704,
          0.05915482724145439,
          0.5290280129511762,
          -0.3057624161305305,
          -0.15326519815700704,
          0.25034009718499894,
          -0.3969773973704464,
          -0.5159379126848974,
          0.8805926678084675,
          -0.06456711288020175,
          0.4339635223917897,
          0.07739618898043185,
          -0.13825608652650798,
          -0.04346608130350209,
          0.5154193159764774,
          -0.33551532273434276,
          -0.12104445601612702,
          0.06384580480132014,
          0.886481561646788,
          -0.04515678220228217,
          -0.35240563533351954,
          -0.18580261431381503
         ],
         "y": [
          0.5153916131394565,
          0.8797017317116391,
          1,
          -0.12954709584102003,
          -0.2492389458765569,
          -0.5141791619671549,
          -0.11323817077593994,
          -0.49311534906685967,
          -0.32854164928729696,
          0.9610658033391852,
          -0.44834357061861807,
          -0.4157671232345506,
          0.060998543766915346,
          -0.3002256162182701,
          -0.14305605927997714,
          0.489043736531314,
          -0.22403462578673544,
          0.7344646911611686,
          -0.558201181600552,
          -0.2401402723003616,
          -0.37712743169601753,
          0.9689813888248391,
          -0.27597060719165706,
          -0.5250506570358263,
          -0.24204089267346385,
          0.7449821140038843,
          -0.27393179684085694,
          -0.43608333771841334,
          -0.06679607746827476
         ]
        }
       ],
       "layout": {
        "height": 700,
        "margin": {
         "b": 40,
         "l": 40,
         "r": 40,
         "t": 40
        },
        "showlegend": false,
        "template": {
         "data": {
          "bar": [
           {
            "error_x": {
             "color": "#2a3f5f"
            },
            "error_y": {
             "color": "#2a3f5f"
            },
            "marker": {
             "line": {
              "color": "#E5ECF6",
              "width": 0.5
             },
             "pattern": {
              "fillmode": "overlay",
              "size": 10,
              "solidity": 0.2
             }
            },
            "type": "bar"
           }
          ],
          "barpolar": [
           {
            "marker": {
             "line": {
              "color": "#E5ECF6",
              "width": 0.5
             },
             "pattern": {
              "fillmode": "overlay",
              "size": 10,
              "solidity": 0.2
             }
            },
            "type": "barpolar"
           }
          ],
          "carpet": [
           {
            "aaxis": {
             "endlinecolor": "#2a3f5f",
             "gridcolor": "white",
             "linecolor": "white",
             "minorgridcolor": "white",
             "startlinecolor": "#2a3f5f"
            },
            "baxis": {
             "endlinecolor": "#2a3f5f",
             "gridcolor": "white",
             "linecolor": "white",
             "minorgridcolor": "white",
             "startlinecolor": "#2a3f5f"
            },
            "type": "carpet"
           }
          ],
          "choropleth": [
           {
            "colorbar": {
             "outlinewidth": 0,
             "ticks": ""
            },
            "type": "choropleth"
           }
          ],
          "contour": [
           {
            "colorbar": {
             "outlinewidth": 0,
             "ticks": ""
            },
            "colorscale": [
             [
              0,
              "#0d0887"
             ],
             [
              0.1111111111111111,
              "#46039f"
             ],
             [
              0.2222222222222222,
              "#7201a8"
             ],
             [
              0.3333333333333333,
              "#9c179e"
             ],
             [
              0.4444444444444444,
              "#bd3786"
             ],
             [
              0.5555555555555556,
              "#d8576b"
             ],
             [
              0.6666666666666666,
              "#ed7953"
             ],
             [
              0.7777777777777778,
              "#fb9f3a"
             ],
             [
              0.8888888888888888,
              "#fdca26"
             ],
             [
              1,
              "#f0f921"
             ]
            ],
            "type": "contour"
           }
          ],
          "contourcarpet": [
           {
            "colorbar": {
             "outlinewidth": 0,
             "ticks": ""
            },
            "type": "contourcarpet"
           }
          ],
          "heatmap": [
           {
            "colorbar": {
             "outlinewidth": 0,
             "ticks": ""
            },
            "colorscale": [
             [
              0,
              "#0d0887"
             ],
             [
              0.1111111111111111,
              "#46039f"
             ],
             [
              0.2222222222222222,
              "#7201a8"
             ],
             [
              0.3333333333333333,
              "#9c179e"
             ],
             [
              0.4444444444444444,
              "#bd3786"
             ],
             [
              0.5555555555555556,
              "#d8576b"
             ],
             [
              0.6666666666666666,
              "#ed7953"
             ],
             [
              0.7777777777777778,
              "#fb9f3a"
             ],
             [
              0.8888888888888888,
              "#fdca26"
             ],
             [
              1,
              "#f0f921"
             ]
            ],
            "type": "heatmap"
           }
          ],
          "heatmapgl": [
           {
            "colorbar": {
             "outlinewidth": 0,
             "ticks": ""
            },
            "colorscale": [
             [
              0,
              "#0d0887"
             ],
             [
              0.1111111111111111,
              "#46039f"
             ],
             [
              0.2222222222222222,
              "#7201a8"
             ],
             [
              0.3333333333333333,
              "#9c179e"
             ],
             [
              0.4444444444444444,
              "#bd3786"
             ],
             [
              0.5555555555555556,
              "#d8576b"
             ],
             [
              0.6666666666666666,
              "#ed7953"
             ],
             [
              0.7777777777777778,
              "#fb9f3a"
             ],
             [
              0.8888888888888888,
              "#fdca26"
             ],
             [
              1,
              "#f0f921"
             ]
            ],
            "type": "heatmapgl"
           }
          ],
          "histogram": [
           {
            "marker": {
             "pattern": {
              "fillmode": "overlay",
              "size": 10,
              "solidity": 0.2
             }
            },
            "type": "histogram"
           }
          ],
          "histogram2d": [
           {
            "colorbar": {
             "outlinewidth": 0,
             "ticks": ""
            },
            "colorscale": [
             [
              0,
              "#0d0887"
             ],
             [
              0.1111111111111111,
              "#46039f"
             ],
             [
              0.2222222222222222,
              "#7201a8"
             ],
             [
              0.3333333333333333,
              "#9c179e"
             ],
             [
              0.4444444444444444,
              "#bd3786"
             ],
             [
              0.5555555555555556,
              "#d8576b"
             ],
             [
              0.6666666666666666,
              "#ed7953"
             ],
             [
              0.7777777777777778,
              "#fb9f3a"
             ],
             [
              0.8888888888888888,
              "#fdca26"
             ],
             [
              1,
              "#f0f921"
             ]
            ],
            "type": "histogram2d"
           }
          ],
          "histogram2dcontour": [
           {
            "colorbar": {
             "outlinewidth": 0,
             "ticks": ""
            },
            "colorscale": [
             [
              0,
              "#0d0887"
             ],
             [
              0.1111111111111111,
              "#46039f"
             ],
             [
              0.2222222222222222,
              "#7201a8"
             ],
             [
              0.3333333333333333,
              "#9c179e"
             ],
             [
              0.4444444444444444,
              "#bd3786"
             ],
             [
              0.5555555555555556,
              "#d8576b"
             ],
             [
              0.6666666666666666,
              "#ed7953"
             ],
             [
              0.7777777777777778,
              "#fb9f3a"
             ],
             [
              0.8888888888888888,
              "#fdca26"
             ],
             [
              1,
              "#f0f921"
             ]
            ],
            "type": "histogram2dcontour"
           }
          ],
          "mesh3d": [
           {
            "colorbar": {
             "outlinewidth": 0,
             "ticks": ""
            },
            "type": "mesh3d"
           }
          ],
          "parcoords": [
           {
            "line": {
             "colorbar": {
              "outlinewidth": 0,
              "ticks": ""
             }
            },
            "type": "parcoords"
           }
          ],
          "pie": [
           {
            "automargin": true,
            "type": "pie"
           }
          ],
          "scatter": [
           {
            "fillpattern": {
             "fillmode": "overlay",
             "size": 10,
             "solidity": 0.2
            },
            "type": "scatter"
           }
          ],
          "scatter3d": [
           {
            "line": {
             "colorbar": {
              "outlinewidth": 0,
              "ticks": ""
             }
            },
            "marker": {
             "colorbar": {
              "outlinewidth": 0,
              "ticks": ""
             }
            },
            "type": "scatter3d"
           }
          ],
          "scattercarpet": [
           {
            "marker": {
             "colorbar": {
              "outlinewidth": 0,
              "ticks": ""
             }
            },
            "type": "scattercarpet"
           }
          ],
          "scattergeo": [
           {
            "marker": {
             "colorbar": {
              "outlinewidth": 0,
              "ticks": ""
             }
            },
            "type": "scattergeo"
           }
          ],
          "scattergl": [
           {
            "marker": {
             "colorbar": {
              "outlinewidth": 0,
              "ticks": ""
             }
            },
            "type": "scattergl"
           }
          ],
          "scattermapbox": [
           {
            "marker": {
             "colorbar": {
              "outlinewidth": 0,
              "ticks": ""
             }
            },
            "type": "scattermapbox"
           }
          ],
          "scatterpolar": [
           {
            "marker": {
             "colorbar": {
              "outlinewidth": 0,
              "ticks": ""
             }
            },
            "type": "scatterpolar"
           }
          ],
          "scatterpolargl": [
           {
            "marker": {
             "colorbar": {
              "outlinewidth": 0,
              "ticks": ""
             }
            },
            "type": "scatterpolargl"
           }
          ],
          "scatterternary": [
           {
            "marker": {
             "colorbar": {
              "outlinewidth": 0,
              "ticks": ""
             }
            },
            "type": "scatterternary"
           }
          ],
          "surface": [
           {
            "colorbar": {
             "outlinewidth": 0,
             "ticks": ""
            },
            "colorscale": [
             [
              0,
              "#0d0887"
             ],
             [
              0.1111111111111111,
              "#46039f"
             ],
             [
              0.2222222222222222,
              "#7201a8"
             ],
             [
              0.3333333333333333,
              "#9c179e"
             ],
             [
              0.4444444444444444,
              "#bd3786"
             ],
             [
              0.5555555555555556,
              "#d8576b"
             ],
             [
              0.6666666666666666,
              "#ed7953"
             ],
             [
              0.7777777777777778,
              "#fb9f3a"
             ],
             [
              0.8888888888888888,
              "#fdca26"
             ],
             [
              1,
              "#f0f921"
             ]
            ],
            "type": "surface"
           }
          ],
          "table": [
           {
            "cells": {
             "fill": {
              "color": "#EBF0F8"
             },
             "line": {
              "color": "white"
             }
            },
            "header": {
             "fill": {
              "color": "#C8D4E3"
             },
             "line": {
              "color": "white"
             }
            },
            "type": "table"
           }
          ]
         },
         "layout": {
          "annotationdefaults": {
           "arrowcolor": "#2a3f5f",
           "arrowhead": 0,
           "arrowwidth": 1
          },
          "autotypenumbers": "strict",
          "coloraxis": {
           "colorbar": {
            "outlinewidth": 0,
            "ticks": ""
           }
          },
          "colorscale": {
           "diverging": [
            [
             0,
             "#8e0152"
            ],
            [
             0.1,
             "#c51b7d"
            ],
            [
             0.2,
             "#de77ae"
            ],
            [
             0.3,
             "#f1b6da"
            ],
            [
             0.4,
             "#fde0ef"
            ],
            [
             0.5,
             "#f7f7f7"
            ],
            [
             0.6,
             "#e6f5d0"
            ],
            [
             0.7,
             "#b8e186"
            ],
            [
             0.8,
             "#7fbc41"
            ],
            [
             0.9,
             "#4d9221"
            ],
            [
             1,
             "#276419"
            ]
           ],
           "sequential": [
            [
             0,
             "#0d0887"
            ],
            [
             0.1111111111111111,
             "#46039f"
            ],
            [
             0.2222222222222222,
             "#7201a8"
            ],
            [
             0.3333333333333333,
             "#9c179e"
            ],
            [
             0.4444444444444444,
             "#bd3786"
            ],
            [
             0.5555555555555556,
             "#d8576b"
            ],
            [
             0.6666666666666666,
             "#ed7953"
            ],
            [
             0.7777777777777778,
             "#fb9f3a"
            ],
            [
             0.8888888888888888,
             "#fdca26"
            ],
            [
             1,
             "#f0f921"
            ]
           ],
           "sequentialminus": [
            [
             0,
             "#0d0887"
            ],
            [
             0.1111111111111111,
             "#46039f"
            ],
            [
             0.2222222222222222,
             "#7201a8"
            ],
            [
             0.3333333333333333,
             "#9c179e"
            ],
            [
             0.4444444444444444,
             "#bd3786"
            ],
            [
             0.5555555555555556,
             "#d8576b"
            ],
            [
             0.6666666666666666,
             "#ed7953"
            ],
            [
             0.7777777777777778,
             "#fb9f3a"
            ],
            [
             0.8888888888888888,
             "#fdca26"
            ],
            [
             1,
             "#f0f921"
            ]
           ]
          },
          "colorway": [
           "#636efa",
           "#EF553B",
           "#00cc96",
           "#ab63fa",
           "#FFA15A",
           "#19d3f3",
           "#FF6692",
           "#B6E880",
           "#FF97FF",
           "#FECB52"
          ],
          "font": {
           "color": "#2a3f5f"
          },
          "geo": {
           "bgcolor": "white",
           "lakecolor": "white",
           "landcolor": "#E5ECF6",
           "showlakes": true,
           "showland": true,
           "subunitcolor": "white"
          },
          "hoverlabel": {
           "align": "left"
          },
          "hovermode": "closest",
          "mapbox": {
           "style": "light"
          },
          "paper_bgcolor": "white",
          "plot_bgcolor": "#E5ECF6",
          "polar": {
           "angularaxis": {
            "gridcolor": "white",
            "linecolor": "white",
            "ticks": ""
           },
           "bgcolor": "#E5ECF6",
           "radialaxis": {
            "gridcolor": "white",
            "linecolor": "white",
            "ticks": ""
           }
          },
          "scene": {
           "xaxis": {
            "backgroundcolor": "#E5ECF6",
            "gridcolor": "white",
            "gridwidth": 2,
            "linecolor": "white",
            "showbackground": true,
            "ticks": "",
            "zerolinecolor": "white"
           },
           "yaxis": {
            "backgroundcolor": "#E5ECF6",
            "gridcolor": "white",
            "gridwidth": 2,
            "linecolor": "white",
            "showbackground": true,
            "ticks": "",
            "zerolinecolor": "white"
           },
           "zaxis": {
            "backgroundcolor": "#E5ECF6",
            "gridcolor": "white",
            "gridwidth": 2,
            "linecolor": "white",
            "showbackground": true,
            "ticks": "",
            "zerolinecolor": "white"
           }
          },
          "shapedefaults": {
           "line": {
            "color": "#2a3f5f"
           }
          },
          "ternary": {
           "aaxis": {
            "gridcolor": "white",
            "linecolor": "white",
            "ticks": ""
           },
           "baxis": {
            "gridcolor": "white",
            "linecolor": "white",
            "ticks": ""
           },
           "bgcolor": "#E5ECF6",
           "caxis": {
            "gridcolor": "white",
            "linecolor": "white",
            "ticks": ""
           }
          },
          "title": {
           "x": 0.05
          },
          "xaxis": {
           "automargin": true,
           "gridcolor": "white",
           "linecolor": "white",
           "ticks": "",
           "title": {
            "standoff": 15
           },
           "zerolinecolor": "white",
           "zerolinewidth": 2
          },
          "yaxis": {
           "automargin": true,
           "gridcolor": "white",
           "linecolor": "white",
           "ticks": "",
           "title": {
            "standoff": 15
           },
           "zerolinecolor": "white",
           "zerolinewidth": 2
          }
         }
        },
        "title": {
         "text": "Neat Correlation Network Graph",
         "x": 0.5
        },
        "width": 700,
        "xaxis": {
         "showgrid": false,
         "showticklabels": false,
         "zeroline": false
        },
        "yaxis": {
         "showgrid": false,
         "showticklabels": false,
         "zeroline": false
        }
       }
      }
     },
     "metadata": {},
     "output_type": "display_data"
    }
   ],
   "source": [
    "import plotly.graph_objects as go\n",
    "import numpy as np\n",
    "import networkx as nx\n",
    "\n",
    "# Set a threshold for the minimum correlation value to visualize the relationships\n",
    "threshold = 0.5\n",
    "\n",
    "# Create a NetworkX graph to better handle node placement and edge generation\n",
    "G = nx.Graph()\n",
    "\n",
    "# Add nodes (instruments) to the graph\n",
    "node_names = correlation_matrix.columns\n",
    "for node in node_names:\n",
    "    G.add_node(node)\n",
    "\n",
    "# Add edges based on correlation threshold\n",
    "for i in range(len(correlation_matrix)):\n",
    "    for j in range(i + 1, len(correlation_matrix)):\n",
    "        correlation_value = correlation_matrix.iloc[i, j]\n",
    "        if abs(correlation_value) > threshold:\n",
    "            # Add edge with weight as the correlation value\n",
    "            G.add_edge(node_names[i], node_names[j], weight=correlation_value)\n",
    "\n",
    "# Get node positions using a layout for better legibility (e.g., spring layout for spread out nodes)\n",
    "pos = nx.spring_layout(G, k=0.5)  # k adjusts the distance between nodes\n",
    "\n",
    "# Prepare the edge and node traces for Plotly\n",
    "edge_x = []\n",
    "edge_y = []\n",
    "edge_texts = []\n",
    "for edge in G.edges(data=True):\n",
    "    x0, y0 = pos[edge[0]]\n",
    "    x1, y1 = pos[edge[1]]\n",
    "    edge_x.append(x0)\n",
    "    edge_x.append(x1)\n",
    "    edge_x.append(None)\n",
    "    edge_y.append(y0)\n",
    "    edge_y.append(y1)\n",
    "    edge_y.append(None)\n",
    "    # Prepare text for hover (correlation value)\n",
    "    edge_texts.append(f\"{edge[0]} vs {edge[1]}: {edge[2]['weight']:.2f}\")\n",
    "\n",
    "# Create edge traces (lines between nodes)\n",
    "edge_trace = go.Scatter(\n",
    "    x=edge_x, y=edge_y,\n",
    "    line=dict(width=2, color='gray'),\n",
    "    hoverinfo='text',\n",
    "    mode='lines',\n",
    "    text=edge_texts\n",
    ")\n",
    "\n",
    "# Create node traces (circles for each instrument)\n",
    "node_x = []\n",
    "node_y = []\n",
    "for node in G.nodes():\n",
    "    x, y = pos[node]\n",
    "    node_x.append(x)\n",
    "    node_y.append(y)\n",
    "\n",
    "node_trace = go.Scatter(\n",
    "    x=node_x, y=node_y,\n",
    "    mode='markers+text',\n",
    "    text=list(G.nodes()),\n",
    "    textposition=\"bottom center\",\n",
    "    hoverinfo='text',\n",
    "    marker=dict(\n",
    "        size=20,\n",
    "        color='lightblue',\n",
    "        line_width=2\n",
    "    )\n",
    ")\n",
    "\n",
    "# Create the plot with better layout and spacing\n",
    "fig = go.Figure(data=[edge_trace, node_trace])\n",
    "\n",
    "# Update layout for better legibility and spacing\n",
    "fig.update_layout(\n",
    "    title=\"Neat Correlation Network Graph\",\n",
    "    title_x=0.5,\n",
    "    showlegend=False,\n",
    "    xaxis=dict(showgrid=False, zeroline=False, showticklabels=False),\n",
    "    yaxis=dict(showgrid=False, zeroline=False, showticklabels=False),\n",
    "    height=700, width=700,\n",
    "    margin=dict(l=40, r=40, t=40, b=40)\n",
    ")\n",
    "\n",
    "# Show the plot\n",
    "fig.show()\n"
   ]
  },
  {
   "cell_type": "code",
   "execution_count": 8,
   "metadata": {},
   "outputs": [
    {
     "data": {
      "application/vnd.plotly.v1+json": {
       "config": {
        "plotlyServerURL": "https://plot.ly"
       },
       "data": [
        {
         "cells": {
          "align": "center",
          "fill": {
           "color": "lightgray"
          },
          "font": {
           "size": 8
          },
          "values": [
           [
            "USDCAD_Candlestick_1_Hour_BID_01_df",
            "UKGILT_df",
            "AUDUSD_Candlestick_1_Hour_BID_01_df",
            "BRENT_df",
            "DOLLAR_df",
            "XAUUSD_Candlestick_1_Hour_BID_01_df",
            "DIESEL_df",
            "COCOA_df",
            "BTCUSD_Candlestick_1_Hour_BID_01_df",
            "NZDUSD_Candlestick_1_Hour_BID_01_df",
            "SUGAR_df",
            "USA500_df",
            "USSC2000_df",
            "SOYBEAN_df",
            "USDJPY_Candlestick_1_Hour_BID_01_df",
            "EURUSD_Candlestick_1_Hour_BID_01_df",
            "ETHUSD_Candlestick_1_Hour_BID_01_df",
            "GBPUSD_Candlestick_1_Hour_BID_01_df",
            "XAGUSD_Candlestick_1_Hour_BID_01_df",
            "COPPER_df",
            "USA30_df",
            "USDCHF_Candlestick_1_Hour_BID_01_df",
            "LIGHT_df",
            "COTTON_df",
            "OJUICE_df",
            "USTBOND_df",
            "USATECH_df",
            "COFFEE_df",
            "GAS_df"
           ],
           [
            1,
            -0.45,
            -0.89,
            -0.2,
            0.65,
            0.28,
            -0.03,
            0.4,
            -0.27,
            -0.86,
            0.22,
            -0.1,
            -0.65,
            -0.47,
            0.51,
            -0.58,
            -0.34,
            -0.73,
            -0.3,
            -0.48,
            -0.16,
            0.02,
            -0.23,
            -0.56,
            0.54,
            -0.38,
            -0.07,
            -0.14,
            -0.37
           ],
           [
            -0.45,
            1,
            0.59,
            -0.63,
            -0.79,
            -0.54,
            -0.67,
            -0.54,
            -0.33,
            0.69,
            -0.89,
            -0.63,
            -0.16,
            -0.36,
            -0.95,
            0.66,
            -0.36,
            0.53,
            -0.23,
            -0.38,
            -0.65,
            0.34,
            -0.6,
            -0.13,
            -0.86,
            0.98,
            -0.56,
            -0.52,
            -0.06
           ],
           [
            -0.89,
            0.59,
            1,
            -0.07,
            -0.8,
            -0.19,
            -0.23,
            -0.38,
            0.21,
            0.96,
            -0.42,
            -0.03,
            0.56,
            0.31,
            -0.66,
            0.77,
            0.18,
            0.79,
            0.41,
            0.37,
            0.02,
            -0.1,
            -0.04,
            0.32,
            -0.59,
            0.54,
            -0.01,
            -0.09,
            0.16
           ],
           [
            -0.2,
            -0.63,
            -0.07,
            1,
            0.54,
            0.25,
            0.96,
            0.2,
            0.4,
            -0.21,
            0.67,
            0.6,
            0.45,
            0.76,
            0.61,
            -0.53,
            0.55,
            -0.24,
            0.22,
            0.69,
            0.64,
            0.03,
            1,
            0.76,
            0.4,
            -0.7,
            0.45,
            0.8,
            0.63
           ],
           [
            0.65,
            -0.79,
            -0.8,
            0.54,
            1,
            0.23,
            0.68,
            0.36,
            -0.05,
            -0.9,
            0.61,
            0.24,
            -0.27,
            0.16,
            0.85,
            -0.97,
            0.04,
            -0.89,
            -0.25,
            -0.01,
            0.23,
            0.21,
            0.5,
            0.07,
            0.62,
            -0.78,
            0.14,
            0.44,
            0.29
           ],
           [
            0.28,
            -0.54,
            -0.19,
            0.25,
            0.23,
            1,
            0.17,
            0.85,
            0.6,
            -0.28,
            0.42,
            0.75,
            0.29,
            -0.02,
            0.6,
            -0.07,
            0.46,
            0,
            0.73,
            0.46,
            0.68,
            -0.66,
            0.25,
            -0.05,
            0.8,
            -0.54,
            0.78,
            0.43,
            -0.29
           ],
           [
            -0.03,
            -0.67,
            -0.23,
            0.96,
            0.68,
            0.17,
            1,
            0.15,
            0.23,
            -0.37,
            0.68,
            0.47,
            0.26,
            0.7,
            0.67,
            -0.69,
            0.39,
            -0.45,
            0.05,
            0.51,
            0.5,
            0.12,
            0.95,
            0.67,
            0.41,
            -0.73,
            0.31,
            0.72,
            0.66
           ],
           [
            0.4,
            -0.54,
            -0.38,
            0.2,
            0.36,
            0.85,
            0.15,
            1,
            0.63,
            -0.41,
            0.34,
            0.7,
            0.22,
            -0.2,
            0.65,
            -0.21,
            0.44,
            -0.09,
            0.49,
            0.31,
            0.63,
            -0.43,
            0.19,
            -0.14,
            0.79,
            -0.56,
            0.71,
            0.37,
            -0.32
           ],
           [
            -0.27,
            -0.33,
            0.21,
            0.4,
            -0.05,
            0.6,
            0.23,
            0.63,
            1,
            0.18,
            0.34,
            0.85,
            0.8,
            0.25,
            0.35,
            0.15,
            0.9,
            0.41,
            0.66,
            0.78,
            0.83,
            -0.48,
            0.42,
            0.37,
            0.47,
            -0.38,
            0.86,
            0.58,
            -0.03
           ],
           [
            -0.86,
            0.69,
            0.96,
            -0.21,
            -0.9,
            -0.28,
            -0.37,
            -0.41,
            0.18,
            1,
            -0.48,
            -0.1,
            0.51,
            0.17,
            -0.76,
            0.84,
            0.16,
            0.86,
            0.32,
            0.28,
            -0.05,
            -0.11,
            -0.17,
            0.24,
            -0.64,
            0.64,
            -0.06,
            -0.19,
            0.05
           ],
           [
            0.22,
            -0.89,
            -0.42,
            0.67,
            0.61,
            0.42,
            0.68,
            0.34,
            0.34,
            -0.48,
            1,
            0.61,
            0.25,
            0.5,
            0.81,
            -0.5,
            0.42,
            -0.34,
            0.23,
            0.44,
            0.63,
            -0.41,
            0.66,
            0.31,
            0.74,
            -0.88,
            0.56,
            0.49,
            0.11
           ],
           [
            -0.1,
            -0.63,
            -0.03,
            0.6,
            0.24,
            0.75,
            0.47,
            0.7,
            0.85,
            -0.1,
            0.61,
            1,
            0.73,
            0.33,
            0.64,
            -0.12,
            0.85,
            0.16,
            0.67,
            0.79,
            0.98,
            -0.59,
            0.61,
            0.38,
            0.72,
            -0.66,
            0.97,
            0.72,
            0.04
           ],
           [
            -0.65,
            -0.16,
            0.56,
            0.45,
            -0.27,
            0.29,
            0.26,
            0.22,
            0.8,
            0.51,
            0.25,
            0.73,
            1,
            0.5,
            0.09,
            0.33,
            0.79,
            0.59,
            0.65,
            0.84,
            0.78,
            -0.42,
            0.48,
            0.5,
            0.14,
            -0.22,
            0.7,
            0.5,
            0.18
           ],
           [
            -0.47,
            -0.36,
            0.31,
            0.76,
            0.16,
            -0.02,
            0.7,
            -0.2,
            0.25,
            0.17,
            0.5,
            0.33,
            0.5,
            1,
            0.24,
            -0.17,
            0.41,
            0.01,
            0.26,
            0.7,
            0.41,
            -0.01,
            0.76,
            0.73,
            0.04,
            -0.41,
            0.2,
            0.52,
            0.58
           ],
           [
            0.51,
            -0.95,
            -0.66,
            0.61,
            0.85,
            0.6,
            0.67,
            0.65,
            0.35,
            -0.76,
            0.81,
            0.64,
            0.09,
            0.24,
            1,
            -0.73,
            0.35,
            -0.59,
            0.2,
            0.32,
            0.63,
            -0.25,
            0.59,
            0.09,
            0.9,
            -0.96,
            0.58,
            0.55,
            0.1
           ],
           [
            -0.58,
            0.66,
            0.77,
            -0.53,
            -0.97,
            -0.07,
            -0.69,
            -0.21,
            0.15,
            0.84,
            -0.5,
            -0.12,
            0.33,
            -0.17,
            -0.73,
            1,
            0.02,
            0.9,
            0.4,
            0.08,
            -0.11,
            -0.38,
            -0.49,
            -0.15,
            -0.46,
            0.66,
            0,
            -0.43,
            -0.39
           ],
           [
            -0.34,
            -0.36,
            0.18,
            0.55,
            0.04,
            0.46,
            0.39,
            0.44,
            0.9,
            0.16,
            0.42,
            0.85,
            0.79,
            0.41,
            0.35,
            0.02,
            1,
            0.32,
            0.53,
            0.85,
            0.83,
            -0.36,
            0.57,
            0.58,
            0.38,
            -0.39,
            0.81,
            0.74,
            0.19
           ],
           [
            -0.73,
            0.53,
            0.79,
            -0.24,
            -0.89,
            0,
            -0.45,
            -0.09,
            0.41,
            0.86,
            -0.34,
            0.16,
            0.59,
            0.01,
            -0.59,
            0.9,
            0.32,
            1,
            0.48,
            0.35,
            0.17,
            -0.39,
            -0.2,
            0.13,
            -0.35,
            0.5,
            0.24,
            -0.13,
            -0.24
           ],
           [
            -0.3,
            -0.23,
            0.41,
            0.22,
            -0.25,
            0.73,
            0.05,
            0.49,
            0.66,
            0.32,
            0.23,
            0.67,
            0.65,
            0.26,
            0.2,
            0.4,
            0.53,
            0.48,
            1,
            0.69,
            0.66,
            -0.67,
            0.25,
            0.12,
            0.39,
            -0.25,
            0.7,
            0.3,
            -0.16
           ],
           [
            -0.48,
            -0.38,
            0.37,
            0.69,
            -0.01,
            0.46,
            0.51,
            0.31,
            0.78,
            0.28,
            0.44,
            0.79,
            0.84,
            0.7,
            0.32,
            0.08,
            0.85,
            0.35,
            0.69,
            1,
            0.82,
            -0.37,
            0.71,
            0.65,
            0.32,
            -0.43,
            0.72,
            0.71,
            0.28
           ],
           [
            -0.16,
            -0.65,
            0.02,
            0.64,
            0.23,
            0.68,
            0.5,
            0.63,
            0.83,
            -0.05,
            0.63,
            0.98,
            0.78,
            0.41,
            0.63,
            -0.11,
            0.83,
            0.17,
            0.66,
            0.82,
            1,
            -0.58,
            0.64,
            0.4,
            0.68,
            -0.69,
            0.92,
            0.69,
            0.07
           ],
           [
            0.02,
            0.34,
            -0.1,
            0.03,
            0.21,
            -0.66,
            0.12,
            -0.43,
            -0.48,
            -0.11,
            -0.41,
            -0.59,
            -0.42,
            -0.01,
            -0.25,
            -0.38,
            -0.36,
            -0.39,
            -0.67,
            -0.37,
            -0.58,
            1,
            0.01,
            0.13,
            -0.53,
            0.29,
            -0.68,
            -0.08,
            0.48
           ],
           [
            -0.23,
            -0.6,
            -0.04,
            1,
            0.5,
            0.25,
            0.95,
            0.19,
            0.42,
            -0.17,
            0.66,
            0.61,
            0.48,
            0.76,
            0.59,
            -0.49,
            0.57,
            -0.2,
            0.25,
            0.71,
            0.64,
            0.01,
            1,
            0.77,
            0.38,
            -0.67,
            0.46,
            0.8,
            0.62
           ],
           [
            -0.56,
            -0.13,
            0.32,
            0.76,
            0.07,
            -0.05,
            0.67,
            -0.14,
            0.37,
            0.24,
            0.31,
            0.38,
            0.5,
            0.73,
            0.09,
            -0.15,
            0.58,
            0.13,
            0.12,
            0.65,
            0.4,
            0.13,
            0.77,
            1,
            -0.08,
            -0.19,
            0.27,
            0.67,
            0.7
           ],
           [
            0.54,
            -0.86,
            -0.59,
            0.4,
            0.62,
            0.8,
            0.41,
            0.79,
            0.47,
            -0.64,
            0.74,
            0.72,
            0.14,
            0.04,
            0.9,
            -0.46,
            0.38,
            -0.35,
            0.39,
            0.32,
            0.68,
            -0.53,
            0.38,
            -0.08,
            1,
            -0.86,
            0.71,
            0.43,
            -0.21
           ],
           [
            -0.38,
            0.98,
            0.54,
            -0.7,
            -0.78,
            -0.54,
            -0.73,
            -0.56,
            -0.38,
            0.64,
            -0.88,
            -0.66,
            -0.22,
            -0.41,
            -0.96,
            0.66,
            -0.39,
            0.5,
            -0.25,
            -0.43,
            -0.69,
            0.29,
            -0.67,
            -0.19,
            -0.86,
            1,
            -0.57,
            -0.55,
            -0.12
           ],
           [
            -0.07,
            -0.56,
            -0.01,
            0.45,
            0.14,
            0.78,
            0.31,
            0.71,
            0.86,
            -0.06,
            0.56,
            0.97,
            0.7,
            0.2,
            0.58,
            0,
            0.81,
            0.24,
            0.7,
            0.72,
            0.92,
            -0.68,
            0.46,
            0.27,
            0.71,
            -0.57,
            1,
            0.62,
            -0.08
           ],
           [
            -0.14,
            -0.52,
            -0.09,
            0.8,
            0.44,
            0.43,
            0.72,
            0.37,
            0.58,
            -0.19,
            0.49,
            0.72,
            0.5,
            0.52,
            0.55,
            -0.43,
            0.74,
            -0.13,
            0.3,
            0.71,
            0.69,
            -0.08,
            0.8,
            0.67,
            0.43,
            -0.55,
            0.62,
            1,
            0.52
           ],
           [
            -0.37,
            -0.06,
            0.16,
            0.63,
            0.29,
            -0.29,
            0.66,
            -0.32,
            -0.03,
            0.05,
            0.11,
            0.04,
            0.18,
            0.58,
            0.1,
            -0.39,
            0.19,
            -0.24,
            -0.16,
            0.28,
            0.07,
            0.48,
            0.62,
            0.7,
            -0.21,
            -0.12,
            -0.08,
            0.52,
            1
           ]
          ]
         },
         "header": {
          "align": "center",
          "fill": {
           "color": "lightblue"
          },
          "font": {
           "color": "black",
           "size": 10
          },
          "values": [
           "Instruments",
           "USDCAD_Candlestick_1_Hour_BID_01_df",
           "UKGILT_df",
           "AUDUSD_Candlestick_1_Hour_BID_01_df",
           "BRENT_df",
           "DOLLAR_df",
           "XAUUSD_Candlestick_1_Hour_BID_01_df",
           "DIESEL_df",
           "COCOA_df",
           "BTCUSD_Candlestick_1_Hour_BID_01_df",
           "NZDUSD_Candlestick_1_Hour_BID_01_df",
           "SUGAR_df",
           "USA500_df",
           "USSC2000_df",
           "SOYBEAN_df",
           "USDJPY_Candlestick_1_Hour_BID_01_df",
           "EURUSD_Candlestick_1_Hour_BID_01_df",
           "ETHUSD_Candlestick_1_Hour_BID_01_df",
           "GBPUSD_Candlestick_1_Hour_BID_01_df",
           "XAGUSD_Candlestick_1_Hour_BID_01_df",
           "COPPER_df",
           "USA30_df",
           "USDCHF_Candlestick_1_Hour_BID_01_df",
           "LIGHT_df",
           "COTTON_df",
           "OJUICE_df",
           "USTBOND_df",
           "USATECH_df",
           "COFFEE_df",
           "GAS_df"
          ]
         },
         "type": "table"
        }
       ],
       "layout": {
        "height": 900,
        "template": {
         "data": {
          "bar": [
           {
            "error_x": {
             "color": "#2a3f5f"
            },
            "error_y": {
             "color": "#2a3f5f"
            },
            "marker": {
             "line": {
              "color": "#E5ECF6",
              "width": 0.5
             },
             "pattern": {
              "fillmode": "overlay",
              "size": 10,
              "solidity": 0.2
             }
            },
            "type": "bar"
           }
          ],
          "barpolar": [
           {
            "marker": {
             "line": {
              "color": "#E5ECF6",
              "width": 0.5
             },
             "pattern": {
              "fillmode": "overlay",
              "size": 10,
              "solidity": 0.2
             }
            },
            "type": "barpolar"
           }
          ],
          "carpet": [
           {
            "aaxis": {
             "endlinecolor": "#2a3f5f",
             "gridcolor": "white",
             "linecolor": "white",
             "minorgridcolor": "white",
             "startlinecolor": "#2a3f5f"
            },
            "baxis": {
             "endlinecolor": "#2a3f5f",
             "gridcolor": "white",
             "linecolor": "white",
             "minorgridcolor": "white",
             "startlinecolor": "#2a3f5f"
            },
            "type": "carpet"
           }
          ],
          "choropleth": [
           {
            "colorbar": {
             "outlinewidth": 0,
             "ticks": ""
            },
            "type": "choropleth"
           }
          ],
          "contour": [
           {
            "colorbar": {
             "outlinewidth": 0,
             "ticks": ""
            },
            "colorscale": [
             [
              0,
              "#0d0887"
             ],
             [
              0.1111111111111111,
              "#46039f"
             ],
             [
              0.2222222222222222,
              "#7201a8"
             ],
             [
              0.3333333333333333,
              "#9c179e"
             ],
             [
              0.4444444444444444,
              "#bd3786"
             ],
             [
              0.5555555555555556,
              "#d8576b"
             ],
             [
              0.6666666666666666,
              "#ed7953"
             ],
             [
              0.7777777777777778,
              "#fb9f3a"
             ],
             [
              0.8888888888888888,
              "#fdca26"
             ],
             [
              1,
              "#f0f921"
             ]
            ],
            "type": "contour"
           }
          ],
          "contourcarpet": [
           {
            "colorbar": {
             "outlinewidth": 0,
             "ticks": ""
            },
            "type": "contourcarpet"
           }
          ],
          "heatmap": [
           {
            "colorbar": {
             "outlinewidth": 0,
             "ticks": ""
            },
            "colorscale": [
             [
              0,
              "#0d0887"
             ],
             [
              0.1111111111111111,
              "#46039f"
             ],
             [
              0.2222222222222222,
              "#7201a8"
             ],
             [
              0.3333333333333333,
              "#9c179e"
             ],
             [
              0.4444444444444444,
              "#bd3786"
             ],
             [
              0.5555555555555556,
              "#d8576b"
             ],
             [
              0.6666666666666666,
              "#ed7953"
             ],
             [
              0.7777777777777778,
              "#fb9f3a"
             ],
             [
              0.8888888888888888,
              "#fdca26"
             ],
             [
              1,
              "#f0f921"
             ]
            ],
            "type": "heatmap"
           }
          ],
          "heatmapgl": [
           {
            "colorbar": {
             "outlinewidth": 0,
             "ticks": ""
            },
            "colorscale": [
             [
              0,
              "#0d0887"
             ],
             [
              0.1111111111111111,
              "#46039f"
             ],
             [
              0.2222222222222222,
              "#7201a8"
             ],
             [
              0.3333333333333333,
              "#9c179e"
             ],
             [
              0.4444444444444444,
              "#bd3786"
             ],
             [
              0.5555555555555556,
              "#d8576b"
             ],
             [
              0.6666666666666666,
              "#ed7953"
             ],
             [
              0.7777777777777778,
              "#fb9f3a"
             ],
             [
              0.8888888888888888,
              "#fdca26"
             ],
             [
              1,
              "#f0f921"
             ]
            ],
            "type": "heatmapgl"
           }
          ],
          "histogram": [
           {
            "marker": {
             "pattern": {
              "fillmode": "overlay",
              "size": 10,
              "solidity": 0.2
             }
            },
            "type": "histogram"
           }
          ],
          "histogram2d": [
           {
            "colorbar": {
             "outlinewidth": 0,
             "ticks": ""
            },
            "colorscale": [
             [
              0,
              "#0d0887"
             ],
             [
              0.1111111111111111,
              "#46039f"
             ],
             [
              0.2222222222222222,
              "#7201a8"
             ],
             [
              0.3333333333333333,
              "#9c179e"
             ],
             [
              0.4444444444444444,
              "#bd3786"
             ],
             [
              0.5555555555555556,
              "#d8576b"
             ],
             [
              0.6666666666666666,
              "#ed7953"
             ],
             [
              0.7777777777777778,
              "#fb9f3a"
             ],
             [
              0.8888888888888888,
              "#fdca26"
             ],
             [
              1,
              "#f0f921"
             ]
            ],
            "type": "histogram2d"
           }
          ],
          "histogram2dcontour": [
           {
            "colorbar": {
             "outlinewidth": 0,
             "ticks": ""
            },
            "colorscale": [
             [
              0,
              "#0d0887"
             ],
             [
              0.1111111111111111,
              "#46039f"
             ],
             [
              0.2222222222222222,
              "#7201a8"
             ],
             [
              0.3333333333333333,
              "#9c179e"
             ],
             [
              0.4444444444444444,
              "#bd3786"
             ],
             [
              0.5555555555555556,
              "#d8576b"
             ],
             [
              0.6666666666666666,
              "#ed7953"
             ],
             [
              0.7777777777777778,
              "#fb9f3a"
             ],
             [
              0.8888888888888888,
              "#fdca26"
             ],
             [
              1,
              "#f0f921"
             ]
            ],
            "type": "histogram2dcontour"
           }
          ],
          "mesh3d": [
           {
            "colorbar": {
             "outlinewidth": 0,
             "ticks": ""
            },
            "type": "mesh3d"
           }
          ],
          "parcoords": [
           {
            "line": {
             "colorbar": {
              "outlinewidth": 0,
              "ticks": ""
             }
            },
            "type": "parcoords"
           }
          ],
          "pie": [
           {
            "automargin": true,
            "type": "pie"
           }
          ],
          "scatter": [
           {
            "fillpattern": {
             "fillmode": "overlay",
             "size": 10,
             "solidity": 0.2
            },
            "type": "scatter"
           }
          ],
          "scatter3d": [
           {
            "line": {
             "colorbar": {
              "outlinewidth": 0,
              "ticks": ""
             }
            },
            "marker": {
             "colorbar": {
              "outlinewidth": 0,
              "ticks": ""
             }
            },
            "type": "scatter3d"
           }
          ],
          "scattercarpet": [
           {
            "marker": {
             "colorbar": {
              "outlinewidth": 0,
              "ticks": ""
             }
            },
            "type": "scattercarpet"
           }
          ],
          "scattergeo": [
           {
            "marker": {
             "colorbar": {
              "outlinewidth": 0,
              "ticks": ""
             }
            },
            "type": "scattergeo"
           }
          ],
          "scattergl": [
           {
            "marker": {
             "colorbar": {
              "outlinewidth": 0,
              "ticks": ""
             }
            },
            "type": "scattergl"
           }
          ],
          "scattermapbox": [
           {
            "marker": {
             "colorbar": {
              "outlinewidth": 0,
              "ticks": ""
             }
            },
            "type": "scattermapbox"
           }
          ],
          "scatterpolar": [
           {
            "marker": {
             "colorbar": {
              "outlinewidth": 0,
              "ticks": ""
             }
            },
            "type": "scatterpolar"
           }
          ],
          "scatterpolargl": [
           {
            "marker": {
             "colorbar": {
              "outlinewidth": 0,
              "ticks": ""
             }
            },
            "type": "scatterpolargl"
           }
          ],
          "scatterternary": [
           {
            "marker": {
             "colorbar": {
              "outlinewidth": 0,
              "ticks": ""
             }
            },
            "type": "scatterternary"
           }
          ],
          "surface": [
           {
            "colorbar": {
             "outlinewidth": 0,
             "ticks": ""
            },
            "colorscale": [
             [
              0,
              "#0d0887"
             ],
             [
              0.1111111111111111,
              "#46039f"
             ],
             [
              0.2222222222222222,
              "#7201a8"
             ],
             [
              0.3333333333333333,
              "#9c179e"
             ],
             [
              0.4444444444444444,
              "#bd3786"
             ],
             [
              0.5555555555555556,
              "#d8576b"
             ],
             [
              0.6666666666666666,
              "#ed7953"
             ],
             [
              0.7777777777777778,
              "#fb9f3a"
             ],
             [
              0.8888888888888888,
              "#fdca26"
             ],
             [
              1,
              "#f0f921"
             ]
            ],
            "type": "surface"
           }
          ],
          "table": [
           {
            "cells": {
             "fill": {
              "color": "#EBF0F8"
             },
             "line": {
              "color": "white"
             }
            },
            "header": {
             "fill": {
              "color": "#C8D4E3"
             },
             "line": {
              "color": "white"
             }
            },
            "type": "table"
           }
          ]
         },
         "layout": {
          "annotationdefaults": {
           "arrowcolor": "#2a3f5f",
           "arrowhead": 0,
           "arrowwidth": 1
          },
          "autotypenumbers": "strict",
          "coloraxis": {
           "colorbar": {
            "outlinewidth": 0,
            "ticks": ""
           }
          },
          "colorscale": {
           "diverging": [
            [
             0,
             "#8e0152"
            ],
            [
             0.1,
             "#c51b7d"
            ],
            [
             0.2,
             "#de77ae"
            ],
            [
             0.3,
             "#f1b6da"
            ],
            [
             0.4,
             "#fde0ef"
            ],
            [
             0.5,
             "#f7f7f7"
            ],
            [
             0.6,
             "#e6f5d0"
            ],
            [
             0.7,
             "#b8e186"
            ],
            [
             0.8,
             "#7fbc41"
            ],
            [
             0.9,
             "#4d9221"
            ],
            [
             1,
             "#276419"
            ]
           ],
           "sequential": [
            [
             0,
             "#0d0887"
            ],
            [
             0.1111111111111111,
             "#46039f"
            ],
            [
             0.2222222222222222,
             "#7201a8"
            ],
            [
             0.3333333333333333,
             "#9c179e"
            ],
            [
             0.4444444444444444,
             "#bd3786"
            ],
            [
             0.5555555555555556,
             "#d8576b"
            ],
            [
             0.6666666666666666,
             "#ed7953"
            ],
            [
             0.7777777777777778,
             "#fb9f3a"
            ],
            [
             0.8888888888888888,
             "#fdca26"
            ],
            [
             1,
             "#f0f921"
            ]
           ],
           "sequentialminus": [
            [
             0,
             "#0d0887"
            ],
            [
             0.1111111111111111,
             "#46039f"
            ],
            [
             0.2222222222222222,
             "#7201a8"
            ],
            [
             0.3333333333333333,
             "#9c179e"
            ],
            [
             0.4444444444444444,
             "#bd3786"
            ],
            [
             0.5555555555555556,
             "#d8576b"
            ],
            [
             0.6666666666666666,
             "#ed7953"
            ],
            [
             0.7777777777777778,
             "#fb9f3a"
            ],
            [
             0.8888888888888888,
             "#fdca26"
            ],
            [
             1,
             "#f0f921"
            ]
           ]
          },
          "colorway": [
           "#636efa",
           "#EF553B",
           "#00cc96",
           "#ab63fa",
           "#FFA15A",
           "#19d3f3",
           "#FF6692",
           "#B6E880",
           "#FF97FF",
           "#FECB52"
          ],
          "font": {
           "color": "#2a3f5f"
          },
          "geo": {
           "bgcolor": "white",
           "lakecolor": "white",
           "landcolor": "#E5ECF6",
           "showlakes": true,
           "showland": true,
           "subunitcolor": "white"
          },
          "hoverlabel": {
           "align": "left"
          },
          "hovermode": "closest",
          "mapbox": {
           "style": "light"
          },
          "paper_bgcolor": "white",
          "plot_bgcolor": "#E5ECF6",
          "polar": {
           "angularaxis": {
            "gridcolor": "white",
            "linecolor": "white",
            "ticks": ""
           },
           "bgcolor": "#E5ECF6",
           "radialaxis": {
            "gridcolor": "white",
            "linecolor": "white",
            "ticks": ""
           }
          },
          "scene": {
           "xaxis": {
            "backgroundcolor": "#E5ECF6",
            "gridcolor": "white",
            "gridwidth": 2,
            "linecolor": "white",
            "showbackground": true,
            "ticks": "",
            "zerolinecolor": "white"
           },
           "yaxis": {
            "backgroundcolor": "#E5ECF6",
            "gridcolor": "white",
            "gridwidth": 2,
            "linecolor": "white",
            "showbackground": true,
            "ticks": "",
            "zerolinecolor": "white"
           },
           "zaxis": {
            "backgroundcolor": "#E5ECF6",
            "gridcolor": "white",
            "gridwidth": 2,
            "linecolor": "white",
            "showbackground": true,
            "ticks": "",
            "zerolinecolor": "white"
           }
          },
          "shapedefaults": {
           "line": {
            "color": "#2a3f5f"
           }
          },
          "ternary": {
           "aaxis": {
            "gridcolor": "white",
            "linecolor": "white",
            "ticks": ""
           },
           "baxis": {
            "gridcolor": "white",
            "linecolor": "white",
            "ticks": ""
           },
           "bgcolor": "#E5ECF6",
           "caxis": {
            "gridcolor": "white",
            "linecolor": "white",
            "ticks": ""
           }
          },
          "title": {
           "x": 0.05
          },
          "xaxis": {
           "automargin": true,
           "gridcolor": "white",
           "linecolor": "white",
           "ticks": "",
           "title": {
            "standoff": 15
           },
           "zerolinecolor": "white",
           "zerolinewidth": 2
          },
          "yaxis": {
           "automargin": true,
           "gridcolor": "white",
           "linecolor": "white",
           "ticks": "",
           "title": {
            "standoff": 15
           },
           "zerolinecolor": "white",
           "zerolinewidth": 2
          }
         }
        },
        "title": {
         "text": "Pairwise Correlation Matrix in Table Format",
         "x": 0.5
        },
        "width": 1200
       }
      }
     },
     "metadata": {},
     "output_type": "display_data"
    }
   ],
   "source": [
    "import plotly.graph_objects as go\n",
    "\n",
    "# Create headers and rows for the table\n",
    "header_values = [\"Instruments\"] + list(correlation_matrix.columns)\n",
    "row_values = [correlation_matrix.index] + [correlation_matrix[col].round(2).tolist() for col in correlation_matrix.columns]\n",
    "\n",
    "# Create the table\n",
    "fig = go.Figure(data=[go.Table(\n",
    "    header=dict(values=header_values,\n",
    "                fill_color='lightblue',\n",
    "                align='center',\n",
    "                font=dict(size=10, color='black')),\n",
    "    cells=dict(values=row_values,\n",
    "               fill_color='lightgray',\n",
    "               align='center',\n",
    "               font=dict(size=8))\n",
    ")])\n",
    "\n",
    "# Update layout\n",
    "fig.update_layout(\n",
    "    title=\"Pairwise Correlation Matrix in Table Format\",\n",
    "    title_x=0.5,\n",
    "    width=1200,\n",
    "    height=900\n",
    ")\n",
    "\n",
    "# Show the plot\n",
    "fig.show()\n"
   ]
  },
  {
   "cell_type": "code",
   "execution_count": 9,
   "metadata": {},
   "outputs": [
    {
     "data": {
      "application/vnd.plotly.v1+json": {
       "config": {
        "plotlyServerURL": "https://plot.ly"
       },
       "data": [
        {
         "cells": {
          "align": "center",
          "fill": {
           "color": "lightgray"
          },
          "font": {
           "size": 10
          },
          "height": 30,
          "values": [
           [
            "USDCAD_Candlestick_1_Hour_BID_01_df",
            "UKGILT_df",
            "AUDUSD_Candlestick_1_Hour_BID_01_df",
            "BRENT_df",
            "DOLLAR_df",
            "XAUUSD_Candlestick_1_Hour_BID_01_df",
            "DIESEL_df",
            "COCOA_df",
            "BTCUSD_Candlestick_1_Hour_BID_01_df",
            "NZDUSD_Candlestick_1_Hour_BID_01_df",
            "SUGAR_df",
            "USA500_df",
            "USSC2000_df",
            "SOYBEAN_df",
            "USDJPY_Candlestick_1_Hour_BID_01_df",
            "EURUSD_Candlestick_1_Hour_BID_01_df",
            "ETHUSD_Candlestick_1_Hour_BID_01_df",
            "GBPUSD_Candlestick_1_Hour_BID_01_df",
            "XAGUSD_Candlestick_1_Hour_BID_01_df",
            "COPPER_df",
            "USA30_df",
            "USDCHF_Candlestick_1_Hour_BID_01_df",
            "LIGHT_df",
            "COTTON_df",
            "OJUICE_df",
            "USTBOND_df",
            "USATECH_df",
            "COFFEE_df",
            "GAS_df"
           ],
           [
            1,
            -0.45,
            -0.89,
            -0.2,
            0.65,
            0.28,
            -0.03,
            0.4,
            -0.27,
            -0.86,
            0.22,
            -0.1,
            -0.65,
            -0.47,
            0.51,
            -0.58,
            -0.34,
            -0.73,
            -0.3,
            -0.48,
            -0.16,
            0.02,
            -0.23,
            -0.56,
            0.54,
            -0.38,
            -0.07,
            -0.14,
            -0.37
           ],
           [
            -0.45,
            1,
            0.59,
            -0.63,
            -0.79,
            -0.54,
            -0.67,
            -0.54,
            -0.33,
            0.69,
            -0.89,
            -0.63,
            -0.16,
            -0.36,
            -0.95,
            0.66,
            -0.36,
            0.53,
            -0.23,
            -0.38,
            -0.65,
            0.34,
            -0.6,
            -0.13,
            -0.86,
            0.98,
            -0.56,
            -0.52,
            -0.06
           ],
           [
            -0.89,
            0.59,
            1,
            -0.07,
            -0.8,
            -0.19,
            -0.23,
            -0.38,
            0.21,
            0.96,
            -0.42,
            -0.03,
            0.56,
            0.31,
            -0.66,
            0.77,
            0.18,
            0.79,
            0.41,
            0.37,
            0.02,
            -0.1,
            -0.04,
            0.32,
            -0.59,
            0.54,
            -0.01,
            -0.09,
            0.16
           ],
           [
            -0.2,
            -0.63,
            -0.07,
            1,
            0.54,
            0.25,
            0.96,
            0.2,
            0.4,
            -0.21,
            0.67,
            0.6,
            0.45,
            0.76,
            0.61,
            -0.53,
            0.55,
            -0.24,
            0.22,
            0.69,
            0.64,
            0.03,
            1,
            0.76,
            0.4,
            -0.7,
            0.45,
            0.8,
            0.63
           ],
           [
            0.65,
            -0.79,
            -0.8,
            0.54,
            1,
            0.23,
            0.68,
            0.36,
            -0.05,
            -0.9,
            0.61,
            0.24,
            -0.27,
            0.16,
            0.85,
            -0.97,
            0.04,
            -0.89,
            -0.25,
            -0.01,
            0.23,
            0.21,
            0.5,
            0.07,
            0.62,
            -0.78,
            0.14,
            0.44,
            0.29
           ],
           [
            0.28,
            -0.54,
            -0.19,
            0.25,
            0.23,
            1,
            0.17,
            0.85,
            0.6,
            -0.28,
            0.42,
            0.75,
            0.29,
            -0.02,
            0.6,
            -0.07,
            0.46,
            0,
            0.73,
            0.46,
            0.68,
            -0.66,
            0.25,
            -0.05,
            0.8,
            -0.54,
            0.78,
            0.43,
            -0.29
           ],
           [
            -0.03,
            -0.67,
            -0.23,
            0.96,
            0.68,
            0.17,
            1,
            0.15,
            0.23,
            -0.37,
            0.68,
            0.47,
            0.26,
            0.7,
            0.67,
            -0.69,
            0.39,
            -0.45,
            0.05,
            0.51,
            0.5,
            0.12,
            0.95,
            0.67,
            0.41,
            -0.73,
            0.31,
            0.72,
            0.66
           ],
           [
            0.4,
            -0.54,
            -0.38,
            0.2,
            0.36,
            0.85,
            0.15,
            1,
            0.63,
            -0.41,
            0.34,
            0.7,
            0.22,
            -0.2,
            0.65,
            -0.21,
            0.44,
            -0.09,
            0.49,
            0.31,
            0.63,
            -0.43,
            0.19,
            -0.14,
            0.79,
            -0.56,
            0.71,
            0.37,
            -0.32
           ],
           [
            -0.27,
            -0.33,
            0.21,
            0.4,
            -0.05,
            0.6,
            0.23,
            0.63,
            1,
            0.18,
            0.34,
            0.85,
            0.8,
            0.25,
            0.35,
            0.15,
            0.9,
            0.41,
            0.66,
            0.78,
            0.83,
            -0.48,
            0.42,
            0.37,
            0.47,
            -0.38,
            0.86,
            0.58,
            -0.03
           ],
           [
            -0.86,
            0.69,
            0.96,
            -0.21,
            -0.9,
            -0.28,
            -0.37,
            -0.41,
            0.18,
            1,
            -0.48,
            -0.1,
            0.51,
            0.17,
            -0.76,
            0.84,
            0.16,
            0.86,
            0.32,
            0.28,
            -0.05,
            -0.11,
            -0.17,
            0.24,
            -0.64,
            0.64,
            -0.06,
            -0.19,
            0.05
           ],
           [
            0.22,
            -0.89,
            -0.42,
            0.67,
            0.61,
            0.42,
            0.68,
            0.34,
            0.34,
            -0.48,
            1,
            0.61,
            0.25,
            0.5,
            0.81,
            -0.5,
            0.42,
            -0.34,
            0.23,
            0.44,
            0.63,
            -0.41,
            0.66,
            0.31,
            0.74,
            -0.88,
            0.56,
            0.49,
            0.11
           ],
           [
            -0.1,
            -0.63,
            -0.03,
            0.6,
            0.24,
            0.75,
            0.47,
            0.7,
            0.85,
            -0.1,
            0.61,
            1,
            0.73,
            0.33,
            0.64,
            -0.12,
            0.85,
            0.16,
            0.67,
            0.79,
            0.98,
            -0.59,
            0.61,
            0.38,
            0.72,
            -0.66,
            0.97,
            0.72,
            0.04
           ],
           [
            -0.65,
            -0.16,
            0.56,
            0.45,
            -0.27,
            0.29,
            0.26,
            0.22,
            0.8,
            0.51,
            0.25,
            0.73,
            1,
            0.5,
            0.09,
            0.33,
            0.79,
            0.59,
            0.65,
            0.84,
            0.78,
            -0.42,
            0.48,
            0.5,
            0.14,
            -0.22,
            0.7,
            0.5,
            0.18
           ],
           [
            -0.47,
            -0.36,
            0.31,
            0.76,
            0.16,
            -0.02,
            0.7,
            -0.2,
            0.25,
            0.17,
            0.5,
            0.33,
            0.5,
            1,
            0.24,
            -0.17,
            0.41,
            0.01,
            0.26,
            0.7,
            0.41,
            -0.01,
            0.76,
            0.73,
            0.04,
            -0.41,
            0.2,
            0.52,
            0.58
           ],
           [
            0.51,
            -0.95,
            -0.66,
            0.61,
            0.85,
            0.6,
            0.67,
            0.65,
            0.35,
            -0.76,
            0.81,
            0.64,
            0.09,
            0.24,
            1,
            -0.73,
            0.35,
            -0.59,
            0.2,
            0.32,
            0.63,
            -0.25,
            0.59,
            0.09,
            0.9,
            -0.96,
            0.58,
            0.55,
            0.1
           ],
           [
            -0.58,
            0.66,
            0.77,
            -0.53,
            -0.97,
            -0.07,
            -0.69,
            -0.21,
            0.15,
            0.84,
            -0.5,
            -0.12,
            0.33,
            -0.17,
            -0.73,
            1,
            0.02,
            0.9,
            0.4,
            0.08,
            -0.11,
            -0.38,
            -0.49,
            -0.15,
            -0.46,
            0.66,
            0,
            -0.43,
            -0.39
           ],
           [
            -0.34,
            -0.36,
            0.18,
            0.55,
            0.04,
            0.46,
            0.39,
            0.44,
            0.9,
            0.16,
            0.42,
            0.85,
            0.79,
            0.41,
            0.35,
            0.02,
            1,
            0.32,
            0.53,
            0.85,
            0.83,
            -0.36,
            0.57,
            0.58,
            0.38,
            -0.39,
            0.81,
            0.74,
            0.19
           ],
           [
            -0.73,
            0.53,
            0.79,
            -0.24,
            -0.89,
            0,
            -0.45,
            -0.09,
            0.41,
            0.86,
            -0.34,
            0.16,
            0.59,
            0.01,
            -0.59,
            0.9,
            0.32,
            1,
            0.48,
            0.35,
            0.17,
            -0.39,
            -0.2,
            0.13,
            -0.35,
            0.5,
            0.24,
            -0.13,
            -0.24
           ],
           [
            -0.3,
            -0.23,
            0.41,
            0.22,
            -0.25,
            0.73,
            0.05,
            0.49,
            0.66,
            0.32,
            0.23,
            0.67,
            0.65,
            0.26,
            0.2,
            0.4,
            0.53,
            0.48,
            1,
            0.69,
            0.66,
            -0.67,
            0.25,
            0.12,
            0.39,
            -0.25,
            0.7,
            0.3,
            -0.16
           ],
           [
            -0.48,
            -0.38,
            0.37,
            0.69,
            -0.01,
            0.46,
            0.51,
            0.31,
            0.78,
            0.28,
            0.44,
            0.79,
            0.84,
            0.7,
            0.32,
            0.08,
            0.85,
            0.35,
            0.69,
            1,
            0.82,
            -0.37,
            0.71,
            0.65,
            0.32,
            -0.43,
            0.72,
            0.71,
            0.28
           ],
           [
            -0.16,
            -0.65,
            0.02,
            0.64,
            0.23,
            0.68,
            0.5,
            0.63,
            0.83,
            -0.05,
            0.63,
            0.98,
            0.78,
            0.41,
            0.63,
            -0.11,
            0.83,
            0.17,
            0.66,
            0.82,
            1,
            -0.58,
            0.64,
            0.4,
            0.68,
            -0.69,
            0.92,
            0.69,
            0.07
           ],
           [
            0.02,
            0.34,
            -0.1,
            0.03,
            0.21,
            -0.66,
            0.12,
            -0.43,
            -0.48,
            -0.11,
            -0.41,
            -0.59,
            -0.42,
            -0.01,
            -0.25,
            -0.38,
            -0.36,
            -0.39,
            -0.67,
            -0.37,
            -0.58,
            1,
            0.01,
            0.13,
            -0.53,
            0.29,
            -0.68,
            -0.08,
            0.48
           ],
           [
            -0.23,
            -0.6,
            -0.04,
            1,
            0.5,
            0.25,
            0.95,
            0.19,
            0.42,
            -0.17,
            0.66,
            0.61,
            0.48,
            0.76,
            0.59,
            -0.49,
            0.57,
            -0.2,
            0.25,
            0.71,
            0.64,
            0.01,
            1,
            0.77,
            0.38,
            -0.67,
            0.46,
            0.8,
            0.62
           ],
           [
            -0.56,
            -0.13,
            0.32,
            0.76,
            0.07,
            -0.05,
            0.67,
            -0.14,
            0.37,
            0.24,
            0.31,
            0.38,
            0.5,
            0.73,
            0.09,
            -0.15,
            0.58,
            0.13,
            0.12,
            0.65,
            0.4,
            0.13,
            0.77,
            1,
            -0.08,
            -0.19,
            0.27,
            0.67,
            0.7
           ],
           [
            0.54,
            -0.86,
            -0.59,
            0.4,
            0.62,
            0.8,
            0.41,
            0.79,
            0.47,
            -0.64,
            0.74,
            0.72,
            0.14,
            0.04,
            0.9,
            -0.46,
            0.38,
            -0.35,
            0.39,
            0.32,
            0.68,
            -0.53,
            0.38,
            -0.08,
            1,
            -0.86,
            0.71,
            0.43,
            -0.21
           ],
           [
            -0.38,
            0.98,
            0.54,
            -0.7,
            -0.78,
            -0.54,
            -0.73,
            -0.56,
            -0.38,
            0.64,
            -0.88,
            -0.66,
            -0.22,
            -0.41,
            -0.96,
            0.66,
            -0.39,
            0.5,
            -0.25,
            -0.43,
            -0.69,
            0.29,
            -0.67,
            -0.19,
            -0.86,
            1,
            -0.57,
            -0.55,
            -0.12
           ],
           [
            -0.07,
            -0.56,
            -0.01,
            0.45,
            0.14,
            0.78,
            0.31,
            0.71,
            0.86,
            -0.06,
            0.56,
            0.97,
            0.7,
            0.2,
            0.58,
            0,
            0.81,
            0.24,
            0.7,
            0.72,
            0.92,
            -0.68,
            0.46,
            0.27,
            0.71,
            -0.57,
            1,
            0.62,
            -0.08
           ],
           [
            -0.14,
            -0.52,
            -0.09,
            0.8,
            0.44,
            0.43,
            0.72,
            0.37,
            0.58,
            -0.19,
            0.49,
            0.72,
            0.5,
            0.52,
            0.55,
            -0.43,
            0.74,
            -0.13,
            0.3,
            0.71,
            0.69,
            -0.08,
            0.8,
            0.67,
            0.43,
            -0.55,
            0.62,
            1,
            0.52
           ],
           [
            -0.37,
            -0.06,
            0.16,
            0.63,
            0.29,
            -0.29,
            0.66,
            -0.32,
            -0.03,
            0.05,
            0.11,
            0.04,
            0.18,
            0.58,
            0.1,
            -0.39,
            0.19,
            -0.24,
            -0.16,
            0.28,
            0.07,
            0.48,
            0.62,
            0.7,
            -0.21,
            -0.12,
            -0.08,
            0.52,
            1
           ]
          ]
         },
         "header": {
          "align": "center",
          "fill": {
           "color": "lightblue"
          },
          "font": {
           "color": "black",
           "size": 10
          },
          "height": 40,
          "values": [
           "Instruments",
           "USDCAD_Candlestick_1_Hour_BID_01_df",
           "UKGILT_df",
           "AUDUSD_Candlestick_1_Hour_BID_01_df",
           "BRENT_df",
           "DOLLAR_df",
           "XAUUSD_Candlestick_1_Hour_BID_01_df",
           "DIESEL_df",
           "COCOA_df",
           "BTCUSD_Candlestick_1_Hour_BID_01_df",
           "NZDUSD_Candlestick_1_Hour_BID_01_df",
           "SUGAR_df",
           "USA500_df",
           "USSC2000_df",
           "SOYBEAN_df",
           "USDJPY_Candlestick_1_Hour_BID_01_df",
           "EURUSD_Candlestick_1_Hour_BID_01_df",
           "ETHUSD_Candlestick_1_Hour_BID_01_df",
           "GBPUSD_Candlestick_1_Hour_BID_01_df",
           "XAGUSD_Candlestick_1_Hour_BID_01_df",
           "COPPER_df",
           "USA30_df",
           "USDCHF_Candlestick_1_Hour_BID_01_df",
           "LIGHT_df",
           "COTTON_df",
           "OJUICE_df",
           "USTBOND_df",
           "USATECH_df",
           "COFFEE_df",
           "GAS_df"
          ]
         },
         "type": "table"
        }
       ],
       "layout": {
        "height": 800,
        "margin": {
         "b": 10,
         "l": 10,
         "r": 10,
         "t": 20
        },
        "template": {
         "data": {
          "bar": [
           {
            "error_x": {
             "color": "#2a3f5f"
            },
            "error_y": {
             "color": "#2a3f5f"
            },
            "marker": {
             "line": {
              "color": "#E5ECF6",
              "width": 0.5
             },
             "pattern": {
              "fillmode": "overlay",
              "size": 10,
              "solidity": 0.2
             }
            },
            "type": "bar"
           }
          ],
          "barpolar": [
           {
            "marker": {
             "line": {
              "color": "#E5ECF6",
              "width": 0.5
             },
             "pattern": {
              "fillmode": "overlay",
              "size": 10,
              "solidity": 0.2
             }
            },
            "type": "barpolar"
           }
          ],
          "carpet": [
           {
            "aaxis": {
             "endlinecolor": "#2a3f5f",
             "gridcolor": "white",
             "linecolor": "white",
             "minorgridcolor": "white",
             "startlinecolor": "#2a3f5f"
            },
            "baxis": {
             "endlinecolor": "#2a3f5f",
             "gridcolor": "white",
             "linecolor": "white",
             "minorgridcolor": "white",
             "startlinecolor": "#2a3f5f"
            },
            "type": "carpet"
           }
          ],
          "choropleth": [
           {
            "colorbar": {
             "outlinewidth": 0,
             "ticks": ""
            },
            "type": "choropleth"
           }
          ],
          "contour": [
           {
            "colorbar": {
             "outlinewidth": 0,
             "ticks": ""
            },
            "colorscale": [
             [
              0,
              "#0d0887"
             ],
             [
              0.1111111111111111,
              "#46039f"
             ],
             [
              0.2222222222222222,
              "#7201a8"
             ],
             [
              0.3333333333333333,
              "#9c179e"
             ],
             [
              0.4444444444444444,
              "#bd3786"
             ],
             [
              0.5555555555555556,
              "#d8576b"
             ],
             [
              0.6666666666666666,
              "#ed7953"
             ],
             [
              0.7777777777777778,
              "#fb9f3a"
             ],
             [
              0.8888888888888888,
              "#fdca26"
             ],
             [
              1,
              "#f0f921"
             ]
            ],
            "type": "contour"
           }
          ],
          "contourcarpet": [
           {
            "colorbar": {
             "outlinewidth": 0,
             "ticks": ""
            },
            "type": "contourcarpet"
           }
          ],
          "heatmap": [
           {
            "colorbar": {
             "outlinewidth": 0,
             "ticks": ""
            },
            "colorscale": [
             [
              0,
              "#0d0887"
             ],
             [
              0.1111111111111111,
              "#46039f"
             ],
             [
              0.2222222222222222,
              "#7201a8"
             ],
             [
              0.3333333333333333,
              "#9c179e"
             ],
             [
              0.4444444444444444,
              "#bd3786"
             ],
             [
              0.5555555555555556,
              "#d8576b"
             ],
             [
              0.6666666666666666,
              "#ed7953"
             ],
             [
              0.7777777777777778,
              "#fb9f3a"
             ],
             [
              0.8888888888888888,
              "#fdca26"
             ],
             [
              1,
              "#f0f921"
             ]
            ],
            "type": "heatmap"
           }
          ],
          "heatmapgl": [
           {
            "colorbar": {
             "outlinewidth": 0,
             "ticks": ""
            },
            "colorscale": [
             [
              0,
              "#0d0887"
             ],
             [
              0.1111111111111111,
              "#46039f"
             ],
             [
              0.2222222222222222,
              "#7201a8"
             ],
             [
              0.3333333333333333,
              "#9c179e"
             ],
             [
              0.4444444444444444,
              "#bd3786"
             ],
             [
              0.5555555555555556,
              "#d8576b"
             ],
             [
              0.6666666666666666,
              "#ed7953"
             ],
             [
              0.7777777777777778,
              "#fb9f3a"
             ],
             [
              0.8888888888888888,
              "#fdca26"
             ],
             [
              1,
              "#f0f921"
             ]
            ],
            "type": "heatmapgl"
           }
          ],
          "histogram": [
           {
            "marker": {
             "pattern": {
              "fillmode": "overlay",
              "size": 10,
              "solidity": 0.2
             }
            },
            "type": "histogram"
           }
          ],
          "histogram2d": [
           {
            "colorbar": {
             "outlinewidth": 0,
             "ticks": ""
            },
            "colorscale": [
             [
              0,
              "#0d0887"
             ],
             [
              0.1111111111111111,
              "#46039f"
             ],
             [
              0.2222222222222222,
              "#7201a8"
             ],
             [
              0.3333333333333333,
              "#9c179e"
             ],
             [
              0.4444444444444444,
              "#bd3786"
             ],
             [
              0.5555555555555556,
              "#d8576b"
             ],
             [
              0.6666666666666666,
              "#ed7953"
             ],
             [
              0.7777777777777778,
              "#fb9f3a"
             ],
             [
              0.8888888888888888,
              "#fdca26"
             ],
             [
              1,
              "#f0f921"
             ]
            ],
            "type": "histogram2d"
           }
          ],
          "histogram2dcontour": [
           {
            "colorbar": {
             "outlinewidth": 0,
             "ticks": ""
            },
            "colorscale": [
             [
              0,
              "#0d0887"
             ],
             [
              0.1111111111111111,
              "#46039f"
             ],
             [
              0.2222222222222222,
              "#7201a8"
             ],
             [
              0.3333333333333333,
              "#9c179e"
             ],
             [
              0.4444444444444444,
              "#bd3786"
             ],
             [
              0.5555555555555556,
              "#d8576b"
             ],
             [
              0.6666666666666666,
              "#ed7953"
             ],
             [
              0.7777777777777778,
              "#fb9f3a"
             ],
             [
              0.8888888888888888,
              "#fdca26"
             ],
             [
              1,
              "#f0f921"
             ]
            ],
            "type": "histogram2dcontour"
           }
          ],
          "mesh3d": [
           {
            "colorbar": {
             "outlinewidth": 0,
             "ticks": ""
            },
            "type": "mesh3d"
           }
          ],
          "parcoords": [
           {
            "line": {
             "colorbar": {
              "outlinewidth": 0,
              "ticks": ""
             }
            },
            "type": "parcoords"
           }
          ],
          "pie": [
           {
            "automargin": true,
            "type": "pie"
           }
          ],
          "scatter": [
           {
            "fillpattern": {
             "fillmode": "overlay",
             "size": 10,
             "solidity": 0.2
            },
            "type": "scatter"
           }
          ],
          "scatter3d": [
           {
            "line": {
             "colorbar": {
              "outlinewidth": 0,
              "ticks": ""
             }
            },
            "marker": {
             "colorbar": {
              "outlinewidth": 0,
              "ticks": ""
             }
            },
            "type": "scatter3d"
           }
          ],
          "scattercarpet": [
           {
            "marker": {
             "colorbar": {
              "outlinewidth": 0,
              "ticks": ""
             }
            },
            "type": "scattercarpet"
           }
          ],
          "scattergeo": [
           {
            "marker": {
             "colorbar": {
              "outlinewidth": 0,
              "ticks": ""
             }
            },
            "type": "scattergeo"
           }
          ],
          "scattergl": [
           {
            "marker": {
             "colorbar": {
              "outlinewidth": 0,
              "ticks": ""
             }
            },
            "type": "scattergl"
           }
          ],
          "scattermapbox": [
           {
            "marker": {
             "colorbar": {
              "outlinewidth": 0,
              "ticks": ""
             }
            },
            "type": "scattermapbox"
           }
          ],
          "scatterpolar": [
           {
            "marker": {
             "colorbar": {
              "outlinewidth": 0,
              "ticks": ""
             }
            },
            "type": "scatterpolar"
           }
          ],
          "scatterpolargl": [
           {
            "marker": {
             "colorbar": {
              "outlinewidth": 0,
              "ticks": ""
             }
            },
            "type": "scatterpolargl"
           }
          ],
          "scatterternary": [
           {
            "marker": {
             "colorbar": {
              "outlinewidth": 0,
              "ticks": ""
             }
            },
            "type": "scatterternary"
           }
          ],
          "surface": [
           {
            "colorbar": {
             "outlinewidth": 0,
             "ticks": ""
            },
            "colorscale": [
             [
              0,
              "#0d0887"
             ],
             [
              0.1111111111111111,
              "#46039f"
             ],
             [
              0.2222222222222222,
              "#7201a8"
             ],
             [
              0.3333333333333333,
              "#9c179e"
             ],
             [
              0.4444444444444444,
              "#bd3786"
             ],
             [
              0.5555555555555556,
              "#d8576b"
             ],
             [
              0.6666666666666666,
              "#ed7953"
             ],
             [
              0.7777777777777778,
              "#fb9f3a"
             ],
             [
              0.8888888888888888,
              "#fdca26"
             ],
             [
              1,
              "#f0f921"
             ]
            ],
            "type": "surface"
           }
          ],
          "table": [
           {
            "cells": {
             "fill": {
              "color": "#EBF0F8"
             },
             "line": {
              "color": "white"
             }
            },
            "header": {
             "fill": {
              "color": "#C8D4E3"
             },
             "line": {
              "color": "white"
             }
            },
            "type": "table"
           }
          ]
         },
         "layout": {
          "annotationdefaults": {
           "arrowcolor": "#2a3f5f",
           "arrowhead": 0,
           "arrowwidth": 1
          },
          "autotypenumbers": "strict",
          "coloraxis": {
           "colorbar": {
            "outlinewidth": 0,
            "ticks": ""
           }
          },
          "colorscale": {
           "diverging": [
            [
             0,
             "#8e0152"
            ],
            [
             0.1,
             "#c51b7d"
            ],
            [
             0.2,
             "#de77ae"
            ],
            [
             0.3,
             "#f1b6da"
            ],
            [
             0.4,
             "#fde0ef"
            ],
            [
             0.5,
             "#f7f7f7"
            ],
            [
             0.6,
             "#e6f5d0"
            ],
            [
             0.7,
             "#b8e186"
            ],
            [
             0.8,
             "#7fbc41"
            ],
            [
             0.9,
             "#4d9221"
            ],
            [
             1,
             "#276419"
            ]
           ],
           "sequential": [
            [
             0,
             "#0d0887"
            ],
            [
             0.1111111111111111,
             "#46039f"
            ],
            [
             0.2222222222222222,
             "#7201a8"
            ],
            [
             0.3333333333333333,
             "#9c179e"
            ],
            [
             0.4444444444444444,
             "#bd3786"
            ],
            [
             0.5555555555555556,
             "#d8576b"
            ],
            [
             0.6666666666666666,
             "#ed7953"
            ],
            [
             0.7777777777777778,
             "#fb9f3a"
            ],
            [
             0.8888888888888888,
             "#fdca26"
            ],
            [
             1,
             "#f0f921"
            ]
           ],
           "sequentialminus": [
            [
             0,
             "#0d0887"
            ],
            [
             0.1111111111111111,
             "#46039f"
            ],
            [
             0.2222222222222222,
             "#7201a8"
            ],
            [
             0.3333333333333333,
             "#9c179e"
            ],
            [
             0.4444444444444444,
             "#bd3786"
            ],
            [
             0.5555555555555556,
             "#d8576b"
            ],
            [
             0.6666666666666666,
             "#ed7953"
            ],
            [
             0.7777777777777778,
             "#fb9f3a"
            ],
            [
             0.8888888888888888,
             "#fdca26"
            ],
            [
             1,
             "#f0f921"
            ]
           ]
          },
          "colorway": [
           "#636efa",
           "#EF553B",
           "#00cc96",
           "#ab63fa",
           "#FFA15A",
           "#19d3f3",
           "#FF6692",
           "#B6E880",
           "#FF97FF",
           "#FECB52"
          ],
          "font": {
           "color": "#2a3f5f"
          },
          "geo": {
           "bgcolor": "white",
           "lakecolor": "white",
           "landcolor": "#E5ECF6",
           "showlakes": true,
           "showland": true,
           "subunitcolor": "white"
          },
          "hoverlabel": {
           "align": "left"
          },
          "hovermode": "closest",
          "mapbox": {
           "style": "light"
          },
          "paper_bgcolor": "white",
          "plot_bgcolor": "#E5ECF6",
          "polar": {
           "angularaxis": {
            "gridcolor": "white",
            "linecolor": "white",
            "ticks": ""
           },
           "bgcolor": "#E5ECF6",
           "radialaxis": {
            "gridcolor": "white",
            "linecolor": "white",
            "ticks": ""
           }
          },
          "scene": {
           "xaxis": {
            "backgroundcolor": "#E5ECF6",
            "gridcolor": "white",
            "gridwidth": 2,
            "linecolor": "white",
            "showbackground": true,
            "ticks": "",
            "zerolinecolor": "white"
           },
           "yaxis": {
            "backgroundcolor": "#E5ECF6",
            "gridcolor": "white",
            "gridwidth": 2,
            "linecolor": "white",
            "showbackground": true,
            "ticks": "",
            "zerolinecolor": "white"
           },
           "zaxis": {
            "backgroundcolor": "#E5ECF6",
            "gridcolor": "white",
            "gridwidth": 2,
            "linecolor": "white",
            "showbackground": true,
            "ticks": "",
            "zerolinecolor": "white"
           }
          },
          "shapedefaults": {
           "line": {
            "color": "#2a3f5f"
           }
          },
          "ternary": {
           "aaxis": {
            "gridcolor": "white",
            "linecolor": "white",
            "ticks": ""
           },
           "baxis": {
            "gridcolor": "white",
            "linecolor": "white",
            "ticks": ""
           },
           "bgcolor": "#E5ECF6",
           "caxis": {
            "gridcolor": "white",
            "linecolor": "white",
            "ticks": ""
           }
          },
          "title": {
           "x": 0.05
          },
          "xaxis": {
           "automargin": true,
           "gridcolor": "white",
           "linecolor": "white",
           "ticks": "",
           "title": {
            "standoff": 15
           },
           "zerolinecolor": "white",
           "zerolinewidth": 2
          },
          "yaxis": {
           "automargin": true,
           "gridcolor": "white",
           "linecolor": "white",
           "ticks": "",
           "title": {
            "standoff": 15
           },
           "zerolinecolor": "white",
           "zerolinewidth": 2
          }
         }
        },
        "title": {
         "text": "Pairwise Correlation Matrix in Table Format",
         "x": 0.5
        },
        "width": 1200
       }
      }
     },
     "metadata": {},
     "output_type": "display_data"
    }
   ],
   "source": [
    "import plotly.graph_objects as go\n",
    "\n",
    "# Create headers and rows for the table\n",
    "header_values = [\"Instruments\"] + list(correlation_matrix.columns)\n",
    "row_values = [correlation_matrix.index] + [correlation_matrix[col].round(2).tolist() for col in correlation_matrix.columns]\n",
    "\n",
    "# Create the table with adjustments\n",
    "fig = go.Figure(data=[go.Table(\n",
    "    header=dict(values=header_values,\n",
    "                fill_color='lightblue',\n",
    "                align='center',\n",
    "                font=dict(size=10, color='black'),\n",
    "                height=40),  # Set header height for better readability\n",
    "    cells=dict(values=row_values,\n",
    "               fill_color='lightgray',\n",
    "               align='center',\n",
    "               font=dict(size=10),\n",
    "               height=30))  # Set cell height for more space\n",
    "])\n",
    "\n",
    "# Update layout for more space and better readability\n",
    "fig.update_layout(\n",
    "    title=\"Pairwise Correlation Matrix in Table Format\",\n",
    "    title_x=0.5,\n",
    "    width=1200,  # Increase width to accommodate more columns\n",
    "    height=800,  # Increase height for better row spacing\n",
    "    margin=dict(l=10, r=10, t=20, b=10)\n",
    ")\n",
    "\n",
    "# Show the plot\n",
    "fig.show()\n"
   ]
  },
  {
   "cell_type": "markdown",
   "metadata": {},
   "source": [
    "<h1> Cointegration Analysis"
   ]
  },
  {
   "cell_type": "code",
   "execution_count": 10,
   "metadata": {},
   "outputs": [
    {
     "data": {
      "text/plain": [
       "'\\ninstruments = list(correlation_matrix.columns)\\n\\n# Initialize an empty list to store the results\\ncointegration_results = []\\n\\n# Loop through all pairs of instruments\\nfor i in range(len(instruments)):\\n    for j in range(i + 1, len(instruments)):\\n        # Skip the pair AUDUSD vs NZDUSD\\n        if (instruments[i] == \"AUDUSD\" and instruments[j] == \"NZDUSD\") or (instruments[i] == \"NZDUSD\" and instruments[j] == \"AUDUSD\"):\\n            continue\\n        \\n        # Perform the Engle-Granger Cointegration Test\\n        score, p_value, _ = coint(close_prices_df[instruments[i]], close_prices_df[instruments[j]])\\n        \\n        # Store the result if the p-value is less than 0.05\\n        cointegration_results.append((instruments[i], instruments[j], p_value))\\n\\n# Sort the pairs by p-value (lowest p-value means stronger cointegration)\\ncointegration_results_sorted = sorted(cointegration_results, key=lambda x: x[2])\\n\\n# Display the top 2 most cointegrated pairs (excluding AUDUSD vs NZDUSD)\\nprint(\"Top 2 Most Cointegrated Pairs (excluding AUDUSD vs NZDUSD):\")\\nfor pair in cointegration_results_sorted[:2]:\\n    print(f\"{pair[0]} vs {pair[1]}: p-value = {pair[2]:.4f}\")\\n    '"
      ]
     },
     "execution_count": 10,
     "metadata": {},
     "output_type": "execute_result"
    }
   ],
   "source": [
    "'''\n",
    "instruments = list(correlation_matrix.columns)\n",
    "\n",
    "# Initialize an empty list to store the results\n",
    "cointegration_results = []\n",
    "\n",
    "# Loop through all pairs of instruments\n",
    "for i in range(len(instruments)):\n",
    "    for j in range(i + 1, len(instruments)):\n",
    "        # Skip the pair AUDUSD vs NZDUSD\n",
    "        if (instruments[i] == \"AUDUSD\" and instruments[j] == \"NZDUSD\") or (instruments[i] == \"NZDUSD\" and instruments[j] == \"AUDUSD\"):\n",
    "            continue\n",
    "        \n",
    "        # Perform the Engle-Granger Cointegration Test\n",
    "        score, p_value, _ = coint(close_prices_df[instruments[i]], close_prices_df[instruments[j]])\n",
    "        \n",
    "        # Store the result if the p-value is less than 0.05\n",
    "        cointegration_results.append((instruments[i], instruments[j], p_value))\n",
    "\n",
    "# Sort the pairs by p-value (lowest p-value means stronger cointegration)\n",
    "cointegration_results_sorted = sorted(cointegration_results, key=lambda x: x[2])\n",
    "\n",
    "# Display the top 2 most cointegrated pairs (excluding AUDUSD vs NZDUSD)\n",
    "print(\"Top 2 Most Cointegrated Pairs (excluding AUDUSD vs NZDUSD):\")\n",
    "for pair in cointegration_results_sorted[:2]:\n",
    "    print(f\"{pair[0]} vs {pair[1]}: p-value = {pair[2]:.4f}\")\n",
    "    '''\n"
   ]
  },
  {
   "cell_type": "code",
   "execution_count": 11,
   "metadata": {},
   "outputs": [
    {
     "name": "stdout",
     "output_type": "stream",
     "text": [
      "Correlation between AUDUSD and NZDUSD: 0.9575\n"
     ]
    }
   ],
   "source": [
    "# Calculate the correlation between AUDUSD and NZDUSD\n",
    "correlation_audusd_nzdusd = close_prices_df['AUDUSD_Candlestick_1_Hour_BID_01_df'].corr(close_prices_df['NZDUSD_Candlestick_1_Hour_BID_01_df'])\n",
    "\n",
    "# Print the correlation value\n",
    "print(f\"Correlation between AUDUSD and NZDUSD: {correlation_audusd_nzdusd:.4f}\")\n"
   ]
  },
  {
   "cell_type": "code",
   "execution_count": 12,
   "metadata": {},
   "outputs": [
    {
     "name": "stdout",
     "output_type": "stream",
     "text": [
      "Filtered Correlations between 0.7 and 0.9575 (excluding AUDUSD vs NZDUSD) in Descending Order:\n",
      "AUDUSD_Candlestick_1_Hour_BID_01_df vs NZDUSD_Candlestick_1_Hour_BID_01_df: correlation = 0.9575\n",
      "UKGILT_df vs USDJPY_Candlestick_1_Hour_BID_01_df: correlation = -0.9550\n",
      "DIESEL_df vs LIGHT_df: correlation = 0.9457\n",
      "USA30_df vs USATECH_df: correlation = 0.9232\n",
      "USDJPY_Candlestick_1_Hour_BID_01_df vs OJUICE_df: correlation = 0.9003\n",
      "EURUSD_Candlestick_1_Hour_BID_01_df vs GBPUSD_Candlestick_1_Hour_BID_01_df: correlation = 0.8969\n",
      "BTCUSD_Candlestick_1_Hour_BID_01_df vs ETHUSD_Candlestick_1_Hour_BID_01_df: correlation = 0.8959\n",
      "DOLLAR_df vs NZDUSD_Candlestick_1_Hour_BID_01_df: correlation = -0.8956\n",
      "UKGILT_df vs SUGAR_df: correlation = -0.8929\n",
      "USDCAD_Candlestick_1_Hour_BID_01_df vs AUDUSD_Candlestick_1_Hour_BID_01_df: correlation = -0.8917\n",
      "DOLLAR_df vs GBPUSD_Candlestick_1_Hour_BID_01_df: correlation = -0.8901\n",
      "SUGAR_df vs USTBOND_df: correlation = -0.8779\n",
      "BTCUSD_Candlestick_1_Hour_BID_01_df vs USATECH_df: correlation = 0.8642\n",
      "UKGILT_df vs OJUICE_df: correlation = -0.8638\n",
      "USDCAD_Candlestick_1_Hour_BID_01_df vs NZDUSD_Candlestick_1_Hour_BID_01_df: correlation = -0.8605\n",
      "NZDUSD_Candlestick_1_Hour_BID_01_df vs GBPUSD_Candlestick_1_Hour_BID_01_df: correlation = 0.8599\n",
      "OJUICE_df vs USTBOND_df: correlation = -0.8561\n",
      "BTCUSD_Candlestick_1_Hour_BID_01_df vs USA500_df: correlation = 0.8548\n",
      "DOLLAR_df vs USDJPY_Candlestick_1_Hour_BID_01_df: correlation = 0.8548\n",
      "ETHUSD_Candlestick_1_Hour_BID_01_df vs COPPER_df: correlation = 0.8506\n",
      "USA500_df vs ETHUSD_Candlestick_1_Hour_BID_01_df: correlation = 0.8464\n",
      "XAUUSD_Candlestick_1_Hour_BID_01_df vs COCOA_df: correlation = 0.8453\n",
      "NZDUSD_Candlestick_1_Hour_BID_01_df vs EURUSD_Candlestick_1_Hour_BID_01_df: correlation = 0.8445\n",
      "USSC2000_df vs COPPER_df: correlation = 0.8385\n",
      "ETHUSD_Candlestick_1_Hour_BID_01_df vs USA30_df: correlation = 0.8282\n",
      "BTCUSD_Candlestick_1_Hour_BID_01_df vs USA30_df: correlation = 0.8254\n",
      "COPPER_df vs USA30_df: correlation = 0.8198\n",
      "ETHUSD_Candlestick_1_Hour_BID_01_df vs USATECH_df: correlation = 0.8149\n",
      "SUGAR_df vs USDJPY_Candlestick_1_Hour_BID_01_df: correlation = 0.8071\n",
      "AUDUSD_Candlestick_1_Hour_BID_01_df vs DOLLAR_df: correlation = -0.8039\n",
      "XAUUSD_Candlestick_1_Hour_BID_01_df vs OJUICE_df: correlation = 0.8002\n",
      "BTCUSD_Candlestick_1_Hour_BID_01_df vs USSC2000_df: correlation = 0.8002\n",
      "LIGHT_df vs COFFEE_df: correlation = 0.7989\n",
      "BRENT_df vs COFFEE_df: correlation = 0.7981\n",
      "USSC2000_df vs ETHUSD_Candlestick_1_Hour_BID_01_df: correlation = 0.7944\n",
      "COCOA_df vs OJUICE_df: correlation = 0.7933\n",
      "USA500_df vs COPPER_df: correlation = 0.7926\n",
      "UKGILT_df vs DOLLAR_df: correlation = -0.7873\n",
      "AUDUSD_Candlestick_1_Hour_BID_01_df vs GBPUSD_Candlestick_1_Hour_BID_01_df: correlation = 0.7855\n",
      "DOLLAR_df vs USTBOND_df: correlation = -0.7829\n",
      "XAUUSD_Candlestick_1_Hour_BID_01_df vs USATECH_df: correlation = 0.7772\n",
      "BTCUSD_Candlestick_1_Hour_BID_01_df vs COPPER_df: correlation = 0.7765\n",
      "USSC2000_df vs USA30_df: correlation = 0.7752\n",
      "LIGHT_df vs COTTON_df: correlation = 0.7749\n",
      "AUDUSD_Candlestick_1_Hour_BID_01_df vs EURUSD_Candlestick_1_Hour_BID_01_df: correlation = 0.7670\n",
      "SOYBEAN_df vs LIGHT_df: correlation = 0.7631\n",
      "BRENT_df vs SOYBEAN_df: correlation = 0.7599\n",
      "NZDUSD_Candlestick_1_Hour_BID_01_df vs USDJPY_Candlestick_1_Hour_BID_01_df: correlation = -0.7596\n",
      "BRENT_df vs COTTON_df: correlation = 0.7553\n",
      "XAUUSD_Candlestick_1_Hour_BID_01_df vs USA500_df: correlation = 0.7479\n",
      "ETHUSD_Candlestick_1_Hour_BID_01_df vs COFFEE_df: correlation = 0.7426\n",
      "SUGAR_df vs OJUICE_df: correlation = 0.7352\n",
      "USDJPY_Candlestick_1_Hour_BID_01_df vs EURUSD_Candlestick_1_Hour_BID_01_df: correlation = -0.7325\n",
      "USDCAD_Candlestick_1_Hour_BID_01_df vs GBPUSD_Candlestick_1_Hour_BID_01_df: correlation = -0.7324\n",
      "SOYBEAN_df vs COTTON_df: correlation = 0.7319\n",
      "USA500_df vs USSC2000_df: correlation = 0.7315\n",
      "DIESEL_df vs USTBOND_df: correlation = -0.7300\n",
      "XAUUSD_Candlestick_1_Hour_BID_01_df vs XAGUSD_Candlestick_1_Hour_BID_01_df: correlation = 0.7277\n",
      "USA500_df vs COFFEE_df: correlation = 0.7247\n",
      "USA500_df vs OJUICE_df: correlation = 0.7211\n",
      "DIESEL_df vs COFFEE_df: correlation = 0.7208\n",
      "COPPER_df vs USATECH_df: correlation = 0.7197\n",
      "COCOA_df vs USATECH_df: correlation = 0.7144\n",
      "OJUICE_df vs USATECH_df: correlation = 0.7144\n",
      "COPPER_df vs COFFEE_df: correlation = 0.7136\n",
      "COPPER_df vs LIGHT_df: correlation = 0.7057\n",
      "DIESEL_df vs SOYBEAN_df: correlation = 0.7032\n"
     ]
    }
   ],
   "source": [
    "# Set the correlation threshold range\n",
    "lower_threshold = 0.7\n",
    "upper_threshold = 0.9575\n",
    "\n",
    "# List of all instruments\n",
    "instruments = list(correlation_matrix.columns)\n",
    "\n",
    "# Initialize an empty list to store the filtered results\n",
    "filtered_correlations = []\n",
    "\n",
    "# Loop through all pairs of instruments and apply the filter\n",
    "for i in range(len(instruments)):\n",
    "    for j in range(i + 1, len(instruments)):\n",
    "        # Skip the pair AUDUSD vs NZDUSD\n",
    "        if (instruments[i] == \"AUDUSD\" and instruments[j] == \"NZDUSD\") or (instruments[i] == \"NZDUSD\" and instruments[j] == \"AUDUSD\"):\n",
    "            continue\n",
    "        \n",
    "        # Get the correlation value between the two instruments\n",
    "        correlation_value = correlation_matrix.iloc[i, j]\n",
    "        \n",
    "        # Apply the filter: only keep correlations between 0.7 and 0.9575\n",
    "        if lower_threshold <= abs(correlation_value) <= upper_threshold:\n",
    "            filtered_correlations.append((instruments[i], instruments[j], correlation_value))\n",
    "\n",
    "# Sort the filtered correlations in descending order by the correlation value\n",
    "filtered_correlations_sorted = sorted(filtered_correlations, key=lambda x: abs(x[2]), reverse=True)\n",
    "\n",
    "# Display the filtered results\n",
    "print(\"Filtered Correlations between 0.7 and 0.9575 (excluding AUDUSD vs NZDUSD) in Descending Order:\")\n",
    "for pair in filtered_correlations_sorted:\n",
    "    print(f\"{pair[0]} vs {pair[1]}: correlation = {pair[2]:.4f}\")\n"
   ]
  },
  {
   "cell_type": "code",
   "execution_count": 13,
   "metadata": {},
   "outputs": [
    {
     "name": "stdout",
     "output_type": "stream",
     "text": [
      "The next two pairs after AUDUSD vs NZDUSD based on correlation:\n",
      "UKGILT_df vs USDJPY_Candlestick_1_Hour_BID_01_df: correlation = -0.9550\n",
      "DIESEL_df vs LIGHT_df: correlation = 0.9457\n"
     ]
    }
   ],
   "source": [
    "# Set the correlation threshold range\n",
    "lower_threshold = 0.7\n",
    "upper_threshold = 0.9575\n",
    "\n",
    "# List of all instruments\n",
    "instruments = list(correlation_matrix.columns)\n",
    "\n",
    "# Initialize an empty list to store the filtered results\n",
    "filtered_correlations = []\n",
    "\n",
    "# Loop through all pairs of instruments and apply the filter\n",
    "for i in range(len(instruments)):\n",
    "    for j in range(i + 1, len(instruments)):\n",
    "        # Skip the pair AUDUSD vs NZDUSD\n",
    "        if (instruments[i] == \"AUDUSD_Candlestick_1_Hour_BID_01_df\" and instruments[j] == \"NZDUSD_Candlestick_1_Hour_BID_01_df\") or (instruments[i] == \"NZDUSD_Candlestick_1_Hour_BID_01_df\" and instruments[j] == \"AUDUSD_Candlestick_1_Hour_BID_01_df\"):\n",
    "            continue\n",
    "        \n",
    "        # Get the correlation value between the two instruments\n",
    "        correlation_value = correlation_matrix.iloc[i, j]\n",
    "        \n",
    "        # Apply the filter: only keep correlations between 0.7 and 0.9575\n",
    "        if lower_threshold <= abs(correlation_value) <= upper_threshold:\n",
    "            filtered_correlations.append((instruments[i], instruments[j], correlation_value))\n",
    "\n",
    "# Sort the filtered correlations in descending order by the correlation value\n",
    "filtered_correlations_sorted = sorted(filtered_correlations, key=lambda x: abs(x[2]), reverse=True)\n",
    "\n",
    "# Display the next two pairs after AUDUSD vs NZDUSD\n",
    "print(\"The next two pairs after AUDUSD vs NZDUSD based on correlation:\")\n",
    "for pair in filtered_correlations_sorted[:2]:\n",
    "    print(f\"{pair[0]} vs {pair[1]}: correlation = {pair[2]:.4f}\")\n"
   ]
  },
  {
   "cell_type": "code",
   "execution_count": 14,
   "metadata": {},
   "outputs": [
    {
     "name": "stdout",
     "output_type": "stream",
     "text": [
      "Cointegration test result for UKGILT_df vs USDJPY_Candlestick_1_Hour_BID_01_df:\n",
      "p-value = 0.1208\n",
      "The pair is not likely cointegrated (p >= 0.05).\n",
      "--------------------------------------------------\n",
      "Cointegration test result for DIESEL_df vs LIGHT_df:\n",
      "p-value = 0.0584\n",
      "The pair is not likely cointegrated (p >= 0.05).\n",
      "--------------------------------------------------\n"
     ]
    }
   ],
   "source": [
    "\n",
    "# Define the top 2 pairs\n",
    "top_pairs = [\n",
    "    ('UKGILT_df', 'USDJPY_Candlestick_1_Hour_BID_01_df'),\n",
    "    ('DIESEL_df', 'LIGHT_df')\n",
    "]\n",
    "\n",
    "# Perform the Engle-Granger Cointegration Test for each pair\n",
    "for pair in top_pairs:\n",
    "    instrument1, instrument2 = pair\n",
    "    \n",
    "    # Perform the cointegration test\n",
    "    score, p_value, _ = coint(close_prices_df[instrument1], close_prices_df[instrument2])\n",
    "    \n",
    "    # Print the results\n",
    "    print(f\"Cointegration test result for {instrument1} vs {instrument2}:\")\n",
    "    print(f\"p-value = {p_value:.4f}\")\n",
    "    if p_value < 0.05:\n",
    "        print(\"The pair is likely cointegrated (p < 0.05).\")\n",
    "    else:\n",
    "        print(\"The pair is not likely cointegrated (p >= 0.05).\")\n",
    "    print(\"-\" * 50)\n"
   ]
  },
  {
   "cell_type": "code",
   "execution_count": 15,
   "metadata": {},
   "outputs": [
    {
     "data": {
      "text/plain": [
       "'\\nimport statsmodels.api as sm\\nfrom statsmodels.tsa.stattools import coint\\nfrom multiprocessing import Pool\\n\\n# Set a correlation threshold to filter pairs before running the cointegration test\\ncorrelation_threshold = 0.8\\n\\n# List of all instruments\\ninstruments = list(close_prices_df.columns)\\n\\n# Function to perform Engle-Granger Cointegration Test on a pair\\ndef cointegration_test(pair):\\n    instrument1, instrument2 = pair\\n    score, p_value, _ = coint(close_prices_df[instrument1], close_prices_df[instrument2])\\n    return (instrument1, instrument2, p_value)\\n\\n# Pre-filter pairs based on correlation (no exclusion of AUDUSD vs NZDUSD yet)\\nfiltered_pairs = []\\nfor i in range(len(instruments)):\\n    for j in range(i + 1, len(instruments)):\\n        # Get the correlation value between the two instruments\\n        correlation_value = correlation_matrix.iloc[i, j]\\n        \\n        # Only include pairs with correlation above the threshold\\n        if abs(correlation_value) >= correlation_threshold:\\n            filtered_pairs.append((instruments[i], instruments[j]))\\n\\n# Use multiprocessing to run the cointegration tests in parallel\\nwith Pool() as pool:\\n    results = pool.map(cointegration_test, filtered_pairs)\\n\\n# Sort by p-value to find the top cointegrated pairs\\ncointegration_results_sorted = sorted(results, key=lambda x: x[2])\\n\\n# Display the top 10 most cointegrated pairs\\nprint(\"Top 10 Most Cointegrated Pairs (including AUDUSD vs NZDUSD):\")\\nfor pair in cointegration_results_sorted[:10]:\\n    print(f\"{pair[0]} vs {pair[1]}: p-value = {pair[2]:.4f}\")\\n\\n'"
      ]
     },
     "execution_count": 15,
     "metadata": {},
     "output_type": "execute_result"
    }
   ],
   "source": [
    "'''\n",
    "import statsmodels.api as sm\n",
    "from statsmodels.tsa.stattools import coint\n",
    "from multiprocessing import Pool\n",
    "\n",
    "# Set a correlation threshold to filter pairs before running the cointegration test\n",
    "correlation_threshold = 0.8\n",
    "\n",
    "# List of all instruments\n",
    "instruments = list(close_prices_df.columns)\n",
    "\n",
    "# Function to perform Engle-Granger Cointegration Test on a pair\n",
    "def cointegration_test(pair):\n",
    "    instrument1, instrument2 = pair\n",
    "    score, p_value, _ = coint(close_prices_df[instrument1], close_prices_df[instrument2])\n",
    "    return (instrument1, instrument2, p_value)\n",
    "\n",
    "# Pre-filter pairs based on correlation (no exclusion of AUDUSD vs NZDUSD yet)\n",
    "filtered_pairs = []\n",
    "for i in range(len(instruments)):\n",
    "    for j in range(i + 1, len(instruments)):\n",
    "        # Get the correlation value between the two instruments\n",
    "        correlation_value = correlation_matrix.iloc[i, j]\n",
    "        \n",
    "        # Only include pairs with correlation above the threshold\n",
    "        if abs(correlation_value) >= correlation_threshold:\n",
    "            filtered_pairs.append((instruments[i], instruments[j]))\n",
    "\n",
    "# Use multiprocessing to run the cointegration tests in parallel\n",
    "with Pool() as pool:\n",
    "    results = pool.map(cointegration_test, filtered_pairs)\n",
    "\n",
    "# Sort by p-value to find the top cointegrated pairs\n",
    "cointegration_results_sorted = sorted(results, key=lambda x: x[2])\n",
    "\n",
    "# Display the top 10 most cointegrated pairs\n",
    "print(\"Top 10 Most Cointegrated Pairs (including AUDUSD vs NZDUSD):\")\n",
    "for pair in cointegration_results_sorted[:10]:\n",
    "    print(f\"{pair[0]} vs {pair[1]}: p-value = {pair[2]:.4f}\")\n",
    "\n",
    "'''"
   ]
  },
  {
   "cell_type": "code",
   "execution_count": 16,
   "metadata": {},
   "outputs": [
    {
     "data": {
      "text/plain": [
       "'\\n\\nimport statsmodels.api as sm\\nfrom statsmodels.tsa.stattools import coint\\nfrom concurrent.futures import ProcessPoolExecutor\\n\\n# Set a correlation threshold to filter pairs before running the cointegration test\\ncorrelation_threshold = 0.8\\n\\n# List of all instruments\\ninstruments = list(close_prices_df.columns)\\n\\n# Function to perform Engle-Granger Cointegration Test on a pair\\ndef cointegration_test(pair):\\n    instrument1, instrument2 = pair\\n    score, p_value, _ = coint(close_prices_df[instrument1], close_prices_df[instrument2])\\n    return (instrument1, instrument2, p_value)\\n\\n# Pre-filter pairs based on correlation (no exclusion of AUDUSD vs NZDUSD yet)\\nfiltered_pairs = []\\nfor i in range(len(instruments)):\\n    for j in range(i + 1, len(instruments)):\\n        # Get the correlation value between the two instruments\\n        correlation_value = correlation_matrix.iloc[i, j]\\n        \\n        # Only include pairs with correlation above the threshold\\n        if abs(correlation_value) >= correlation_threshold:\\n            filtered_pairs.append((instruments[i], instruments[j]))\\n\\n# Use concurrent.futures to run the cointegration tests in parallel\\nwith ProcessPoolExecutor() as executor:\\n    results = list(executor.map(cointegration_test, filtered_pairs))\\n\\n# Sort by p-value to find the top cointegrated pairs\\ncointegration_results_sorted = sorted(results, key=lambda x: x[2])\\n\\n# Display the top 10 most cointegrated pairs\\nprint(\"Top 10 Most Cointegrated Pairs (including AUDUSD vs NZDUSD):\")\\nfor pair in cointegration_results_sorted[:10]:\\n    print(f\"{pair[0]} vs {pair[1]}: p-value = {pair[2]:.4f}\")\\n'"
      ]
     },
     "execution_count": 16,
     "metadata": {},
     "output_type": "execute_result"
    }
   ],
   "source": [
    "'''\n",
    "\n",
    "import statsmodels.api as sm\n",
    "from statsmodels.tsa.stattools import coint\n",
    "from concurrent.futures import ProcessPoolExecutor\n",
    "\n",
    "# Set a correlation threshold to filter pairs before running the cointegration test\n",
    "correlation_threshold = 0.8\n",
    "\n",
    "# List of all instruments\n",
    "instruments = list(close_prices_df.columns)\n",
    "\n",
    "# Function to perform Engle-Granger Cointegration Test on a pair\n",
    "def cointegration_test(pair):\n",
    "    instrument1, instrument2 = pair\n",
    "    score, p_value, _ = coint(close_prices_df[instrument1], close_prices_df[instrument2])\n",
    "    return (instrument1, instrument2, p_value)\n",
    "\n",
    "# Pre-filter pairs based on correlation (no exclusion of AUDUSD vs NZDUSD yet)\n",
    "filtered_pairs = []\n",
    "for i in range(len(instruments)):\n",
    "    for j in range(i + 1, len(instruments)):\n",
    "        # Get the correlation value between the two instruments\n",
    "        correlation_value = correlation_matrix.iloc[i, j]\n",
    "        \n",
    "        # Only include pairs with correlation above the threshold\n",
    "        if abs(correlation_value) >= correlation_threshold:\n",
    "            filtered_pairs.append((instruments[i], instruments[j]))\n",
    "\n",
    "# Use concurrent.futures to run the cointegration tests in parallel\n",
    "with ProcessPoolExecutor() as executor:\n",
    "    results = list(executor.map(cointegration_test, filtered_pairs))\n",
    "\n",
    "# Sort by p-value to find the top cointegrated pairs\n",
    "cointegration_results_sorted = sorted(results, key=lambda x: x[2])\n",
    "\n",
    "# Display the top 10 most cointegrated pairs\n",
    "print(\"Top 10 Most Cointegrated Pairs (including AUDUSD vs NZDUSD):\")\n",
    "for pair in cointegration_results_sorted[:10]:\n",
    "    print(f\"{pair[0]} vs {pair[1]}: p-value = {pair[2]:.4f}\")\n",
    "'''"
   ]
  },
  {
   "cell_type": "code",
   "execution_count": 18,
   "metadata": {},
   "outputs": [
    {
     "name": "stdout",
     "output_type": "stream",
     "text": [
      "Top 10 Most Cointegrated Pairs (including AUDUSD vs NZDUSD):\n",
      "BRENT_df vs LIGHT_df: p-value = 0.0001\n",
      "XAUUSD_Candlestick_1_Hour_BID_01_df vs COCOA_df: p-value = 0.0110\n",
      "ETHUSD_Candlestick_1_Hour_BID_01_df vs COPPER_df: p-value = 0.0158\n",
      "BRENT_df vs DIESEL_df: p-value = 0.0213\n",
      "AUDUSD_Candlestick_1_Hour_BID_01_df vs NZDUSD_Candlestick_1_Hour_BID_01_df: p-value = 0.0470\n",
      "USSC2000_df vs COPPER_df: p-value = 0.0490\n",
      "DIESEL_df vs LIGHT_df: p-value = 0.0584\n",
      "SUGAR_df vs USTBOND_df: p-value = 0.0755\n",
      "UKGILT_df vs USTBOND_df: p-value = 0.0812\n",
      "USA500_df vs USA30_df: p-value = 0.0852\n"
     ]
    }
   ],
   "source": [
    "from statsmodels.tsa.stattools import coint\n",
    "from joblib import Parallel, delayed\n",
    "\n",
    "# Function to perform Engle-Granger Cointegration Test on a pair\n",
    "def cointegration_test(pair):\n",
    "    instrument1, instrument2 = pair\n",
    "    score, p_value, _ = coint(close_prices_df[instrument1], close_prices_df[instrument2])\n",
    "    return (instrument1, instrument2, p_value)\n",
    "\n",
    "# Pre-filter pairs based on correlation (no exclusion of AUDUSD vs NZDUSD yet)\n",
    "filtered_pairs = []\n",
    "correlation_threshold = 0.7\n",
    "for i in range(len(instruments)):\n",
    "    for j in range(i + 1, len(instruments)):\n",
    "        correlation_value = correlation_matrix.iloc[i, j]\n",
    "        if abs(correlation_value) >= correlation_threshold:\n",
    "            filtered_pairs.append((instruments[i], instruments[j]))\n",
    "\n",
    "# Use joblib for parallel execution\n",
    "results = Parallel(n_jobs=-1)(delayed(cointegration_test)(pair) for pair in filtered_pairs)\n",
    "\n",
    "# Sort by p-value to find the top cointegrated pairs\n",
    "cointegration_results_sorted = sorted(results, key=lambda x: x[2])\n",
    "\n",
    "# Display the top 10 most cointegrated pairs\n",
    "print(\"Top 10 Most Cointegrated Pairs (including AUDUSD vs NZDUSD):\")\n",
    "for pair in cointegration_results_sorted[:10]:\n",
    "    print(f\"{pair[0]} vs {pair[1]}: p-value = {pair[2]:.4f}\")\n",
    "\n"
   ]
  },
  {
   "cell_type": "markdown",
   "metadata": {},
   "source": [
    "<h2> Selecting <br>\n",
    "<h6>BRENT_df vs LIGHT_df: p-value = 0.0001 <br>\n",
    "<h6>XAUUSD_Candlestick_1_Hour_BID_01_df vs COCOA_df: p-value = 0.0110\n"
   ]
  },
  {
   "cell_type": "code",
   "execution_count": null,
   "metadata": {},
   "outputs": [],
   "source": []
  },
  {
   "cell_type": "code",
   "execution_count": 20,
   "metadata": {},
   "outputs": [
    {
     "name": "stdout",
     "output_type": "stream",
     "text": [
      "DataFrames saved successfully in the folder: cointegrated_pairs_data\n"
     ]
    }
   ],
   "source": [
    "\n",
    "# Create a folder to store the CSV files (if it doesn't already exist)\n",
    "folder_name = \"cointegrated_pairs_data\"\n",
    "os.makedirs(folder_name, exist_ok=True)\n",
    "\n",
    "# Save the DataFrames for the top 2 most cointegrated pairs\n",
    "BRENT_df.to_csv(os.path.join(folder_name, 'BRENT_df.csv'), index=False)\n",
    "LIGHT_df.to_csv(os.path.join(folder_name, 'LIGHT_df.csv'), index=False)\n",
    "XAUUSD_Candlestick_1_Hour_BID_01_df.to_csv(os.path.join(folder_name, 'XAUUSD_Candlestick_1_Hour_BID_01_df.csv'), index=False)\n",
    "COCOA_df.to_csv(os.path.join(folder_name, 'COCOA_df.csv'), index=False)\n",
    "\n",
    "print(\"DataFrames saved successfully in the folder:\", folder_name)\n"
   ]
  },
  {
   "cell_type": "code",
   "execution_count": 25,
   "metadata": {},
   "outputs": [
    {
     "name": "stdout",
     "output_type": "stream",
     "text": [
      "DataFrames with Time column saved successfully in the folder: cointegrated_pairs_data\n"
     ]
    }
   ],
   "source": [
    "import os\n",
    "\n",
    "# Example fetching for each DataFrame (adjust the names as needed)\n",
    "BRENT_df = data_dict['BRENT.CMDUSD_Candlestick_1_Hour_BID_01.01.2020-31.08.2024.csv'][['Time', 'Close']]\n",
    "LIGHT_df = data_dict['LIGHT.CMDUSD_Candlestick_1_Hour_BID_01.01.2020-31.08.2024.csv'][['Time', 'Close']]\n",
    "XAUUSD_Candlestick_1_Hour_BID_01_df = data_dict['XAUUSD_Candlestick_1_Hour_BID_01.01.2020-31.08.2024.csv'][['Time', 'Close']]\n",
    "COCOA_df = data_dict['COCOA.CMDUSD_Candlestick_1_Hour_BID_01.01.2020-31.08.2024.csv'][['Time', 'Close']]\n",
    "\n",
    "# Create a folder to store the CSV files (if it doesn't already exist)\n",
    "folder_name = \"cointegrated_pairs_data\"\n",
    "os.makedirs(folder_name, exist_ok=True)\n",
    "\n",
    "# Save the DataFrames with the Time column\n",
    "BRENT_df.to_csv(os.path.join(folder_name, 'BRENT_df.csv'), index=False)\n",
    "LIGHT_df.to_csv(os.path.join(folder_name, 'LIGHT_df.csv'), index=False)\n",
    "XAUUSD_Candlestick_1_Hour_BID_01_df.to_csv(os.path.join(folder_name, 'XAUUSD_Candlestick_1_Hour_BID_01_df.csv'), index=False)\n",
    "COCOA_df.to_csv(os.path.join(folder_name, 'COCOA_df.csv'), index=False)\n",
    "\n",
    "print(\"DataFrames with Time column saved successfully in the folder:\", folder_name)\n"
   ]
  },
  {
   "cell_type": "code",
   "execution_count": 23,
   "metadata": {},
   "outputs": [
    {
     "data": {
      "text/plain": [
       "{'USDCAD_Candlestick_1_Hour_BID_01.01.2020-31.08.2024.csv':           Open     High      Low    Close  Volume                Time\n",
       " 0      1.29853  1.29853  1.29853  1.29853     0.0 2020-01-01 00:00:00\n",
       " 1      1.29853  1.29853  1.29853  1.29853     0.0 2020-01-01 01:00:00\n",
       " 2      1.29853  1.29853  1.29853  1.29853     0.0 2020-01-01 02:00:00\n",
       " 3      1.29853  1.29853  1.29853  1.29853     0.0 2020-01-01 03:00:00\n",
       " 4      1.29853  1.29853  1.29853  1.29853     0.0 2020-01-01 04:00:00\n",
       " ...        ...      ...      ...      ...     ...                 ...\n",
       " 40914  1.34923  1.34923  1.34923  1.34923     0.0 2024-08-31 19:00:00\n",
       " 40915  1.34923  1.34923  1.34923  1.34923     0.0 2024-08-31 20:00:00\n",
       " 40916  1.34923  1.34923  1.34923  1.34923     0.0 2024-08-31 21:00:00\n",
       " 40917  1.34923  1.34923  1.34923  1.34923     0.0 2024-08-31 22:00:00\n",
       " 40918  1.34923  1.34923  1.34923  1.34923     0.0 2024-08-31 23:00:00\n",
       " \n",
       " [40919 rows x 6 columns],\n",
       " 'UKGILT.TRGBP_Candlestick_1_Hour_BID_01.01.2020-31.08.2024.csv':           Open     High      Low    Close  Volume                Time\n",
       " 0      131.274  131.274  131.274  131.274     0.0 2020-01-01 00:00:00\n",
       " 1      131.274  131.274  131.274  131.274     0.0 2020-01-01 01:00:00\n",
       " 2      131.274  131.274  131.274  131.274     0.0 2020-01-01 02:00:00\n",
       " 3      131.274  131.274  131.274  131.274     0.0 2020-01-01 03:00:00\n",
       " 4      131.274  131.274  131.274  131.274     0.0 2020-01-01 04:00:00\n",
       " ...        ...      ...      ...      ...     ...                 ...\n",
       " 40914   98.468   98.468   98.468   98.468     0.0 2024-08-31 19:00:00\n",
       " 40915   98.468   98.468   98.468   98.468     0.0 2024-08-31 20:00:00\n",
       " 40916   98.468   98.468   98.468   98.468     0.0 2024-08-31 21:00:00\n",
       " 40917   98.468   98.468   98.468   98.468     0.0 2024-08-31 22:00:00\n",
       " 40918   98.468   98.468   98.468   98.468     0.0 2024-08-31 23:00:00\n",
       " \n",
       " [40919 rows x 6 columns],\n",
       " 'AUDUSD_Candlestick_1_Hour_BID_01.01.2020-31.08.2024.csv':           Open     High      Low    Close  Volume                Time\n",
       " 0      0.70115  0.70115  0.70115  0.70115     0.0 2020-01-01 00:00:00\n",
       " 1      0.70115  0.70115  0.70115  0.70115     0.0 2020-01-01 01:00:00\n",
       " 2      0.70115  0.70115  0.70115  0.70115     0.0 2020-01-01 02:00:00\n",
       " 3      0.70115  0.70115  0.70115  0.70115     0.0 2020-01-01 03:00:00\n",
       " 4      0.70115  0.70115  0.70115  0.70115     0.0 2020-01-01 04:00:00\n",
       " ...        ...      ...      ...      ...     ...                 ...\n",
       " 40914  0.67638  0.67638  0.67638  0.67638     0.0 2024-08-31 19:00:00\n",
       " 40915  0.67638  0.67638  0.67638  0.67638     0.0 2024-08-31 20:00:00\n",
       " 40916  0.67638  0.67638  0.67638  0.67638     0.0 2024-08-31 21:00:00\n",
       " 40917  0.67638  0.67638  0.67638  0.67638     0.0 2024-08-31 22:00:00\n",
       " 40918  0.67638  0.67638  0.67638  0.67638     0.0 2024-08-31 23:00:00\n",
       " \n",
       " [40919 rows x 6 columns],\n",
       " 'BRENT.CMDUSD_Candlestick_1_Hour_BID_01.01.2020-31.08.2024.csv':          Open    High     Low   Close  Volume                Time\n",
       " 0      65.995  65.995  65.995  65.995     0.0 2020-01-01 00:00:00\n",
       " 1      65.995  65.995  65.995  65.995     0.0 2020-01-01 01:00:00\n",
       " 2      65.995  65.995  65.995  65.995     0.0 2020-01-01 02:00:00\n",
       " 3      65.995  65.995  65.995  65.995     0.0 2020-01-01 03:00:00\n",
       " 4      65.995  65.995  65.995  65.995     0.0 2020-01-01 04:00:00\n",
       " ...       ...     ...     ...     ...     ...                 ...\n",
       " 40914  77.000  77.000  77.000  77.000     0.0 2024-08-31 19:00:00\n",
       " 40915  77.000  77.000  77.000  77.000     0.0 2024-08-31 20:00:00\n",
       " 40916  77.000  77.000  77.000  77.000     0.0 2024-08-31 21:00:00\n",
       " 40917  77.000  77.000  77.000  77.000     0.0 2024-08-31 22:00:00\n",
       " 40918  77.000  77.000  77.000  77.000     0.0 2024-08-31 23:00:00\n",
       " \n",
       " [40919 rows x 6 columns],\n",
       " 'DOLLAR.IDXUSD_Candlestick_1_Hour_BID_01.01.2020-31.08.2024.csv':           Open     High      Low    Close  Volume                Time\n",
       " 0       96.134   96.134   96.134   96.134     0.0 2020-01-01 00:00:00\n",
       " 1       96.134   96.134   96.134   96.134     0.0 2020-01-01 01:00:00\n",
       " 2       96.134   96.134   96.134   96.134     0.0 2020-01-01 02:00:00\n",
       " 3       96.134   96.134   96.134   96.134     0.0 2020-01-01 03:00:00\n",
       " 4       96.134   96.134   96.134   96.134     0.0 2020-01-01 04:00:00\n",
       " ...        ...      ...      ...      ...     ...                 ...\n",
       " 40914  101.615  101.615  101.615  101.615     0.0 2024-08-31 19:00:00\n",
       " 40915  101.615  101.615  101.615  101.615     0.0 2024-08-31 20:00:00\n",
       " 40916  101.615  101.615  101.615  101.615     0.0 2024-08-31 21:00:00\n",
       " 40917  101.615  101.615  101.615  101.615     0.0 2024-08-31 22:00:00\n",
       " 40918  101.615  101.615  101.615  101.615     0.0 2024-08-31 23:00:00\n",
       " \n",
       " [40919 rows x 6 columns],\n",
       " 'XAUUSD_Candlestick_1_Hour_BID_01.01.2020-31.08.2024.csv':            Open      High       Low     Close  Volume                Time\n",
       " 0      1516.915  1516.915  1516.915  1516.915     0.0 2020-01-01 00:00:00\n",
       " 1      1516.915  1516.915  1516.915  1516.915     0.0 2020-01-01 01:00:00\n",
       " 2      1516.915  1516.915  1516.915  1516.915     0.0 2020-01-01 02:00:00\n",
       " 3      1516.915  1516.915  1516.915  1516.915     0.0 2020-01-01 03:00:00\n",
       " 4      1516.915  1516.915  1516.915  1516.915     0.0 2020-01-01 04:00:00\n",
       " ...         ...       ...       ...       ...     ...                 ...\n",
       " 40914  2502.925  2502.925  2502.925  2502.925     0.0 2024-08-31 19:00:00\n",
       " 40915  2502.925  2502.925  2502.925  2502.925     0.0 2024-08-31 20:00:00\n",
       " 40916  2502.925  2502.925  2502.925  2502.925     0.0 2024-08-31 21:00:00\n",
       " 40917  2502.925  2502.925  2502.925  2502.925     0.0 2024-08-31 22:00:00\n",
       " 40918  2502.925  2502.925  2502.925  2502.925     0.0 2024-08-31 23:00:00\n",
       " \n",
       " [40919 rows x 6 columns],\n",
       " 'DIESEL.CMDUSD_Candlestick_1_Hour_BID_01.01.2020-31.08.2024.csv':           Open     High      Low    Close  Volume                Time\n",
       " 0      614.788  614.788  614.788  614.788     0.0 2020-01-01 00:00:00\n",
       " 1      614.788  614.788  614.788  614.788     0.0 2020-01-01 01:00:00\n",
       " 2      614.788  614.788  614.788  614.788     0.0 2020-01-01 02:00:00\n",
       " 3      614.788  614.788  614.788  614.788     0.0 2020-01-01 03:00:00\n",
       " 4      614.788  614.788  614.788  614.788     0.0 2020-01-01 04:00:00\n",
       " ...        ...      ...      ...      ...     ...                 ...\n",
       " 40914  695.399  695.399  695.399  695.399     0.0 2024-08-31 19:00:00\n",
       " 40915  695.399  695.399  695.399  695.399     0.0 2024-08-31 20:00:00\n",
       " 40916  695.399  695.399  695.399  695.399     0.0 2024-08-31 21:00:00\n",
       " 40917  695.399  695.399  695.399  695.399     0.0 2024-08-31 22:00:00\n",
       " 40918  695.399  695.399  695.399  695.399     0.0 2024-08-31 23:00:00\n",
       " \n",
       " [40919 rows x 6 columns],\n",
       " 'COCOA.CMDUSD_Candlestick_1_Hour_BID_01.01.2020-31.08.2024.csv':            Open      High       Low     Close  Volume                Time\n",
       " 0      2536.720  2536.720  2536.720  2536.720     0.0 2020-01-01 00:00:00\n",
       " 1      2536.720  2536.720  2536.720  2536.720     0.0 2020-01-01 01:00:00\n",
       " 2      2536.720  2536.720  2536.720  2536.720     0.0 2020-01-01 02:00:00\n",
       " 3      2536.720  2536.720  2536.720  2536.720     0.0 2020-01-01 03:00:00\n",
       " 4      2536.720  2536.720  2536.720  2536.720     0.0 2020-01-01 04:00:00\n",
       " ...         ...       ...       ...       ...     ...                 ...\n",
       " 40914  7673.531  7673.531  7673.531  7673.531     0.0 2024-08-31 19:00:00\n",
       " 40915  7673.531  7673.531  7673.531  7673.531     0.0 2024-08-31 20:00:00\n",
       " 40916  7673.531  7673.531  7673.531  7673.531     0.0 2024-08-31 21:00:00\n",
       " 40917  7673.531  7673.531  7673.531  7673.531     0.0 2024-08-31 22:00:00\n",
       " 40918  7673.531  7673.531  7673.531  7673.531     0.0 2024-08-31 23:00:00\n",
       " \n",
       " [40919 rows x 6 columns],\n",
       " 'BTCUSD_Candlestick_1_Hour_BID_01.01.2020-31.08.2024.csv':         Open   High    Low  Close  Volume                Time\n",
       " 0       7101   7101   7101   7101  0.0000 2020-01-01 00:00:00\n",
       " 1       7101   7101   7101   7101  0.0000 2020-01-01 01:00:00\n",
       " 2       7101   7101   7101   7101  0.0000 2020-01-01 02:00:00\n",
       " 3       7101   7101   7101   7101  0.0000 2020-01-01 03:00:00\n",
       " 4       7101   7101   7101   7101  0.0000 2020-01-01 04:00:00\n",
       " ...      ...    ...    ...    ...     ...                 ...\n",
       " 40914  58987  59013  58901  58939  0.0029 2024-08-31 19:00:00\n",
       " 40915  58938  59029  58869  58899  0.0054 2024-08-31 20:00:00\n",
       " 40916  58896  58915  58793  58797  0.0056 2024-08-31 21:00:00\n",
       " 40917  58796  58812  58248  58505  0.0160 2024-08-31 22:00:00\n",
       " 40918  58505  58626  58378  58483  0.0066 2024-08-31 23:00:00\n",
       " \n",
       " [40919 rows x 6 columns],\n",
       " 'NZDUSD_Candlestick_1_Hour_BID_01.01.2020-31.08.2024.csv':           Open     High      Low    Close  Volume                Time\n",
       " 0      0.67304  0.67304  0.67304  0.67304     0.0 2020-01-01 00:00:00\n",
       " 1      0.67304  0.67304  0.67304  0.67304     0.0 2020-01-01 01:00:00\n",
       " 2      0.67304  0.67304  0.67304  0.67304     0.0 2020-01-01 02:00:00\n",
       " 3      0.67304  0.67304  0.67304  0.67304     0.0 2020-01-01 03:00:00\n",
       " 4      0.67304  0.67304  0.67304  0.67304     0.0 2020-01-01 04:00:00\n",
       " ...        ...      ...      ...      ...     ...                 ...\n",
       " 40914  0.62484  0.62484  0.62484  0.62484     0.0 2024-08-31 19:00:00\n",
       " 40915  0.62484  0.62484  0.62484  0.62484     0.0 2024-08-31 20:00:00\n",
       " 40916  0.62484  0.62484  0.62484  0.62484     0.0 2024-08-31 21:00:00\n",
       " 40917  0.62484  0.62484  0.62484  0.62484     0.0 2024-08-31 22:00:00\n",
       " 40918  0.62484  0.62484  0.62484  0.62484     0.0 2024-08-31 23:00:00\n",
       " \n",
       " [40919 rows x 6 columns],\n",
       " 'SUGAR.CMDUSD_Candlestick_1_Hour_BID_01.01.2020-31.08.2024.csv':           Open     High      Low    Close  Volume                Time\n",
       " 0      359.178  359.178  359.178  359.178     0.0 2020-01-01 00:00:00\n",
       " 1      359.178  359.178  359.178  359.178     0.0 2020-01-01 01:00:00\n",
       " 2      359.178  359.178  359.178  359.178     0.0 2020-01-01 02:00:00\n",
       " 3      359.178  359.178  359.178  359.178     0.0 2020-01-01 03:00:00\n",
       " 4      359.178  359.178  359.178  359.178     0.0 2020-01-01 04:00:00\n",
       " ...        ...      ...      ...      ...     ...                 ...\n",
       " 40914  546.160  546.160  546.160  546.160     0.0 2024-08-31 19:00:00\n",
       " 40915  546.160  546.160  546.160  546.160     0.0 2024-08-31 20:00:00\n",
       " 40916  546.160  546.160  546.160  546.160     0.0 2024-08-31 21:00:00\n",
       " 40917  546.160  546.160  546.160  546.160     0.0 2024-08-31 22:00:00\n",
       " 40918  546.160  546.160  546.160  546.160     0.0 2024-08-31 23:00:00\n",
       " \n",
       " [40919 rows x 6 columns],\n",
       " 'USA500.IDXUSD_Candlestick_1_Hour_BID_01.01.2020-31.08.2024.csv':            Open      High       Low     Close  Volume                Time\n",
       " 0      3233.034  3233.034  3233.034  3233.034     0.0 2020-01-01 00:00:00\n",
       " 1      3233.034  3233.034  3233.034  3233.034     0.0 2020-01-01 01:00:00\n",
       " 2      3233.034  3233.034  3233.034  3233.034     0.0 2020-01-01 02:00:00\n",
       " 3      3233.034  3233.034  3233.034  3233.034     0.0 2020-01-01 03:00:00\n",
       " 4      3233.034  3233.034  3233.034  3233.034     0.0 2020-01-01 04:00:00\n",
       " ...         ...       ...       ...       ...     ...                 ...\n",
       " 40914  5640.823  5640.823  5640.823  5640.823     0.0 2024-08-31 19:00:00\n",
       " 40915  5640.823  5640.823  5640.823  5640.823     0.0 2024-08-31 20:00:00\n",
       " 40916  5640.823  5640.823  5640.823  5640.823     0.0 2024-08-31 21:00:00\n",
       " 40917  5640.823  5640.823  5640.823  5640.823     0.0 2024-08-31 22:00:00\n",
       " 40918  5640.823  5640.823  5640.823  5640.823     0.0 2024-08-31 23:00:00\n",
       " \n",
       " [40919 rows x 6 columns],\n",
       " 'USSC2000.IDXUSD_Candlestick_1_Hour_BID_01.01.2020-31.08.2024.csv':            Open      High       Low     Close  Volume                Time\n",
       " 0      1670.168  1670.168  1670.168  1670.168     0.0 2020-01-01 00:00:00\n",
       " 1      1670.168  1670.168  1670.168  1670.168     0.0 2020-01-01 01:00:00\n",
       " 2      1670.168  1670.168  1670.168  1670.168     0.0 2020-01-01 02:00:00\n",
       " 3      1670.168  1670.168  1670.168  1670.168     0.0 2020-01-01 03:00:00\n",
       " 4      1670.168  1670.168  1670.168  1670.168     0.0 2020-01-01 04:00:00\n",
       " ...         ...       ...       ...       ...     ...                 ...\n",
       " 40914  2209.474  2209.474  2209.474  2209.474     0.0 2024-08-31 19:00:00\n",
       " 40915  2209.474  2209.474  2209.474  2209.474     0.0 2024-08-31 20:00:00\n",
       " 40916  2209.474  2209.474  2209.474  2209.474     0.0 2024-08-31 21:00:00\n",
       " 40917  2209.474  2209.474  2209.474  2209.474     0.0 2024-08-31 22:00:00\n",
       " 40918  2209.474  2209.474  2209.474  2209.474     0.0 2024-08-31 23:00:00\n",
       " \n",
       " [40919 rows x 6 columns],\n",
       " 'SOYBEAN.CMDUSX_Candlestick_1_Hour_BID_01.01.2020-31.08.2024.csv':           Open     High      Low    Close  Volume                Time\n",
       " 0      954.650  954.650  954.650  954.650     0.0 2020-01-01 00:00:00\n",
       " 1      954.650  954.650  954.650  954.650     0.0 2020-01-01 01:00:00\n",
       " 2      954.650  954.650  954.650  954.650     0.0 2020-01-01 02:00:00\n",
       " 3      954.650  954.650  954.650  954.650     0.0 2020-01-01 03:00:00\n",
       " 4      954.650  954.650  954.650  954.650     0.0 2020-01-01 04:00:00\n",
       " ...        ...      ...      ...      ...     ...                 ...\n",
       " 40914  998.254  998.254  998.254  998.254     0.0 2024-08-31 19:00:00\n",
       " 40915  998.254  998.254  998.254  998.254     0.0 2024-08-31 20:00:00\n",
       " 40916  998.254  998.254  998.254  998.254     0.0 2024-08-31 21:00:00\n",
       " 40917  998.254  998.254  998.254  998.254     0.0 2024-08-31 22:00:00\n",
       " 40918  998.254  998.254  998.254  998.254     0.0 2024-08-31 23:00:00\n",
       " \n",
       " [40919 rows x 6 columns],\n",
       " 'USDJPY_Candlestick_1_Hour_BID_01.01.2020-31.08.2024.csv':           Open     High      Low    Close  Volume                Time\n",
       " 0      108.631  108.631  108.631  108.631     0.0 2020-01-01 00:00:00\n",
       " 1      108.631  108.631  108.631  108.631     0.0 2020-01-01 01:00:00\n",
       " 2      108.631  108.631  108.631  108.631     0.0 2020-01-01 02:00:00\n",
       " 3      108.631  108.631  108.631  108.631     0.0 2020-01-01 03:00:00\n",
       " 4      108.631  108.631  108.631  108.631     0.0 2020-01-01 04:00:00\n",
       " ...        ...      ...      ...      ...     ...                 ...\n",
       " 40914  146.113  146.113  146.113  146.113     0.0 2024-08-31 19:00:00\n",
       " 40915  146.113  146.113  146.113  146.113     0.0 2024-08-31 20:00:00\n",
       " 40916  146.113  146.113  146.113  146.113     0.0 2024-08-31 21:00:00\n",
       " 40917  146.113  146.113  146.113  146.113     0.0 2024-08-31 22:00:00\n",
       " 40918  146.113  146.113  146.113  146.113     0.0 2024-08-31 23:00:00\n",
       " \n",
       " [40919 rows x 6 columns],\n",
       " 'EURUSD_Candlestick_1_Hour_BID_01.01.2020-31.08.2024.csv':           Open     High      Low    Close  Volume                Time\n",
       " 0      1.12076  1.12076  1.12076  1.12076     0.0 2020-01-01 00:00:00\n",
       " 1      1.12076  1.12076  1.12076  1.12076     0.0 2020-01-01 01:00:00\n",
       " 2      1.12076  1.12076  1.12076  1.12076     0.0 2020-01-01 02:00:00\n",
       " 3      1.12076  1.12076  1.12076  1.12076     0.0 2020-01-01 03:00:00\n",
       " 4      1.12076  1.12076  1.12076  1.12076     0.0 2020-01-01 04:00:00\n",
       " ...        ...      ...      ...      ...     ...                 ...\n",
       " 40914  1.10456  1.10456  1.10456  1.10456     0.0 2024-08-31 19:00:00\n",
       " 40915  1.10456  1.10456  1.10456  1.10456     0.0 2024-08-31 20:00:00\n",
       " 40916  1.10456  1.10456  1.10456  1.10456     0.0 2024-08-31 21:00:00\n",
       " 40917  1.10456  1.10456  1.10456  1.10456     0.0 2024-08-31 22:00:00\n",
       " 40918  1.10456  1.10456  1.10456  1.10456     0.0 2024-08-31 23:00:00\n",
       " \n",
       " [40919 rows x 6 columns],\n",
       " 'ETHUSD_Candlestick_1_Hour_BID_01.01.2020-31.08.2024.csv':        Open  High   Low  Close  Volume                Time\n",
       " 0       127   127   127    127  0.0000 2020-01-01 00:00:00\n",
       " 1       127   127   127    127  0.0000 2020-01-01 01:00:00\n",
       " 2       127   127   127    127  0.0000 2020-01-01 02:00:00\n",
       " 3       127   127   127    127  0.0000 2020-01-01 03:00:00\n",
       " 4       127   127   127    127  0.0000 2020-01-01 04:00:00\n",
       " ...     ...   ...   ...    ...     ...                 ...\n",
       " 40914  2514  2516  2509   2511  0.5348 2024-08-31 19:00:00\n",
       " 40915  2511  2514  2502   2503  0.8611 2024-08-31 20:00:00\n",
       " 40916  2503  2506  2491   2492  1.3160 2024-08-31 21:00:00\n",
       " 40917  2491  2493  2474   2485  2.1717 2024-08-31 22:00:00\n",
       " 40918  2485  2493  2483   2487  0.8808 2024-08-31 23:00:00\n",
       " \n",
       " [40919 rows x 6 columns],\n",
       " 'GBPUSD_Candlestick_1_Hour_BID_01.01.2020-31.08.2024.csv':           Open     High      Low    Close  Volume                Time\n",
       " 0      1.32559  1.32559  1.32559  1.32559     0.0 2020-01-01 00:00:00\n",
       " 1      1.32559  1.32559  1.32559  1.32559     0.0 2020-01-01 01:00:00\n",
       " 2      1.32559  1.32559  1.32559  1.32559     0.0 2020-01-01 02:00:00\n",
       " 3      1.32559  1.32559  1.32559  1.32559     0.0 2020-01-01 03:00:00\n",
       " 4      1.32559  1.32559  1.32559  1.32559     0.0 2020-01-01 04:00:00\n",
       " ...        ...      ...      ...      ...     ...                 ...\n",
       " 40914  1.31231  1.31231  1.31231  1.31231     0.0 2024-08-31 19:00:00\n",
       " 40915  1.31231  1.31231  1.31231  1.31231     0.0 2024-08-31 20:00:00\n",
       " 40916  1.31231  1.31231  1.31231  1.31231     0.0 2024-08-31 21:00:00\n",
       " 40917  1.31231  1.31231  1.31231  1.31231     0.0 2024-08-31 22:00:00\n",
       " 40918  1.31231  1.31231  1.31231  1.31231     0.0 2024-08-31 23:00:00\n",
       " \n",
       " [40919 rows x 6 columns],\n",
       " 'XAGUSD_Candlestick_1_Hour_BID_01.01.2020-31.08.2024.csv':          Open    High     Low   Close  Volume                Time\n",
       " 0      17.812  17.812  17.812  17.812     0.0 2020-01-01 00:00:00\n",
       " 1      17.812  17.812  17.812  17.812     0.0 2020-01-01 01:00:00\n",
       " 2      17.812  17.812  17.812  17.812     0.0 2020-01-01 02:00:00\n",
       " 3      17.812  17.812  17.812  17.812     0.0 2020-01-01 03:00:00\n",
       " 4      17.812  17.812  17.812  17.812     0.0 2020-01-01 04:00:00\n",
       " ...       ...     ...     ...     ...     ...                 ...\n",
       " 40914  28.844  28.844  28.844  28.844     0.0 2024-08-31 19:00:00\n",
       " 40915  28.844  28.844  28.844  28.844     0.0 2024-08-31 20:00:00\n",
       " 40916  28.844  28.844  28.844  28.844     0.0 2024-08-31 21:00:00\n",
       " 40917  28.844  28.844  28.844  28.844     0.0 2024-08-31 22:00:00\n",
       " 40918  28.844  28.844  28.844  28.844     0.0 2024-08-31 23:00:00\n",
       " \n",
       " [40919 rows x 6 columns],\n",
       " 'COPPER.CMDUSD_Candlestick_1_Hour_BID_01.01.2020-31.08.2024.csv':          Open    High     Low   Close  Volume                Time\n",
       " 0      2.7962  2.7962  2.7962  2.7962     0.0 2020-01-01 00:00:00\n",
       " 1      2.7962  2.7962  2.7962  2.7962     0.0 2020-01-01 01:00:00\n",
       " 2      2.7962  2.7962  2.7962  2.7962     0.0 2020-01-01 02:00:00\n",
       " 3      2.7962  2.7962  2.7962  2.7962     0.0 2020-01-01 03:00:00\n",
       " 4      2.7962  2.7962  2.7962  2.7962     0.0 2020-01-01 04:00:00\n",
       " ...       ...     ...     ...     ...     ...                 ...\n",
       " 40914  4.2175  4.2175  4.2175  4.2175     0.0 2024-08-31 19:00:00\n",
       " 40915  4.2175  4.2175  4.2175  4.2175     0.0 2024-08-31 20:00:00\n",
       " 40916  4.2175  4.2175  4.2175  4.2175     0.0 2024-08-31 21:00:00\n",
       " 40917  4.2175  4.2175  4.2175  4.2175     0.0 2024-08-31 22:00:00\n",
       " 40918  4.2175  4.2175  4.2175  4.2175     0.0 2024-08-31 23:00:00\n",
       " \n",
       " [40919 rows x 6 columns],\n",
       " 'USA30.IDXUSD_Candlestick_1_Hour_BID_01.01.2020-31.08.2024.csv':             Open       High        Low      Close  Volume                Time\n",
       " 0      28567.700  28567.700  28567.700  28567.700     0.0 2020-01-01 00:00:00\n",
       " 1      28567.700  28567.700  28567.700  28567.700     0.0 2020-01-01 01:00:00\n",
       " 2      28567.700  28567.700  28567.700  28567.700     0.0 2020-01-01 02:00:00\n",
       " 3      28567.700  28567.700  28567.700  28567.700     0.0 2020-01-01 03:00:00\n",
       " 4      28567.700  28567.700  28567.700  28567.700     0.0 2020-01-01 04:00:00\n",
       " ...          ...        ...        ...        ...     ...                 ...\n",
       " 40914  41505.163  41505.163  41505.163  41505.163     0.0 2024-08-31 19:00:00\n",
       " 40915  41505.163  41505.163  41505.163  41505.163     0.0 2024-08-31 20:00:00\n",
       " 40916  41505.163  41505.163  41505.163  41505.163     0.0 2024-08-31 21:00:00\n",
       " 40917  41505.163  41505.163  41505.163  41505.163     0.0 2024-08-31 22:00:00\n",
       " 40918  41505.163  41505.163  41505.163  41505.163     0.0 2024-08-31 23:00:00\n",
       " \n",
       " [40919 rows x 6 columns],\n",
       " 'USDCHF_Candlestick_1_Hour_BID_01.01.2020-31.08.2024.csv':           Open     High      Low    Close  Volume                Time\n",
       " 0      0.96695  0.96695  0.96695  0.96695     0.0 2020-01-01 00:00:00\n",
       " 1      0.96695  0.96695  0.96695  0.96695     0.0 2020-01-01 01:00:00\n",
       " 2      0.96695  0.96695  0.96695  0.96695     0.0 2020-01-01 02:00:00\n",
       " 3      0.96695  0.96695  0.96695  0.96695     0.0 2020-01-01 03:00:00\n",
       " 4      0.96695  0.96695  0.96695  0.96695     0.0 2020-01-01 04:00:00\n",
       " ...        ...      ...      ...      ...     ...                 ...\n",
       " 40914  0.84952  0.84952  0.84952  0.84952     0.0 2024-08-31 19:00:00\n",
       " 40915  0.84952  0.84952  0.84952  0.84952     0.0 2024-08-31 20:00:00\n",
       " 40916  0.84952  0.84952  0.84952  0.84952     0.0 2024-08-31 21:00:00\n",
       " 40917  0.84952  0.84952  0.84952  0.84952     0.0 2024-08-31 22:00:00\n",
       " 40918  0.84952  0.84952  0.84952  0.84952     0.0 2024-08-31 23:00:00\n",
       " \n",
       " [40919 rows x 6 columns],\n",
       " 'LIGHT.CMDUSD_Candlestick_1_Hour_BID_01.01.2020-31.08.2024.csv':          Open    High     Low   Close  Volume                Time\n",
       " 0      61.175  61.175  61.175  61.175     0.0 2020-01-01 00:00:00\n",
       " 1      61.175  61.175  61.175  61.175     0.0 2020-01-01 01:00:00\n",
       " 2      61.175  61.175  61.175  61.175     0.0 2020-01-01 02:00:00\n",
       " 3      61.175  61.175  61.175  61.175     0.0 2020-01-01 03:00:00\n",
       " 4      61.175  61.175  61.175  61.175     0.0 2020-01-01 04:00:00\n",
       " ...       ...     ...     ...     ...     ...                 ...\n",
       " 40914  73.610  73.610  73.610  73.610     0.0 2024-08-31 19:00:00\n",
       " 40915  73.610  73.610  73.610  73.610     0.0 2024-08-31 20:00:00\n",
       " 40916  73.610  73.610  73.610  73.610     0.0 2024-08-31 21:00:00\n",
       " 40917  73.610  73.610  73.610  73.610     0.0 2024-08-31 22:00:00\n",
       " 40918  73.610  73.610  73.610  73.610     0.0 2024-08-31 23:00:00\n",
       " \n",
       " [40919 rows x 6 columns],\n",
       " 'COTTON.CMDUSX_Candlestick_1_Hour_BID_01.01.2020-31.08.2024.csv':          Open    High     Low   Close  Volume                Time\n",
       " 0      68.871  68.871  68.871  68.871     0.0 2020-01-01 00:00:00\n",
       " 1      68.871  68.871  68.871  68.871     0.0 2020-01-01 01:00:00\n",
       " 2      68.871  68.871  68.871  68.871     0.0 2020-01-01 02:00:00\n",
       " 3      68.871  68.871  68.871  68.871     0.0 2020-01-01 03:00:00\n",
       " 4      68.871  68.871  68.871  68.871     0.0 2020-01-01 04:00:00\n",
       " ...       ...     ...     ...     ...     ...                 ...\n",
       " 40914  69.880  69.880  69.880  69.880     0.0 2024-08-31 19:00:00\n",
       " 40915  69.880  69.880  69.880  69.880     0.0 2024-08-31 20:00:00\n",
       " 40916  69.880  69.880  69.880  69.880     0.0 2024-08-31 21:00:00\n",
       " 40917  69.880  69.880  69.880  69.880     0.0 2024-08-31 22:00:00\n",
       " 40918  69.880  69.880  69.880  69.880     0.0 2024-08-31 23:00:00\n",
       " \n",
       " [40919 rows x 6 columns],\n",
       " 'OJUICE.CMDUSX_Candlestick_1_Hour_BID_01.01.2020-31.08.2024.csv':           Open     High      Low    Close  Volume                Time\n",
       " 0       99.124   99.124   99.124   99.124     0.0 2020-01-01 00:00:00\n",
       " 1       99.124   99.124   99.124   99.124     0.0 2020-01-01 01:00:00\n",
       " 2       99.124   99.124   99.124   99.124     0.0 2020-01-01 02:00:00\n",
       " 3       99.124   99.124   99.124   99.124     0.0 2020-01-01 03:00:00\n",
       " 4       99.124   99.124   99.124   99.124     0.0 2020-01-01 04:00:00\n",
       " ...        ...      ...      ...      ...     ...                 ...\n",
       " 40914  456.705  456.705  456.705  456.705     0.0 2024-08-31 19:00:00\n",
       " 40915  456.705  456.705  456.705  456.705     0.0 2024-08-31 20:00:00\n",
       " 40916  456.705  456.705  456.705  456.705     0.0 2024-08-31 21:00:00\n",
       " 40917  456.705  456.705  456.705  456.705     0.0 2024-08-31 22:00:00\n",
       " 40918  456.705  456.705  456.705  456.705     0.0 2024-08-31 23:00:00\n",
       " \n",
       " [40919 rows x 6 columns],\n",
       " 'USTBOND.TRUSD_Candlestick_1_Hour_BID_01.01.2020-31.08.2024.csv':           Open     High      Low    Close  Volume                Time\n",
       " 0      155.500  155.500  155.500  155.500     0.0 2020-01-01 00:00:00\n",
       " 1      155.500  155.500  155.500  155.500     0.0 2020-01-01 01:00:00\n",
       " 2      155.500  155.500  155.500  155.500     0.0 2020-01-01 02:00:00\n",
       " 3      155.500  155.500  155.500  155.500     0.0 2020-01-01 03:00:00\n",
       " 4      155.500  155.500  155.500  155.500     0.0 2020-01-01 04:00:00\n",
       " ...        ...      ...      ...      ...     ...                 ...\n",
       " 40914  123.115  123.115  123.115  123.115     0.0 2024-08-31 19:00:00\n",
       " 40915  123.115  123.115  123.115  123.115     0.0 2024-08-31 20:00:00\n",
       " 40916  123.115  123.115  123.115  123.115     0.0 2024-08-31 21:00:00\n",
       " 40917  123.115  123.115  123.115  123.115     0.0 2024-08-31 22:00:00\n",
       " 40918  123.115  123.115  123.115  123.115     0.0 2024-08-31 23:00:00\n",
       " \n",
       " [40919 rows x 6 columns],\n",
       " 'USATECH.IDXUSD_Candlestick_1_Hour_BID_01.01.2020-31.08.2024.csv':             Open       High        Low      Close  Volume                Time\n",
       " 0       8744.580   8744.580   8744.580   8744.580     0.0 2020-01-01 00:00:00\n",
       " 1       8744.580   8744.580   8744.580   8744.580     0.0 2020-01-01 01:00:00\n",
       " 2       8744.580   8744.580   8744.580   8744.580     0.0 2020-01-01 02:00:00\n",
       " 3       8744.580   8744.580   8744.580   8744.580     0.0 2020-01-01 03:00:00\n",
       " 4       8744.580   8744.580   8744.580   8744.580     0.0 2020-01-01 04:00:00\n",
       " ...          ...        ...        ...        ...     ...                 ...\n",
       " 40914  19544.219  19544.219  19544.219  19544.219     0.0 2024-08-31 19:00:00\n",
       " 40915  19544.219  19544.219  19544.219  19544.219     0.0 2024-08-31 20:00:00\n",
       " 40916  19544.219  19544.219  19544.219  19544.219     0.0 2024-08-31 21:00:00\n",
       " 40917  19544.219  19544.219  19544.219  19544.219     0.0 2024-08-31 22:00:00\n",
       " 40918  19544.219  19544.219  19544.219  19544.219     0.0 2024-08-31 23:00:00\n",
       " \n",
       " [40919 rows x 6 columns],\n",
       " 'COFFEE.CMDUSX_Candlestick_1_Hour_BID_01.01.2020-31.08.2024.csv':           Open     High      Low    Close  Volume                Time\n",
       " 0      129.014  129.014  129.014  129.014     0.0 2020-01-01 00:00:00\n",
       " 1      129.014  129.014  129.014  129.014     0.0 2020-01-01 01:00:00\n",
       " 2      129.014  129.014  129.014  129.014     0.0 2020-01-01 02:00:00\n",
       " 3      129.014  129.014  129.014  129.014     0.0 2020-01-01 03:00:00\n",
       " 4      129.014  129.014  129.014  129.014     0.0 2020-01-01 04:00:00\n",
       " ...        ...      ...      ...      ...     ...                 ...\n",
       " 40914  243.157  243.157  243.157  243.157     0.0 2024-08-31 19:00:00\n",
       " 40915  243.157  243.157  243.157  243.157     0.0 2024-08-31 20:00:00\n",
       " 40916  243.157  243.157  243.157  243.157     0.0 2024-08-31 21:00:00\n",
       " 40917  243.157  243.157  243.157  243.157     0.0 2024-08-31 22:00:00\n",
       " 40918  243.157  243.157  243.157  243.157     0.0 2024-08-31 23:00:00\n",
       " \n",
       " [40919 rows x 6 columns],\n",
       " 'GAS.CMDUSD_Candlestick_1_Hour_BID_01.01.2020-31.08.2024.csv':          Open    High     Low   Close  Volume                Time\n",
       " 0      2.1790  2.1790  2.1790  2.1790     0.0 2020-01-01 00:00:00\n",
       " 1      2.1790  2.1790  2.1790  2.1790     0.0 2020-01-01 01:00:00\n",
       " 2      2.1790  2.1790  2.1790  2.1790     0.0 2020-01-01 02:00:00\n",
       " 3      2.1790  2.1790  2.1790  2.1790     0.0 2020-01-01 03:00:00\n",
       " 4      2.1790  2.1790  2.1790  2.1790     0.0 2020-01-01 04:00:00\n",
       " ...       ...     ...     ...     ...     ...                 ...\n",
       " 40914  2.1407  2.1407  2.1407  2.1407     0.0 2024-08-31 19:00:00\n",
       " 40915  2.1407  2.1407  2.1407  2.1407     0.0 2024-08-31 20:00:00\n",
       " 40916  2.1407  2.1407  2.1407  2.1407     0.0 2024-08-31 21:00:00\n",
       " 40917  2.1407  2.1407  2.1407  2.1407     0.0 2024-08-31 22:00:00\n",
       " 40918  2.1407  2.1407  2.1407  2.1407     0.0 2024-08-31 23:00:00\n",
       " \n",
       " [40919 rows x 6 columns]}"
      ]
     },
     "execution_count": 23,
     "metadata": {},
     "output_type": "execute_result"
    }
   ],
   "source": [
    "data_dict"
   ]
  },
  {
   "cell_type": "code",
   "execution_count": 27,
   "metadata": {},
   "outputs": [],
   "source": [
    "AUDUSD_Candlestick_1_Hour_BID_01_df = data_dict['AUDUSD_Candlestick_1_Hour_BID_01.01.2020-31.08.2024.csv'][['Time', 'Close']]\n",
    "NZDUSD_Candlestick_1_Hour_BID_01_df = data_dict['NZDUSD_Candlestick_1_Hour_BID_01.01.2020-31.08.2024.csv'][['Time', 'Close']]\n",
    "\n",
    "\n",
    "# Create a folder to store the CSV files (if it doesn't already exist)\n",
    "folder_name = \"cointegrated_pairs_data\"\n",
    "os.makedirs(folder_name, exist_ok=True)\n",
    "\n",
    "# Save the DataFrames with the Time column\n",
    "AUDUSD_Candlestick_1_Hour_BID_01_df.to_csv(os.path.join(folder_name, 'AUDUSD_df.csv'), index=False)\n",
    "NZDUSD_Candlestick_1_Hour_BID_01_df.to_csv(os.path.join(folder_name, 'NZDUSD_df.csv'), index=False)"
   ]
  },
  {
   "cell_type": "code",
   "execution_count": null,
   "metadata": {},
   "outputs": [],
   "source": []
  }
 ],
 "metadata": {
  "kernelspec": {
   "display_name": "base",
   "language": "python",
   "name": "python3"
  },
  "language_info": {
   "codemirror_mode": {
    "name": "ipython",
    "version": 3
   },
   "file_extension": ".py",
   "mimetype": "text/x-python",
   "name": "python",
   "nbconvert_exporter": "python",
   "pygments_lexer": "ipython3",
   "version": "3.11.4"
  },
  "orig_nbformat": 4
 },
 "nbformat": 4,
 "nbformat_minor": 2
}
